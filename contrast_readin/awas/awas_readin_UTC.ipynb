{
 "cells": [
  {
   "cell_type": "code",
   "execution_count": 91,
   "metadata": {},
   "outputs": [],
   "source": [
    "# script to read in awas data for flights 5 - 14\n",
    "# remove samples in SH, near guam, and where tracer values < 0 "
   ]
  },
  {
   "cell_type": "code",
   "execution_count": 1,
   "metadata": {},
   "outputs": [],
   "source": [
    "import xarray as xr\n",
    "import numpy as np \n",
    "from matplotlib import pyplot as plt\n",
    "import pandas as pd"
   ]
  },
  {
   "cell_type": "code",
   "execution_count": null,
   "metadata": {},
   "outputs": [],
   "source": []
  },
  {
   "cell_type": "code",
   "execution_count": 2,
   "metadata": {},
   "outputs": [],
   "source": [
    "### ---------------------- READ IN DATA  ---------------------- ###\n",
    "# path to data\n",
    "mypath = '/Volumes/scdrive2/contrast_merge_data/contrast_awas_merge/*.nc'\n",
    "\n",
    "# read in merge all flights \n",
    "contrast_init = xr.open_mfdataset(mypath, combine='by_coords')\n",
    "# drop the variables without category metadata (no instrument)\n",
    "contrast_init = contrast_init.drop('DOAS_BrO').drop('DOAS_delta_BrO')\n",
    "\n",
    "# change coordinate from \"Time\" to \"Time_UTC\"\n",
    "#contrast_init.coords['Time_UTC'] = (contrast_init.Time_UTC)"
   ]
  },
  {
   "cell_type": "code",
   "execution_count": null,
   "metadata": {},
   "outputs": [],
   "source": []
  },
  {
   "cell_type": "code",
   "execution_count": 3,
   "metadata": {},
   "outputs": [
    {
     "name": "stdout",
     "output_type": "stream",
     "text": [
      "C2H6_Ethane\n",
      "C2H2_Ethyne\n",
      "C3H8_Propane\n",
      "C4H10_Isobutane\n",
      "C4H10_nButane\n",
      "C5H12_Isopentane\n",
      "C5H12_nPentane\n",
      "C5H8_Isoprene\n",
      "C6H6_Benzene\n",
      "OCS_Carbonyl_sulfide\n",
      "C2H6S_Dimethyl_sulfide\n",
      "CCl2F2_CFC_12\n",
      "CCl3F_CFC_11\n",
      "CCl2FCCl2F_CFC112\n",
      "CCl3CClF2_CFC_112a\n",
      "C2Cl3F3_CFC_113\n",
      "C2Cl2F4_CFC_114\n",
      "CHClF2_HCFC_22\n",
      "CH3CClF2_HCFC_142b\n",
      "CH3CCl2F_HCFC_141b\n",
      "CH2FCF3_HFC_134a\n",
      "C4H5F5_HFC365mfc\n",
      "CH3Cl_Methyl_chloride\n",
      "CH3Br_Methyl_bromide\n",
      "CH3I_Methyl_iodide\n",
      "CH2Cl2_Methylene_chloride\n",
      "CHCl3_Chloroform\n",
      "CH3CCl3_Methyl_chloroform\n",
      "CCl4_Carbon_tetrachloride\n",
      "C2H4Cl2_1_2_Dichloroethane\n",
      "C2HCl3_Trichloroethylene\n",
      "C2Cl4_Tetrachloroethylene\n",
      "C6H5Cl_Chlorobenzene\n",
      "CBrClF2_Halon_1211\n",
      "C2Br2F4_Halon_2402\n",
      "CH2BrCl_Bromochloromethane\n",
      "CH2Br2_Methylene_bromide\n",
      "CHBrCl2_Bromodichloromethane\n",
      "CHBr2Cl_Dibromochloromethane\n",
      "CHBr3_Bromoform\n",
      "CH3ONO2_Methyl_nitrate\n",
      "C2H5ONO2_Ethyl_nitrate\n",
      "C3H7NO3_Isopropyl_nitrate\n",
      "C4H9NO3_2_Butyl_nitrate\n",
      "C4H9NO3_n_Butyl_nitrate\n",
      "C5H11NO3_3_pentyl_nitrate\n",
      "C5H11NO3_2_pentyl_nitrate\n"
     ]
    }
   ],
   "source": [
    "### --- what instruments do each data variable come from?\n",
    "#for ii in contrast_init.data_vars:\n",
    "#    print(contrast_init[ii].attrs['Category'])\n",
    "\n",
    "### --- print each awas measured tracer \n",
    "for ii in contrast_init.data_vars:\n",
    "    if contrast_init[ii].attrs['Category'] == 'AWAS':\n",
    "        print(contrast_init[ii].long_name)"
   ]
  },
  {
   "cell_type": "code",
   "execution_count": 4,
   "metadata": {},
   "outputs": [
    {
     "name": "stdout",
     "output_type": "stream",
     "text": [
      "40\n"
     ]
    },
    {
     "data": {
      "text/plain": [
       "<xarray.Dataset>\n",
       "Dimensions:   (Time: 597)\n",
       "Coordinates:\n",
       "  * Time      (Time) datetime64[ns] 2014-01-22T00:20:25 ... 2014-02-22T08:51:48\n",
       "Data variables:\n",
       "    GGALT     (Time) float32 dask.array<chunksize=(59,), meta=np.ndarray>\n",
       "    GGLAT     (Time) float32 dask.array<chunksize=(59,), meta=np.ndarray>\n",
       "    GGLON     (Time) float32 dask.array<chunksize=(59,), meta=np.ndarray>\n",
       "    Time_UTC  (Time) datetime64[ns] dask.array<chunksize=(59,), meta=np.ndarray>"
      ]
     },
     "execution_count": 4,
     "metadata": {},
     "output_type": "execute_result"
    }
   ],
   "source": [
    "### --- subset the data so that we only keep awas tracers that we want \n",
    "# empyt dataset to fill with awas data \n",
    "awas_init = xr.Dataset()\n",
    "# fill with anything that has 'awas' as the category\n",
    "for ii in contrast_init.data_vars:\n",
    "    if contrast_init[ii].attrs['Category'] == 'AWAS':\n",
    "        awas_init[ii] = contrast_init[ii]\n",
    "        \n",
    "### --- remove any AWAS tracers we dont use in TTS paper (40 awas total used)\n",
    "awas_trc_prelim = awas_init.drop('C5H12_Isopentane').drop('C5H8_Isoprene'). \\\n",
    "    drop('CH3I_Methyl_iodide'). \\\n",
    "    drop('C2HCl3_Trichloroethylene').drop('CH3ONO2_Methyl_nitrate'). \\\n",
    "    drop('C5H11NO3_3_pentyl_nitrate').drop('C5H11NO3_2_pentyl_nitrate')\n",
    "print(len(awas_trc_prelim))\n",
    "\n",
    "### --- awas aircraft parameters and location \n",
    "awas_param_init = xr.merge([contrast_init.GGALT, contrast_init.GGLAT, contrast_init.GGLON, \n",
    "                           contrast_init.Time_UTC])\n",
    "awas_param_init               \n",
    "    #contrast_init.WIC, contrast_init.PALT, contrast_init.RHUM])"
   ]
  },
  {
   "cell_type": "code",
   "execution_count": 5,
   "metadata": {},
   "outputs": [
    {
     "name": "stdout",
     "output_type": "stream",
     "text": [
      "527\n"
     ]
    },
    {
     "name": "stderr",
     "output_type": "stream",
     "text": [
      "//anaconda3/envs/py3/lib/python3.7/site-packages/ipykernel_launcher.py:5: RuntimeWarning: invalid value encountered in greater\n",
      "  \"\"\"\n"
     ]
    }
   ],
   "source": [
    "### ---------------------- CONFINE TO NH  ---------------------- ###\n",
    "\n",
    "# take a look at where values for latitude lie - NH, SH, or nan\n",
    "#southhem = np.where(awas_param_init.GGLAT.values < 0)\n",
    "northhem = np.where(awas_param_init.GGLAT.values > 0)\n",
    "print(np.size(northhem))\n",
    "#nullinit = np.isnan(awas_param_init.GGLAT.values).sum()\n",
    "\n",
    "# keep only NH values, rewrite to awas_param \n",
    "awas_param_noblcorr = xr.Dataset()\n",
    "for ii in awas_param_init.data_vars:\n",
    "    param = awas_param_init[ii]\n",
    "    nh_only = param[northhem].values \n",
    "    awas_param_noblcorr[ii] = nh_only\n",
    "    \n",
    "# select NH only for all tracers \n",
    "awas_trc_nh = xr.Dataset()\n",
    "for ii in awas_trc_prelim.data_vars:\n",
    "    trc = awas_trc_prelim[ii]\n",
    "    nh_only = trc[northhem]\n",
    "    awas_trc_nh[ii] = nh_only"
   ]
  },
  {
   "cell_type": "code",
   "execution_count": 6,
   "metadata": {
    "scrolled": true
   },
   "outputs": [],
   "source": [
    "### ---------------------- REMOVE NULL VALUES, < 0 VALUES ---------------------- ###\n",
    "# ignore comparison to nan warnings (for where trc<0)\n",
    "np.warnings.filterwarnings('ignore')\n",
    "\n",
    "### null values (-777, -888), make = nan \n",
    "awas_trc_noblcorr = xr.Dataset()\n",
    "for ii in awas_trc_nh.data_vars:\n",
    "    trc = awas_trc_nh[ii]\n",
    "    trc_vals = trc.values\n",
    "    \n",
    "    # -------- locations for fills\n",
    "    llod = awas_trc_nh[ii].attrs['LLOD']\n",
    "    ulod = awas_trc_nh[ii].attrs['ULOD']\n",
    "    \n",
    "    # -------- make those locations nan and save to variable \n",
    "    #trc_masked = trc.where((trc.values != llod) & (trc.values != ulod))\n",
    "    trc_masked = np.ma.masked_where(trc_vals < 0, trc_vals)\n",
    "    trc_masked = np.ma.masked_where(trc_vals == llod, trc_masked)\n",
    "    trc_masked = np.ma.masked_where(trc_vals == ulod, trc_masked)\n",
    "    trc.values = trc_masked \n",
    "    \n",
    "    awas_trc_noblcorr[ii] = trc"
   ]
  },
  {
   "cell_type": "code",
   "execution_count": 7,
   "metadata": {},
   "outputs": [],
   "source": [
    "### ---------------------- ADD LIFETIMES AS AN ATTRIBUTE ---------------------- ###\n",
    "### --- add attribute to each (BL, tropo, and UT lifetimes)\n",
    "# read in from xls file to make dataframe\n",
    "mypath2 = '/Volumes/scdrive2/TTS_2020/contrast_readin/awas/awas_lifetimes_12162019.xlsx'\n",
    "awas_lifetimes = pd.read_excel(mypath2)\n",
    "\n",
    "# fill in lifetime attributes using that dataframe \n",
    "for ii in enumerate(awas_trc_noblcorr.data_vars):\n",
    "    myind = ii[0]\n",
    "    trc = ii[1]\n",
    "    awas_trc_noblcorr[trc].attrs['BL_lifetime'] = awas_lifetimes['BL_tau'][myind]\n",
    "    awas_trc_noblcorr[trc].attrs['UT_lifetime'] = awas_lifetimes['UT_tau'][myind]\n",
    "    awas_trc_noblcorr[trc].attrs['TROPO_lifetime'] = awas_lifetimes['TROPO_tau'][myind]"
   ]
  },
  {
   "cell_type": "code",
   "execution_count": 8,
   "metadata": {},
   "outputs": [
    {
     "name": "stdout",
     "output_type": "stream",
     "text": [
      "17.76 17.28\n"
     ]
    }
   ],
   "source": [
    "### ---------------------- REMOVE BL SAMPLES NEAR GUAM ---------------------- ###\n",
    "# ~111 km/degree lat and ~108 km/degree long\n",
    "# so this is about 11 km around guam \n",
    "# https://www.johndcook.com/how_big_is_a_degree.html\n",
    "guam_coord = [13.4, 144.8]\n",
    "cut = 0.16\n",
    "print((111*0.16), (108*0.16))\n",
    "guam_lat_cuts = [guam_coord[0]-cut, guam_coord[0]+cut]\n",
    "guam_lon_cuts = [guam_coord[1]-cut, guam_coord[1]+cut]\n",
    "\n",
    "# get the regions near guam to mask out and altitudes (not BL)\n",
    "null_lat = np.where((awas_param_noblcorr.GGLAT > guam_lat_cuts[0]) \n",
    "                    & (awas_param_noblcorr.GGLAT < guam_lat_cuts[1]))\n",
    "null_lon = np.where((awas_param_noblcorr.GGLON > guam_lon_cuts[0]) \n",
    "                    & (awas_param_noblcorr.GGLON < guam_lon_cuts[1]))\n",
    "null_alt = np.where((awas_param_noblcorr.GGALT < 4000))\n",
    "\n",
    "# get intersection, index list to mask \n",
    "near_guam = np.intersect1d(null_lat, null_lon, null_alt)\n",
    "\n",
    "# get the opposite of that index, NOT near guam \n",
    "#not_guam = np.arange(0, len(toga_param.GGALT.values), dtype = float)\n",
    "#not_guam[near_guam]=np.nan\n",
    "\n",
    "not_guam = np.arange(0, len(awas_param_noblcorr.GGALT.values))\n",
    "not_guam = np.delete(not_guam, near_guam)"
   ]
  },
  {
   "cell_type": "code",
   "execution_count": 9,
   "metadata": {},
   "outputs": [],
   "source": [
    "# keep only non-guam values - AIRCRAFT PARAM \n",
    "awas_param = xr.Dataset()\n",
    "for ii in awas_param_noblcorr.coords:\n",
    "    param = awas_param_noblcorr[ii]\n",
    "    param_noguam = param[not_guam].values \n",
    "    awas_param[ii] = param_noguam\n",
    "\n",
    "# keep only non-guam values - TRACERS \n",
    "awas_trc = xr.Dataset()\n",
    "for ii in awas_trc_noblcorr.data_vars:\n",
    "    trc = awas_trc_noblcorr[ii]\n",
    "    trc_noguam = trc[not_guam]\n",
    "    awas_trc[ii] = trc_noguam\n"
   ]
  },
  {
   "cell_type": "code",
   "execution_count": 10,
   "metadata": {},
   "outputs": [],
   "source": [
    "### ---------------------- ADD AC PARAMETERS AS COORDINATES ---------------------- ###\n",
    "# ---- add parameters as coordinates \n",
    "for ii in awas_param.coords:\n",
    "    my_coord = awas_param[ii]\n",
    "    awas_trc.coords[ii] = my_coord"
   ]
  },
  {
   "cell_type": "code",
   "execution_count": 11,
   "metadata": {},
   "outputs": [
    {
     "data": {
      "text/plain": [
       "<xarray.Dataset>\n",
       "Dimensions:                       (GGALT: 525, GGLAT: 525, GGLON: 525, Time: 525, Time_UTC: 525)\n",
       "Coordinates:\n",
       "  * Time                          (Time) datetime64[ns] 2014-01-22T00:20:25 ... 2014-02-22T08:51:48\n",
       "  * GGALT                         (GGALT) float32 3846.6377 ... 15235.298\n",
       "  * GGLAT                         (GGLAT) float32 13.294079 ... 9.360893\n",
       "  * GGLON                         (GGLON) float32 145.20465 ... 145.31483\n",
       "  * Time_UTC                      (Time_UTC) datetime64[ns] 2014-01-22T00:20:30 ... 2014-02-22T08:52:05\n",
       "Data variables:\n",
       "    C2H6_Ethane                   (Time) float32 447.0 436.0 ... 480.0 483.0\n",
       "    C2H2_Ethyne                   (Time) float32 81.0 60.0 52.0 ... 48.0 47.0\n",
       "    C3H8_Propane                  (Time) float32 31.0 29.0 26.0 ... 35.0 26.0\n",
       "    C4H10_Isobutane               (Time) float32 4.0 1.9 1.9 1.9 ... 1.4 1.1 1.4\n",
       "    C4H10_nButane                 (Time) float32 7.1 4.3 3.7 3.2 ... 1.9 2.4 1.9\n",
       "    C5H12_nPentane                (Time) float32 1.3 0.1 0.5 nan ... nan nan nan\n",
       "    C6H6_Benzene                  (Time) float32 9.7 7.2 6.9 6.6 ... 6.3 6.7 6.9\n",
       "    OCS_Carbonyl_sulfide          (Time) float32 575.0 561.0 ... 542.0 537.0\n",
       "    C2H6S_Dimethyl_sulfide        (Time) float32 15.5 21.3 14.6 ... 0.0 nan nan\n",
       "    CCl2F2_CFC_12                 (Time) float32 517.0 519.0 ... 526.0 526.0\n",
       "    CCl3F_CFC_11                  (Time) float32 235.0 233.0 ... 234.0 236.0\n",
       "    CCl2FCCl2F_CFC112             (Time) float32 0.44 0.47 0.44 ... 0.45 0.48\n",
       "    CCl3CClF2_CFC_112a            (Time) float32 0.09 0.08 0.09 ... 0.11 0.09\n",
       "    C2Cl3F3_CFC_113               (Time) float32 73.5 73.2 74.9 ... 72.9 74.2\n",
       "    C2Cl2F4_CFC_114               (Time) float32 15.6 15.6 16.2 ... 15.7 15.9\n",
       "    CHClF2_HCFC_22                (Time) float32 225.0 225.0 ... 233.0 238.0\n",
       "    CH3CClF2_HCFC_142b            (Time) float32 21.3 21.5 21.7 ... 21.5 21.7\n",
       "    CH3CCl2F_HCFC_141b            (Time) float32 23.9 23.5 24.2 ... 23.4 23.7\n",
       "    CH2FCF3_HFC_134a              (Time) float32 75.5 74.6 76.0 ... 76.8 76.2\n",
       "    C4H5F5_HFC365mfc              (Time) float32 1.19 1.14 1.24 ... 1.23 1.28\n",
       "    CH3Cl_Methyl_chloride         (Time) float32 552.0 553.0 ... 569.0 560.0\n",
       "    CH3Br_Methyl_bromide          (Time) float32 7.8 7.7 7.56 ... 7.37 7.25 7.24\n",
       "    CH2Cl2_Methylene_chloride     (Time) float32 43.95 42.71 ... 40.68 40.44\n",
       "    CHCl3_Chloroform              (Time) float32 8.52 8.18 8.47 ... 7.22 7.5\n",
       "    CH3CCl3_Methyl_chloroform     (Time) float32 4.33 4.16 4.3 ... 3.77 3.82\n",
       "    CCl4_Carbon_tetrachloride     (Time) float32 84.2 83.3 85.7 ... 81.7 82.8\n",
       "    C2H4Cl2_1_2_Dichloroethane    (Time) float32 10.89 10.31 11.36 ... 8.14 8.55\n",
       "    C2Cl4_Tetrachloroethylene     (Time) float32 0.93 0.9 0.98 ... 0.79 0.78\n",
       "    C6H5Cl_Chlorobenzene          (Time) float32 0.65 0.63 0.62 ... 0.18 0.14\n",
       "    CBrClF2_Halon_1211            (Time) float32 nan nan nan ... 3.66 3.67 3.66\n",
       "    C2Br2F4_Halon_2402            (Time) float32 0.43 0.42 0.43 ... 0.41 0.43\n",
       "    CH2BrCl_Bromochloromethane    (Time) float32 0.11 0.13 0.14 ... 0.12 0.12\n",
       "    CH2Br2_Methylene_bromide      (Time) float32 0.96 0.98 1.04 ... 0.85 0.83\n",
       "    CHBrCl2_Bromodichloromethane  (Time) float32 nan nan nan ... 0.14 0.23 0.24\n",
       "    CHBr2Cl_Dibromochloromethane  (Time) float32 0.32 0.38 0.52 ... 0.11 0.11\n",
       "    CHBr3_Bromoform               (Time) float32 0.77 0.76 0.8 ... 0.36 0.33\n",
       "    C2H5ONO2_Ethyl_nitrate        (Time) float32 4.2 4.36 4.08 ... 1.59 1.56\n",
       "    C3H7NO3_Isopropyl_nitrate     (Time) float32 1.94 1.78 1.8 ... 0.59 0.59\n",
       "    C4H9NO3_2_Butyl_nitrate       (Time) float32 1.11 0.91 1.07 ... 0.13 0.11\n",
       "    C4H9NO3_n_Butyl_nitrate       (Time) float32 0.0 0.0 0.0 ... 0.03 0.04 0.03"
      ]
     },
     "execution_count": 11,
     "metadata": {},
     "output_type": "execute_result"
    }
   ],
   "source": [
    "awas_trc"
   ]
  },
  {
   "cell_type": "code",
   "execution_count": 13,
   "metadata": {},
   "outputs": [
    {
     "name": "stdout",
     "output_type": "stream",
     "text": [
      "finished saving tracers\n"
     ]
    }
   ],
   "source": [
    "### ---------------------- SAVE ---------------------- ###\n",
    "### pickle it! \n",
    "awas_trc.to_netcdf(path = '/Volumes/scdrive2/TTS_2020/contrast_readin/awas/awas_trace_gases.nc')\n",
    "print ('finished saving tracers')"
   ]
  },
  {
   "cell_type": "code",
   "execution_count": null,
   "metadata": {},
   "outputs": [],
   "source": []
  },
  {
   "cell_type": "code",
   "execution_count": null,
   "metadata": {},
   "outputs": [],
   "source": []
  },
  {
   "cell_type": "code",
   "execution_count": null,
   "metadata": {},
   "outputs": [],
   "source": []
  },
  {
   "cell_type": "code",
   "execution_count": null,
   "metadata": {},
   "outputs": [],
   "source": []
  },
  {
   "cell_type": "code",
   "execution_count": null,
   "metadata": {},
   "outputs": [],
   "source": []
  },
  {
   "cell_type": "code",
   "execution_count": 103,
   "metadata": {},
   "outputs": [
    {
     "data": {
      "text/plain": [
       "[<matplotlib.lines.Line2D at 0x7f5519b22d10>]"
      ]
     },
     "execution_count": 103,
     "metadata": {},
     "output_type": "execute_result"
    },
    {
     "data": {
      "image/png": "[encoded data removed]",
      "text/plain": [
       "<Figure size 432x288 with 1 Axes>"
      ]
     },
     "metadata": {
      "needs_background": "light"
     },
     "output_type": "display_data"
    }
   ],
   "source": [
    "plt.plot(awas_trc.C2H6S_Dimethyl_sulfide)"
   ]
  },
  {
   "cell_type": "code",
   "execution_count": 104,
   "metadata": {},
   "outputs": [
    {
     "data": {
      "text/plain": [
       "[<matplotlib.lines.Line2D at 0x7f5561fb3a90>]"
      ]
     },
     "execution_count": 104,
     "metadata": {},
     "output_type": "execute_result"
    },
    {
     "data": {
      "image/png": "[encoded data removed]",
      "text/plain": [
       "<Figure size 432x288 with 1 Axes>"
      ]
     },
     "metadata": {
      "needs_background": "light"
     },
     "output_type": "display_data"
    }
   ],
   "source": [
    "plt.plot(awas_trc.GGLON, awas_trc.GGLAT)"
   ]
  },
  {
   "cell_type": "code",
   "execution_count": null,
   "metadata": {},
   "outputs": [],
   "source": []
  },
  {
   "cell_type": "code",
   "execution_count": null,
   "metadata": {},
   "outputs": [],
   "source": []
  },
  {
   "cell_type": "code",
   "execution_count": null,
   "metadata": {},
   "outputs": [],
   "source": []
  },
  {
   "cell_type": "code",
   "execution_count": null,
   "metadata": {},
   "outputs": [],
   "source": []
  },
  {
   "cell_type": "code",
   "execution_count": null,
   "metadata": {},
   "outputs": [],
   "source": []
  },
  {
   "cell_type": "code",
   "execution_count": null,
   "metadata": {},
   "outputs": [],
   "source": []
  },
  {
   "cell_type": "code",
   "execution_count": null,
   "metadata": {},
   "outputs": [],
   "source": []
  },
  {
   "cell_type": "code",
   "execution_count": null,
   "metadata": {},
   "outputs": [],
   "source": []
  },
  {
   "cell_type": "code",
   "execution_count": null,
   "metadata": {},
   "outputs": [],
   "source": []
  },
  {
   "cell_type": "code",
   "execution_count": null,
   "metadata": {},
   "outputs": [],
   "source": []
  }
 ],
 "metadata": {
  "kernelspec": {
   "display_name": "Python [conda env:py3] *",
   "language": "python",
   "name": "conda-env-py3-py"
  },
  "language_info": {
   "codemirror_mode": {
    "name": "ipython",
    "version": 3
   },
   "file_extension": ".py",
   "mimetype": "text/x-python",
   "name": "python",
   "nbconvert_exporter": "python",
   "pygments_lexer": "ipython3",
   "version": "3.7.4"
  }
 },
 "nbformat": 4,
 "nbformat_minor": 2
}
