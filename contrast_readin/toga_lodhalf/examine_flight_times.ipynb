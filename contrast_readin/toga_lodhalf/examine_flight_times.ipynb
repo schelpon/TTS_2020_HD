{
 "cells": [
  {
   "cell_type": "code",
   "execution_count": 2,
   "metadata": {},
   "outputs": [],
   "source": [
    "# scrip to look at what calendar day different research flight days took place on \n",
    "# Because of time change/UTC some flight days have data split over two calendar days\n",
    "# So filtering and assigning flight day misses data\n",
    "# eg - RF06 is split between Jan 24 and 25 (although flight day listed as Jan 24)\n",
    "# date created: 02-17-2020\n",
    "# author: sofia chelpon"
   ]
  },
  {
   "cell_type": "code",
   "execution_count": 3,
   "metadata": {},
   "outputs": [],
   "source": [
    "import xarray as xr\n",
    "import numpy as np \n",
    "from matplotlib import pyplot as plt\n",
    "import pandas as pd\n",
    "import datetime as dt "
   ]
  },
  {
   "cell_type": "code",
   "execution_count": 16,
   "metadata": {},
   "outputs": [
    {
     "name": "stdout",
     "output_type": "stream",
     "text": [
      "RF 03 ---> 2014-01-17 00:16:24\n",
      "RF 04 ---> 2014-01-19 00:29:32\n",
      "RF 05 ---> 2014-01-22 00:18:24\n",
      "RF 06 ---> 2014-01-24 23:54:24\n",
      "RF06 splits days\n",
      "RF 07 ---> 2014-01-28 23:53:24\n",
      "RF07 splits days\n",
      "RF 08 ---> 2014-02-01 04:04:23\n",
      "RF 09 ---> 2014-02-05 00:00:24\n",
      "RF 10 ---> 2014-02-08 00:18:23\n",
      "RF 11 ---> 2014-02-12 23:59:43\n",
      "RF11 splits days\n",
      "RF 12 ---> 2014-02-17 00:04:23\n",
      "RF 13 ---> 2014-02-19 17:02:23\n",
      "RF13 splits days\n",
      "RF 14 ---> 2014-02-22 00:08:23\n"
     ]
    }
   ],
   "source": [
    "path = '/Volumes/scdrive2/contrast_merge_data/contrast_toga_merge/'\n",
    "# rf03\n",
    "rf03 = xr.open_dataset(path+'CONTRAST-TOGA-MERGE_GV_20140117_R1_rf03.nc')\n",
    "print('RF 03 ---> ' + str(pd.to_datetime(rf03.Time_UTC[0].values)))\n",
    "if ((pd.to_datetime(rf03.Time_UTC[0].values).day) != (pd.to_datetime(rf03.Time_UTC[-1].values).day)):\n",
    "    print('RF03 splits days')\n",
    "# rf04\n",
    "rf04 = xr.open_dataset(path+'CONTRAST-TOGA-MERGE_GV_20140119_R1_rf04.nc')\n",
    "print('RF 04 ---> ' + str(pd.to_datetime(rf04.Time_UTC[0].values)))\n",
    "if ((pd.to_datetime(rf04.Time_UTC[0].values).day) != (pd.to_datetime(rf04.Time_UTC[-1].values).day)):\n",
    "    print('RF04 splits days')\n",
    "# rf05\n",
    "rf05 = xr.open_dataset(path+'CONTRAST-TOGA-MERGE_GV_20140122_R1_rf05.nc')\n",
    "print('RF 05 ---> ' + str(pd.to_datetime(rf05.Time_UTC[0].values)))\n",
    "if ((pd.to_datetime(rf05.Time_UTC[0].values).day) != (pd.to_datetime(rf05.Time_UTC[-1].values).day)):\n",
    "    print('RF05 splits days')\n",
    "# rf06 \n",
    "rf06 = xr.open_dataset(path+'CONTRAST-TOGA-MERGE_GV_20140124_R1_rf06.nc')\n",
    "print('RF 06 ---> ' + str(pd.to_datetime(rf06.Time_UTC[0].values)))\n",
    "if ((pd.to_datetime(rf06.Time_UTC[0].values).day) != (pd.to_datetime(rf06.Time_UTC[-1].values).day)):\n",
    "    print('RF06 splits days')\n",
    "# rf07\n",
    "rf07 = xr.open_dataset(path+'CONTRAST-TOGA-MERGE_GV_20140128_R1_rf07.nc')\n",
    "print('RF 07 ---> ' + str(pd.to_datetime(rf07.Time_UTC[0].values)))\n",
    "if ((pd.to_datetime(rf07.Time_UTC[0].values).day) != (pd.to_datetime(rf07.Time_UTC[-1].values).day)):\n",
    "    print('RF07 splits days')\n",
    "# rf08\n",
    "rf08 = xr.open_dataset(path+'CONTRAST-TOGA-MERGE_GV_20140201_R1_rf08.nc')\n",
    "print('RF 08 ---> ' + str(pd.to_datetime(rf08.Time_UTC[0].values)))\n",
    "if ((pd.to_datetime(rf08.Time_UTC[0].values).day) != (pd.to_datetime(rf08.Time_UTC[-1].values).day)):\n",
    "    print('RF08 splits days')\n",
    "# rf09\n",
    "rf09 = xr.open_dataset(path+'CONTRAST-TOGA-MERGE_GV_20140204_R1_rf09.nc')\n",
    "print('RF 09 ---> ' + str(pd.to_datetime(rf09.Time_UTC[0].values)))\n",
    "if ((pd.to_datetime(rf09.Time_UTC[0].values).day) != (pd.to_datetime(rf09.Time_UTC[-1].values).day)):\n",
    "    print('RF09 splits days')\n",
    "# rf10\n",
    "rf10 = xr.open_dataset(path+'CONTRAST-TOGA-MERGE_GV_20140208_R1_rf10.nc')\n",
    "print('RF 10 ---> ' + str(pd.to_datetime(rf10.Time_UTC[0].values)))\n",
    "if ((pd.to_datetime(rf10.Time_UTC[0].values).day) != (pd.to_datetime(rf10.Time_UTC[-1].values).day)):\n",
    "    print('RF10 splits days')\n",
    "# rf11 \n",
    "rf11 = xr.open_dataset(path+'CONTRAST-TOGA-MERGE_GV_20140212_R1_rf11.nc')\n",
    "print('RF 11 ---> ' + str(pd.to_datetime(rf11.Time_UTC[0].values)))\n",
    "if ((pd.to_datetime(rf11.Time_UTC[0].values).day) != (pd.to_datetime(rf11.Time_UTC[-1].values).day)):\n",
    "    print('RF11 splits days')   \n",
    "# rf12\n",
    "rf12 = xr.open_dataset(path+'CONTRAST-TOGA-MERGE_GV_20140217_R1_rf12.nc')\n",
    "print('RF 12 ---> ' + str(pd.to_datetime(rf12.Time_UTC[0].values)))\n",
    "if ((pd.to_datetime(rf12.Time_UTC[0].values).day) != (pd.to_datetime(rf12.Time_UTC[-1].values).day)):\n",
    "    print('RF12 splits days')\n",
    "# rf13\n",
    "rf13 = xr.open_dataset(path+'CONTRAST-TOGA-MERGE_GV_20140219_R1_rf13.nc')\n",
    "print('RF 13 ---> ' + str(pd.to_datetime(rf13.Time_UTC[0].values)))\n",
    "if ((pd.to_datetime(rf13.Time_UTC[0].values).day) != (pd.to_datetime(rf13.Time_UTC[-1].values).day)):\n",
    "    print('RF13 splits days')\n",
    "# rf14\n",
    "rf14 = xr.open_dataset(path+'CONTRAST-TOGA-MERGE_GV_20140222_R1_rf14.nc')\n",
    "print('RF 14 ---> ' + str(pd.to_datetime(rf14.Time_UTC[0].values)))\n",
    "if ((pd.to_datetime(rf14.Time_UTC[0].values).day) != (pd.to_datetime(rf14.Time_UTC[-1].values).day)):\n",
    "    print('RF14 splits days')\n"
   ]
  },
  {
   "cell_type": "code",
   "execution_count": 18,
   "metadata": {},
   "outputs": [
    {
     "name": "stdout",
     "output_type": "stream",
     "text": [
      "RF06 starts on 2014-01-24 23:54:24 and ends on 2014-01-25 07:04:24\n",
      "RF07 starts on 2014-01-28 23:53:24 and ends on 2014-01-29 06:13:24\n",
      "RF11 starts on 2014-02-12 23:59:43 and ends on 2014-02-13 06:29:43\n",
      "RF13 starts on 2014-02-19 17:02:23 and ends on 2014-02-20 00:20:21\n"
     ]
    }
   ],
   "source": [
    "# get split days for RF06 \n",
    "print('RF06 starts on ' + str(pd.to_datetime(rf06.Time_UTC[0].values)) + \n",
    "      ' and ends on ' + str(pd.to_datetime(rf06.Time_UTC[-1].values)))\n",
    "# get split days for RF07\n",
    "print('RF07 starts on ' + str(pd.to_datetime(rf07.Time_UTC[0].values)) + \n",
    "      ' and ends on ' + str(pd.to_datetime(rf07.Time_UTC[-1].values)))\n",
    "# get split days for RF11\n",
    "print('RF11 starts on ' + str(pd.to_datetime(rf11.Time_UTC[0].values)) + \n",
    "      ' and ends on ' + str(pd.to_datetime(rf11.Time_UTC[-1].values)))\n",
    "# get split days for RF13\n",
    "print('RF13 starts on ' + str(pd.to_datetime(rf13.Time_UTC[0].values)) + \n",
    "      ' and ends on ' + str(pd.to_datetime(rf13.Time_UTC[-1].values)))"
   ]
  },
  {
   "cell_type": "code",
   "execution_count": 19,
   "metadata": {},
   "outputs": [
    {
     "name": "stdout",
     "output_type": "stream",
     "text": [
      "RF 05 ---> 2014-01-22 00:20:30\n",
      "RF 06 ---> 2014-01-25 00:26:10\n",
      "RF 07 ---> 2014-01-29 00:23:43\n",
      "RF 08 ---> 2014-02-01 04:20:42\n",
      "RF 09 ---> 2014-02-05 00:27:07\n",
      "RF 10 ---> 2014-02-08 00:32:33\n",
      "RF 11 ---> 2014-02-13 00:14:21\n",
      "RF 12 ---> 2014-02-17 00:29:48\n",
      "RF 13 ---> 2014-02-19 17:30:45\n",
      "RF 14 ---> 2014-02-22 00:37:11\n"
     ]
    }
   ],
   "source": [
    "path = '/Volumes/scdrive2/contrast_merge_data/contrast_awas_merge/'\n",
    "\n",
    "# rf05\n",
    "rf05 = xr.open_dataset(path+'CONTRAST-AWAS-MERGE_GV_20140122_R1_rf05.nc')\n",
    "print('RF 05 ---> ' + str(pd.to_datetime(rf05.Time_UTC[0].values)))\n",
    "if ((pd.to_datetime(rf05.Time_UTC[0].values).day) != (pd.to_datetime(rf05.Time_UTC[-1].values).day)):\n",
    "    print('RF05 splits days')\n",
    "# rf06 \n",
    "rf06 = xr.open_dataset(path+'CONTRAST-AWAS-MERGE_GV_20140124_R1_rf06.nc')\n",
    "print('RF 06 ---> ' + str(pd.to_datetime(rf06.Time_UTC[0].values)))\n",
    "if ((pd.to_datetime(rf06.Time_UTC[0].values).day) != (pd.to_datetime(rf06.Time_UTC[-1].values).day)):\n",
    "    print('RF06 splits days')\n",
    "    print('RF06 starts = ' + str(pd.to_datetime(rf06.Time_UTC[0].values)))\n",
    "    print('RF06 starts = ' + str(pd.to_datetime(rf06.Time_UTC[-1].values)))\n",
    "\n",
    "# rf07\n",
    "rf07 = xr.open_dataset(path+'CONTRAST-AWAS-MERGE_GV_20140128_R1_rf07.nc')\n",
    "print('RF 07 ---> ' + str(pd.to_datetime(rf07.Time_UTC[0].values)))\n",
    "if ((pd.to_datetime(rf07.Time_UTC[0].values).day) != (pd.to_datetime(rf07.Time_UTC[-1].values).day)):\n",
    "    print('RF07 splits days')\n",
    "    print('RF07 starts = ' + str(pd.to_datetime(rf07.Time_UTC[0].values)))\n",
    "    print('RF07 starts = ' + str(pd.to_datetime(rf07.Time_UTC[-1].values)))\n",
    "# rf08\n",
    "rf08 = xr.open_dataset(path+'CONTRAST-AWAS-MERGE_GV_20140201_R1_rf08.nc')\n",
    "print('RF 08 ---> ' + str(pd.to_datetime(rf08.Time_UTC[0].values)))\n",
    "if ((pd.to_datetime(rf08.Time_UTC[0].values).day) != (pd.to_datetime(rf08.Time_UTC[-1].values).day)):\n",
    "    print('RF08 splits days')\n",
    "# rf09\n",
    "rf09 = xr.open_dataset(path+'CONTRAST-AWAS-MERGE_GV_20140204_R1_rf09.nc')\n",
    "print('RF 09 ---> ' + str(pd.to_datetime(rf09.Time_UTC[0].values)))\n",
    "if ((pd.to_datetime(rf09.Time_UTC[0].values).day) != (pd.to_datetime(rf09.Time_UTC[-1].values).day)):\n",
    "    print('RF09 splits days')\n",
    "# rf10\n",
    "rf10 = xr.open_dataset(path+'CONTRAST-AWAS-MERGE_GV_20140208_R1_rf10.nc')\n",
    "print('RF 10 ---> ' + str(pd.to_datetime(rf10.Time_UTC[0].values)))\n",
    "if ((pd.to_datetime(rf10.Time_UTC[0].values).day) != (pd.to_datetime(rf10.Time_UTC[-1].values).day)):\n",
    "    print('RF10 splits days')\n",
    "# rf11 \n",
    "rf11 = xr.open_dataset(path+'CONTRAST-AWAS-MERGE_GV_20140212_R1_rf11.nc')\n",
    "print('RF 11 ---> ' + str(pd.to_datetime(rf11.Time_UTC[0].values)))\n",
    "if ((pd.to_datetime(rf11.Time_UTC[0].values).day) != (pd.to_datetime(rf11.Time_UTC[-1].values).day)):\n",
    "    print('RF11 splits days')\n",
    "    print('RF11 starts = ' + str(pd.to_datetime(rf11.Time_UTC[0].values)))\n",
    "    print('RF11 starts = ' + str(pd.to_datetime(rf11.Time_UTC[-1].values)))\n",
    "    \n",
    "# rf12\n",
    "rf12 = xr.open_dataset(path+'CONTRAST-AWAS-MERGE_GV_20140217_R1_rf12.nc')\n",
    "print('RF 12 ---> ' + str(pd.to_datetime(rf12.Time_UTC[0].values)))\n",
    "if ((pd.to_datetime(rf12.Time_UTC[0].values).day) != (pd.to_datetime(rf12.Time_UTC[-1].values).day)):\n",
    "    print('RF12 splits days')\n",
    "# rf13\n",
    "rf13 = xr.open_dataset(path+'CONTRAST-AWAS-MERGE_GV_20140219_R1_rf13.nc')\n",
    "print('RF 13 ---> ' + str(pd.to_datetime(rf13.Time_UTC[0].values)))\n",
    "if ((pd.to_datetime(rf13.Time_UTC[0].values).day) != (pd.to_datetime(rf13.Time_UTC[-1].values).day)):\n",
    "    print('RF13 splits days')\n",
    "    print('RF13 starts = ' + str(pd.to_datetime(rf13.Time_UTC[0].values)))\n",
    "    print('RF13 starts = ' + str(pd.to_datetime(rf13.Time_UTC[-1].values)))\n",
    "# rf14\n",
    "rf14 = xr.open_dataset(path+'CONTRAST-AWAS-MERGE_GV_20140222_R1_rf14.nc')\n",
    "print('RF 14 ---> ' + str(pd.to_datetime(rf14.Time_UTC[0].values)))\n",
    "if ((pd.to_datetime(rf14.Time_UTC[0].values).day) != (pd.to_datetime(rf14.Time_UTC[-1].values).day)):\n",
    "    print('RF14 splits days')\n"
   ]
  },
  {
   "cell_type": "code",
   "execution_count": null,
   "metadata": {},
   "outputs": [],
   "source": []
  },
  {
   "cell_type": "code",
   "execution_count": null,
   "metadata": {},
   "outputs": [],
   "source": []
  }
 ],
 "metadata": {
  "kernelspec": {
   "display_name": "Python [conda env:py3] *",
   "language": "python",
   "name": "conda-env-py3-py"
  },
  "language_info": {
   "codemirror_mode": {
    "name": "ipython",
    "version": 3
   },
   "file_extension": ".py",
   "mimetype": "text/x-python",
   "name": "python",
   "nbconvert_exporter": "python",
   "pygments_lexer": "ipython3",
   "version": "3.7.4"
  }
 },
 "nbformat": 4,
 "nbformat_minor": 2
}
