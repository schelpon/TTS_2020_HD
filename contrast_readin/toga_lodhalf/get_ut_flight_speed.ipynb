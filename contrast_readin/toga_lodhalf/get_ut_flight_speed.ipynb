{
 "cells": [
  {
   "cell_type": "code",
   "execution_count": 1,
   "metadata": {},
   "outputs": [],
   "source": [
    "# script to get aircraft speed in the UT to see length of UT segment "
   ]
  },
  {
   "cell_type": "code",
   "execution_count": 2,
   "metadata": {},
   "outputs": [],
   "source": [
    "import xarray as xr\n",
    "import numpy as np \n",
    "from matplotlib import pyplot as plt\n",
    "import pandas as pd"
   ]
  },
  {
   "cell_type": "code",
   "execution_count": 3,
   "metadata": {},
   "outputs": [],
   "source": [
    "# path to data\n",
    "mypath = '/mnt/home/sofia/TTS/contrast_merge_data/TOGA/*.nc'\n",
    "# read in merge all flights \n",
    "contrast_init = xr.open_mfdataset(mypath, combine='by_coords')"
   ]
  },
  {
   "cell_type": "code",
   "execution_count": 6,
   "metadata": {},
   "outputs": [
    {
     "name": "stdout",
     "output_type": "stream",
     "text": [
      "UT speed is 235.37973 m/s\n"
     ]
    },
    {
     "name": "stderr",
     "output_type": "stream",
     "text": [
      "/mnt/home/sofia/software/anaconda3/envs/py3/lib/python3.7/site-packages/dask/core.py:119: RuntimeWarning: invalid value encountered in greater\n",
      "  return func(*args2)\n",
      "/mnt/home/sofia/software/anaconda3/envs/py3/lib/python3.7/site-packages/dask/core.py:119: RuntimeWarning: invalid value encountered in less\n",
      "  return func(*args2)\n"
     ]
    }
   ],
   "source": [
    "## get aircraft speed \n",
    "speed = contrast_init.GGSPD\n",
    "\n",
    "# correct nondetects \n",
    "speed_vals = speed.values \n",
    "\n",
    "llod = speed.attrs['LLOD']\n",
    "where_llod = np.where(speed_vals == llod)\n",
    "speed_vals[where_llod] = np.nan\n",
    "\n",
    "ulod = speed.attrs['ULOD']\n",
    "where_ulod = np.where(speed_vals == ulod)\n",
    "speed_vals[where_ulod] = np.nan\n",
    "\n",
    "speed.values = speed_vals    \n",
    "\n",
    "# confine to the UT \n",
    "alt = contrast_init.GGALT\n",
    "where_ut = np.where((alt > 12000) & (alt < 14000))\n",
    "\n",
    "# average speed in the UT is.... \n",
    "ut_speed_mpers = np.nanmean(speed[where_ut])\n",
    "print('UT speed is ' + str(ut_speed_mpers) + ' m/s')"
   ]
  },
  {
   "cell_type": "code",
   "execution_count": 5,
   "metadata": {},
   "outputs": [
    {
     "data": {
      "text/plain": [
       "64.96480554199218"
      ]
     },
     "execution_count": 5,
     "metadata": {},
     "output_type": "execute_result"
    }
   ],
   "source": [
    "# length of segment \n",
    "seg_time_min = 4.6 \n",
    "seg_distance_km = (ut_speed_mpers * 60 *seg_time_min)/1000\n",
    "seg_distance_km "
   ]
  },
  {
   "cell_type": "code",
   "execution_count": null,
   "metadata": {},
   "outputs": [],
   "source": []
  }
 ],
 "metadata": {
  "kernelspec": {
   "display_name": "Python [conda env:py3] *",
   "language": "python",
   "name": "conda-env-py3-py"
  },
  "language_info": {
   "codemirror_mode": {
    "name": "ipython",
    "version": 3
   },
   "file_extension": ".py",
   "mimetype": "text/x-python",
   "name": "python",
   "nbconvert_exporter": "python",
   "pygments_lexer": "ipython3",
   "version": "3.7.5"
  }
 },
 "nbformat": 4,
 "nbformat_minor": 2
}
