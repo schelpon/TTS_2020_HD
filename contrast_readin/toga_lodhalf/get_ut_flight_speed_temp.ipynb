{
 "cells": [
  {
   "cell_type": "code",
   "execution_count": 1,
   "metadata": {},
   "outputs": [],
   "source": [
    "# script to get aircraft speed in the UT to see length of UT segment "
   ]
  },
  {
   "cell_type": "code",
   "execution_count": 1,
   "metadata": {},
   "outputs": [],
   "source": [
    "import xarray as xr\n",
    "import numpy as np \n",
    "from matplotlib import pyplot as plt\n",
    "import pandas as pd"
   ]
  },
  {
   "cell_type": "code",
   "execution_count": 2,
   "metadata": {},
   "outputs": [],
   "source": [
    "# path to data\n",
    "mypath = '/Volumes/scdrive2/contrast_merge_data/contrast_toga_merge/*.nc'\n",
    "# read in merge all flights \n",
    "contrast_init = xr.open_mfdataset(mypath, combine='by_coords')"
   ]
  },
  {
   "cell_type": "code",
   "execution_count": 3,
   "metadata": {},
   "outputs": [],
   "source": [
    "##########################################################################################"
   ]
  },
  {
   "cell_type": "code",
   "execution_count": 4,
   "metadata": {},
   "outputs": [
    {
     "name": "stdout",
     "output_type": "stream",
     "text": [
      "UT speed is 235.7378 m/s\n"
     ]
    },
    {
     "name": "stderr",
     "output_type": "stream",
     "text": [
      "/Users/schelpon/anaconda3/envs/py37/lib/python3.7/site-packages/dask/core.py:121: RuntimeWarning: invalid value encountered in less\n",
      "  return func(*(_execute_task(a, cache) for a in args))\n",
      "/Users/schelpon/anaconda3/envs/py37/lib/python3.7/site-packages/dask/core.py:121: RuntimeWarning: invalid value encountered in greater\n",
      "  return func(*(_execute_task(a, cache) for a in args))\n"
     ]
    }
   ],
   "source": [
    "## get aircraft speed \n",
    "speed = contrast_init.GGSPD\n",
    "\n",
    "# correct nondetects \n",
    "speed_vals = speed.values \n",
    "\n",
    "llod = speed.attrs['LLOD']\n",
    "where_llod = np.where(speed_vals == llod)\n",
    "speed_vals[where_llod] = np.nan\n",
    "\n",
    "ulod = speed.attrs['ULOD']\n",
    "where_ulod = np.where(speed_vals == ulod)\n",
    "speed_vals[where_ulod] = np.nan\n",
    "\n",
    "speed.values = speed_vals    \n",
    "\n",
    "# confine to the UT \n",
    "alt = contrast_init.GGALT\n",
    "where_ut = np.where((alt > 12000) & (alt < 14000))\n",
    "\n",
    "# average speed in the UT is.... \n",
    "ut_speed_mpers = np.nanmean(speed[where_ut])\n",
    "print('UT speed is ' + str(ut_speed_mpers) + ' m/s')"
   ]
  },
  {
   "cell_type": "code",
   "execution_count": 5,
   "metadata": {},
   "outputs": [
    {
     "data": {
      "text/plain": [
       "65.063630859375"
      ]
     },
     "execution_count": 5,
     "metadata": {},
     "output_type": "execute_result"
    }
   ],
   "source": [
    "# length of segment \n",
    "seg_time_min = 4.6 \n",
    "seg_distance_km = (ut_speed_mpers * 60 *seg_time_min)/1000\n",
    "seg_distance_km "
   ]
  },
  {
   "cell_type": "code",
   "execution_count": 6,
   "metadata": {},
   "outputs": [],
   "source": [
    "##########################################################################################"
   ]
  },
  {
   "cell_type": "code",
   "execution_count": 7,
   "metadata": {},
   "outputs": [
    {
     "name": "stdout",
     "output_type": "stream",
     "text": [
      "UT temp is 215.8204635620117 K\n",
      "BL temp is 296.5863956451416 K\n"
     ]
    },
    {
     "name": "stderr",
     "output_type": "stream",
     "text": [
      "/Users/schelpon/anaconda3/envs/py37/lib/python3.7/site-packages/dask/core.py:121: RuntimeWarning: invalid value encountered in less\n",
      "  return func(*(_execute_task(a, cache) for a in args))\n",
      "/Users/schelpon/anaconda3/envs/py37/lib/python3.7/site-packages/dask/core.py:121: RuntimeWarning: invalid value encountered in greater\n",
      "  return func(*(_execute_task(a, cache) for a in args))\n",
      "/Users/schelpon/anaconda3/envs/py37/lib/python3.7/site-packages/dask/core.py:121: RuntimeWarning: invalid value encountered in less\n",
      "  return func(*(_execute_task(a, cache) for a in args))\n",
      "/Users/schelpon/anaconda3/envs/py37/lib/python3.7/site-packages/dask/core.py:121: RuntimeWarning: invalid value encountered in greater\n",
      "  return func(*(_execute_task(a, cache) for a in args))\n"
     ]
    }
   ],
   "source": [
    "# temperatures for lifetime calc \n",
    "temp = contrast_init.ATX\n",
    "\n",
    "# correct nondetects \n",
    "temp_vals = temp.values \n",
    "\n",
    "llod = temp.attrs['LLOD']\n",
    "where_llod = np.where(temp_vals == llod)\n",
    "temp_vals[where_llod] = np.nan\n",
    "\n",
    "ulod = temp.attrs['ULOD']\n",
    "where_ulod = np.where(temp_vals == ulod)\n",
    "temp_vals[where_ulod] = np.nan\n",
    "\n",
    "temp.values = temp_vals    \n",
    "\n",
    "# confine to the UT, BL \n",
    "where_ut = np.where((alt > 12000) & (alt < 14000))\n",
    "where_bl = np.where((alt > 0) & (alt < 2000))\n",
    "\n",
    "# average temp in the UT is.... \n",
    "ut_temp = np.nanmean(temp[where_ut]) + 273.15\n",
    "print('UT temp is ' + str(ut_temp) + ' K')\n",
    "\n",
    "#  average temp in the BL is.... \n",
    "ut_temp = np.nanmean(temp[where_bl]) + 273.15\n",
    "print('BL temp is ' + str(ut_temp) + ' K')"
   ]
  },
  {
   "cell_type": "code",
   "execution_count": 8,
   "metadata": {},
   "outputs": [],
   "source": [
    "##########################################################################################"
   ]
  },
  {
   "cell_type": "code",
   "execution_count": 13,
   "metadata": {},
   "outputs": [
    {
     "name": "stdout",
     "output_type": "stream",
     "text": [
      "UT pressure is 178.8937 hPa\n",
      "BL pressure is 936.90753 hPa\n"
     ]
    },
    {
     "name": "stderr",
     "output_type": "stream",
     "text": [
      "/Users/schelpon/anaconda3/envs/py37/lib/python3.7/site-packages/dask/core.py:121: RuntimeWarning: invalid value encountered in less\n",
      "  return func(*(_execute_task(a, cache) for a in args))\n",
      "/Users/schelpon/anaconda3/envs/py37/lib/python3.7/site-packages/dask/core.py:121: RuntimeWarning: invalid value encountered in greater\n",
      "  return func(*(_execute_task(a, cache) for a in args))\n",
      "/Users/schelpon/anaconda3/envs/py37/lib/python3.7/site-packages/dask/core.py:121: RuntimeWarning: invalid value encountered in less\n",
      "  return func(*(_execute_task(a, cache) for a in args))\n",
      "/Users/schelpon/anaconda3/envs/py37/lib/python3.7/site-packages/dask/core.py:121: RuntimeWarning: invalid value encountered in greater\n",
      "  return func(*(_execute_task(a, cache) for a in args))\n"
     ]
    }
   ],
   "source": [
    "# get pressure\n",
    "contrast_init\n",
    "\n",
    "# temperatures for lifetime calc \n",
    "p = contrast_init.PSXC\n",
    "\n",
    "# confine to the UT, BL \n",
    "where_ut = np.where((alt > 12000) & (alt < 14000))\n",
    "where_bl = np.where((alt > 0) & (alt < 2000))\n",
    "\n",
    "# average temp in the UT is.... \n",
    "ut_p = np.nanmean(p[where_ut]) \n",
    "print('UT pressure is ' + str(ut_p) + ' hPa')\n",
    "\n",
    "#  average temp in the BL is.... \n",
    "bl_p = np.nanmean(p[where_bl])\n",
    "print('BL pressure is ' + str(bl_p) + ' hPa')"
   ]
  },
  {
   "cell_type": "code",
   "execution_count": 16,
   "metadata": {},
   "outputs": [
    {
     "name": "stdout",
     "output_type": "stream",
     "text": [
      "UT pressure is 0.17655436793346252 atm\n",
      "BL pressure is 0.9246558730179991 atm\n"
     ]
    }
   ],
   "source": [
    "# convert hpa to atm \n",
    "# 1 atm = 1013.25 hPa\n",
    "# 1 hPa = 0.0009869233 atm\n",
    "\n",
    "# average temp in the UT is.... \n",
    "ut_p_atm = ut_p*0.0009869233\n",
    "print('UT pressure is ' + str(ut_p_atm) + ' atm')\n",
    "\n",
    "#  average temp in the BL is.... \n",
    "bl_p_atm = bl_p*0.0009869233\n",
    "print('BL pressure is ' + str(bl_p_atm) + ' atm')"
   ]
  },
  {
   "cell_type": "code",
   "execution_count": null,
   "metadata": {},
   "outputs": [],
   "source": []
  }
 ],
 "metadata": {
  "kernelspec": {
   "display_name": "Python 3",
   "language": "python",
   "name": "python3"
  },
  "language_info": {
   "codemirror_mode": {
    "name": "ipython",
    "version": 3
   },
   "file_extension": ".py",
   "mimetype": "text/x-python",
   "name": "python",
   "nbconvert_exporter": "python",
   "pygments_lexer": "ipython3",
   "version": "3.7.7"
  }
 },
 "nbformat": 4,
 "nbformat_minor": 2
}
