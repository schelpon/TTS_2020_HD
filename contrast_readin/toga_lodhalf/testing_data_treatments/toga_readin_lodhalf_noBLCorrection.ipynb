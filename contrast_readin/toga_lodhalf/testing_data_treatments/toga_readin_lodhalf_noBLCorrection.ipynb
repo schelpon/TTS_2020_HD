{
 "cells": [
  {
   "cell_type": "code",
   "execution_count": 21,
   "metadata": {},
   "outputs": [],
   "source": [
    "# script to read in awas data for flights 5 - 14"
   ]
  },
  {
   "cell_type": "code",
   "execution_count": 35,
   "metadata": {},
   "outputs": [],
   "source": [
    "import xarray as xr\n",
    "import numpy as np \n",
    "from matplotlib import pyplot as plt\n",
    "import pandas as pd"
   ]
  },
  {
   "cell_type": "code",
   "execution_count": 36,
   "metadata": {},
   "outputs": [],
   "source": [
    "# path to data\n",
    "mypath = '/mnt/home/sofia/TTS/contrast_merge_data/TOGA/*.nc'"
   ]
  },
  {
   "cell_type": "code",
   "execution_count": 37,
   "metadata": {},
   "outputs": [],
   "source": [
    "# read in merge all flights \n",
    "contrast_init = xr.open_mfdataset(mypath, combine='by_coords')"
   ]
  },
  {
   "cell_type": "code",
   "execution_count": 38,
   "metadata": {},
   "outputs": [
    {
     "data": {
      "text/plain": [
       "<xarray.Dataset>\n",
       "Dimensions:               (Time: 2552)\n",
       "Coordinates:\n",
       "  * Time                  (Time) datetime64[ns] 2014-01-17T00:16:06 ... 2014-02-22T09:20:05\n",
       "Data variables:\n",
       "    Acetaldehyde          (Time) float32 dask.array<chunksize=(199,), meta=np.ndarray>\n",
       "    n_Butane              (Time) float32 dask.array<chunksize=(199,), meta=np.ndarray>\n",
       "    i_Butane              (Time) float32 dask.array<chunksize=(199,), meta=np.ndarray>\n",
       "    Benzene               (Time) float32 dask.array<chunksize=(199,), meta=np.ndarray>\n",
       "    C3H8                  (Time) float32 dask.array<chunksize=(199,), meta=np.ndarray>\n",
       "    Methanol              (Time) float32 dask.array<chunksize=(199,), meta=np.ndarray>\n",
       "    Bromoform             (Time) float32 dask.array<chunksize=(199,), meta=np.ndarray>\n",
       "    Tetrachloroethylene   (Time) float32 dask.array<chunksize=(199,), meta=np.ndarray>\n",
       "    Dibromomethane        (Time) float32 dask.array<chunksize=(199,), meta=np.ndarray>\n",
       "    Dichloromethane       (Time) float32 dask.array<chunksize=(199,), meta=np.ndarray>\n",
       "    Chloroform            (Time) float32 dask.array<chunksize=(199,), meta=np.ndarray>\n",
       "    Carbon_Tetrachloride  (Time) float32 dask.array<chunksize=(199,), meta=np.ndarray>"
      ]
     },
     "execution_count": 38,
     "metadata": {},
     "output_type": "execute_result"
    }
   ],
   "source": [
    "### --- desired toga tracers\n",
    "# empyt dataset to fill with toga data (12 total)\n",
    "toga_trc_prelim = xr.merge([contrast_init.Acetaldehyde, contrast_init.n_Butane, \n",
    "                     contrast_init.i_Butane, contrast_init.Benzene, \n",
    "                     contrast_init.C3H8, contrast_init.Methanol,\n",
    "                     contrast_init.Bromoform, contrast_init.Tetrachloroethylene,  \n",
    "                     contrast_init.Dibromomethane,  contrast_init.Dichloromethane, \n",
    "                     contrast_init.Chloroform, contrast_init.Carbon_Tetrachloride])\n",
    "len(toga_trc_prelim)\n",
    "toga_trc_prelim"
   ]
  },
  {
   "cell_type": "code",
   "execution_count": 39,
   "metadata": {},
   "outputs": [
    {
     "name": "stdout",
     "output_type": "stream",
     "text": [
      "2286\n"
     ]
    },
    {
     "name": "stderr",
     "output_type": "stream",
     "text": [
      "/mnt/home/sofia/software/anaconda3/envs/py3/lib/python3.7/site-packages/ipykernel_launcher.py:6: RuntimeWarning: invalid value encountered in greater\n",
      "  \n"
     ]
    },
    {
     "data": {
      "text/plain": [
       "<xarray.Dataset>\n",
       "Dimensions:  (GGALT: 2286, GGLAT: 2286, GGLON: 2286)\n",
       "Coordinates:\n",
       "  * GGALT    (GGALT) float32 1447.7172 3127.166 4212.603 ... 4391.697 3358.9587\n",
       "  * GGLAT    (GGLAT) float32 13.474072 13.379817 ... 12.543944 12.707678\n",
       "  * GGLON    (GGLON) float32 144.88289 144.9935 145.1362 ... 144.76048 144.72903\n",
       "Data variables:\n",
       "    *empty*"
      ]
     },
     "execution_count": 39,
     "metadata": {},
     "output_type": "execute_result"
    }
   ],
   "source": [
    "### --- awas aircraft parameters and location \n",
    "toga_param_init = xr.merge([contrast_init.GGALT, contrast_init.GGLAT, contrast_init.GGLON])\n",
    "                      #contrast_init.WIC, contrast_init.PALT, contrast_init.RHUM])\n",
    "\n",
    "# find NH values, what we want \n",
    "northhem = np.where(toga_param_init.GGLAT.values > 0)\n",
    "print(np.size(northhem))\n",
    "\n",
    "# keep only NH values, rewrite to toga_param \n",
    "toga_param = xr.Dataset()\n",
    "for ii in toga_param_init.data_vars:\n",
    "    param = toga_param_init[ii]\n",
    "    nh_only = param[northhem].values \n",
    "    toga_param[ii] = nh_only\n",
    "toga_param"
   ]
  },
  {
   "cell_type": "code",
   "execution_count": 40,
   "metadata": {},
   "outputs": [],
   "source": [
    "# select NH only for all tracers \n",
    "toga_trc_nh_noreplace = xr.Dataset()\n",
    "for ii in toga_trc_prelim.data_vars:\n",
    "    trc = toga_trc_prelim[ii]\n",
    "    nh_only = trc[northhem]\n",
    "    toga_trc_nh_noreplace[ii] = nh_only"
   ]
  },
  {
   "cell_type": "code",
   "execution_count": null,
   "metadata": {},
   "outputs": [],
   "source": []
  },
  {
   "cell_type": "code",
   "execution_count": null,
   "metadata": {
    "scrolled": true
   },
   "outputs": [],
   "source": []
  },
  {
   "cell_type": "code",
   "execution_count": null,
   "metadata": {},
   "outputs": [],
   "source": []
  },
  {
   "cell_type": "code",
   "execution_count": 41,
   "metadata": {},
   "outputs": [],
   "source": [
    "# make attribute for detection level \n",
    "toga_lods = [5, 0.5, 0.5, 1, 10, 20, 0.1, 0.3, 0.03, 1, 1, 1];\n",
    "\n",
    "for ii in enumerate(toga_trc_nh_noreplace.data_vars):\n",
    "    myind = ii[0]\n",
    "    trc = ii[1]\n",
    "    toga_trc_nh_noreplace[trc].attrs['LOD'] = toga_lods[myind]"
   ]
  },
  {
   "cell_type": "code",
   "execution_count": 42,
   "metadata": {},
   "outputs": [],
   "source": [
    "toga_trc = xr.Dataset()\n",
    "\n",
    "### --- replace all LLOD/ULOD (-888, -777) with 1/2 the LOD for each tracer \n",
    "for ii in toga_trc_nh_noreplace.data_vars:\n",
    "    # get this tracer and its LOD \n",
    "    trc_vals = toga_trc_nh_noreplace[ii].values\n",
    "    trc = toga_trc_nh_noreplace[ii]\n",
    "    \n",
    "    # -------- locations for fills\n",
    "    # llod \n",
    "    llod = trc.attrs['LLOD']\n",
    "    where_llod = np.where(trc_vals == llod)\n",
    "    # ulod \n",
    "    ulod = trc.attrs['ULOD']\n",
    "    where_ulod = np.where(trc_vals == ulod)\n",
    "    \n",
    "    # -------- make those locations equal to LOD/2 \n",
    "    trc_vals[where_llod] = trc.LOD/2\n",
    "    trc_vals[where_ulod] = trc.LOD/2\n",
    "    # replace values in Dataarray with that including substituded values, save to var \n",
    "    trc.values = trc_vals\n",
    "    toga_trc[ii] = trc"
   ]
  },
  {
   "cell_type": "code",
   "execution_count": null,
   "metadata": {},
   "outputs": [],
   "source": []
  },
  {
   "cell_type": "code",
   "execution_count": null,
   "metadata": {},
   "outputs": [],
   "source": []
  },
  {
   "cell_type": "code",
   "execution_count": 43,
   "metadata": {},
   "outputs": [],
   "source": [
    "### --- add attribute to each (BL, tropo, and UT lifetimes)\n",
    "# read in from xls file to make dataframe\n",
    "mypath2 = '/mnt/home/sofia/TTS/paper_2020/contrast_readin/toga_lodhalf/toga_lifetimes_12162019.xlsx'\n",
    "toga_lifetimes = pd.read_excel(mypath2)"
   ]
  },
  {
   "cell_type": "code",
   "execution_count": 44,
   "metadata": {},
   "outputs": [],
   "source": [
    "# fill in lifetime attributes using that dataframe \n",
    "for ii in enumerate(toga_trc.data_vars):\n",
    "    myind = ii[0]\n",
    "    trc = ii[1]\n",
    "    toga_trc[trc].attrs['BL_lifetime'] = toga_lifetimes['BL_tau'][myind]\n",
    "    toga_trc[trc].attrs['UT_lifetime'] = toga_lifetimes['UT_tau'][myind]\n",
    "    toga_trc[trc].attrs['TROPO_lifetime'] = toga_lifetimes['TROPO_tau'][myind]"
   ]
  },
  {
   "cell_type": "code",
   "execution_count": 45,
   "metadata": {},
   "outputs": [
    {
     "data": {
      "text/plain": [
       "<xarray.Dataset>\n",
       "Dimensions:               (GGALT: 2286, GGLAT: 2286, GGLON: 2286, Time: 2286)\n",
       "Coordinates:\n",
       "  * Time                  (Time) datetime64[ns] 2014-01-17T00:16:06 ... 2014-02-22T09:20:05\n",
       "  * GGALT                 (GGALT) float32 1447.7172 3127.166 ... 3358.9587\n",
       "  * GGLAT                 (GGLAT) float32 13.474072 13.379817 ... 12.707678\n",
       "  * GGLON                 (GGLON) float32 144.88289 144.9935 ... 144.72903\n",
       "Data variables:\n",
       "    Acetaldehyde          (Time) float32 286.7 191.2 126.8 nan ... nan nan nan\n",
       "    n_Butane              (Time) float32 3.96 1.51 1.68 1.42 ... nan nan nan nan\n",
       "    i_Butane              (Time) float32 2.99 2.49 2.6 2.17 ... nan nan nan nan\n",
       "    Benzene               (Time) float32 nan nan nan 7.28 ... nan nan nan nan\n",
       "    C3H8                  (Time) float32 54.0 41.0 13.0 18.0 ... nan nan nan nan\n",
       "    Methanol              (Time) float32 829.0 611.0 378.0 228.0 ... nan nan nan\n",
       "    Bromoform             (Time) float32 nan 0.689 0.48 0.05 ... nan nan nan nan\n",
       "    Tetrachloroethylene   (Time) float32 nan 0.15 0.15 0.15 ... nan nan nan nan\n",
       "    Dibromomethane        (Time) float32 nan nan nan nan ... nan nan nan nan\n",
       "    Dichloromethane       (Time) float32 46.24 44.49 50.11 42.03 ... nan nan nan\n",
       "    Chloroform            (Time) float32 10.8 9.39 10.29 8.67 ... nan nan nan\n",
       "    Carbon_Tetrachloride  (Time) float32 96.0 97.1 94.3 96.7 ... nan nan nan nan"
      ]
     },
     "execution_count": 45,
     "metadata": {},
     "output_type": "execute_result"
    }
   ],
   "source": [
    "# ---- add parameters as coordinates \n",
    "for ii in toga_param.coords:\n",
    "    my_coord = toga_param[ii]\n",
    "    toga_trc.coords[ii] = my_coord\n",
    "    \n",
    "toga_trc"
   ]
  },
  {
   "cell_type": "code",
   "execution_count": 33,
   "metadata": {},
   "outputs": [
    {
     "name": "stdout",
     "output_type": "stream",
     "text": [
      "finished saving tracers\n"
     ]
    }
   ],
   "source": [
    "### pickle it! \n",
    "toga_trc.to_netcdf(path = '/mnt/home/sofia/TTS/paper_2020/contrast_readin/toga_lodhalf/toga_trace_gases_fullBL.nc')\n",
    "print ('finished saving tracers')"
   ]
  },
  {
   "cell_type": "code",
   "execution_count": null,
   "metadata": {},
   "outputs": [],
   "source": []
  },
  {
   "cell_type": "code",
   "execution_count": null,
   "metadata": {},
   "outputs": [],
   "source": []
  },
  {
   "cell_type": "code",
   "execution_count": 34,
   "metadata": {},
   "outputs": [
    {
     "data": {
      "text/plain": [
       "[<matplotlib.lines.Line2D at 0x7f948fda6bd0>]"
      ]
     },
     "execution_count": 34,
     "metadata": {},
     "output_type": "execute_result"
    },
    {
     "data": {
      "image/png": "[encoded data removed]",
      "text/plain": [
       "<Figure size 432x288 with 1 Axes>"
      ]
     },
     "metadata": {
      "needs_background": "light"
     },
     "output_type": "display_data"
    }
   ],
   "source": [
    "plt.plot(toga_trc.C3H8)"
   ]
  },
  {
   "cell_type": "code",
   "execution_count": null,
   "metadata": {},
   "outputs": [],
   "source": []
  },
  {
   "cell_type": "code",
   "execution_count": null,
   "metadata": {},
   "outputs": [],
   "source": []
  },
  {
   "cell_type": "code",
   "execution_count": null,
   "metadata": {},
   "outputs": [],
   "source": []
  },
  {
   "cell_type": "code",
   "execution_count": null,
   "metadata": {},
   "outputs": [],
   "source": []
  },
  {
   "cell_type": "code",
   "execution_count": null,
   "metadata": {},
   "outputs": [],
   "source": []
  },
  {
   "cell_type": "code",
   "execution_count": null,
   "metadata": {},
   "outputs": [],
   "source": []
  },
  {
   "cell_type": "code",
   "execution_count": null,
   "metadata": {},
   "outputs": [],
   "source": []
  },
  {
   "cell_type": "code",
   "execution_count": null,
   "metadata": {},
   "outputs": [],
   "source": []
  },
  {
   "cell_type": "code",
   "execution_count": null,
   "metadata": {},
   "outputs": [],
   "source": []
  }
 ],
 "metadata": {
  "kernelspec": {
   "display_name": "Python [conda env:py3] *",
   "language": "python",
   "name": "conda-env-py3-py"
  },
  "language_info": {
   "codemirror_mode": {
    "name": "ipython",
    "version": 3
   },
   "file_extension": ".py",
   "mimetype": "text/x-python",
   "name": "python",
   "nbconvert_exporter": "python",
   "pygments_lexer": "ipython3",
   "version": "3.7.5"
  }
 },
 "nbformat": 4,
 "nbformat_minor": 2
}
