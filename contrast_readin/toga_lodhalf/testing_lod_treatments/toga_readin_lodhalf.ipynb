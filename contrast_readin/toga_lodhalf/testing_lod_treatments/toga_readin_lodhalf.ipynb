{
 "cells": [
  {
   "cell_type": "code",
   "execution_count": 312,
   "metadata": {},
   "outputs": [],
   "source": [
    "# script to read in awas data for flights 5 - 14"
   ]
  },
  {
   "cell_type": "code",
   "execution_count": 332,
   "metadata": {},
   "outputs": [],
   "source": [
    "import xarray as xr\n",
    "import numpy as np \n",
    "from matplotlib import pyplot as plt\n",
    "import pandas as pd"
   ]
  },
  {
   "cell_type": "code",
   "execution_count": 333,
   "metadata": {},
   "outputs": [],
   "source": [
    "# path to data\n",
    "mypath = '/mnt/home/sofia/TTS/contrast_merge_data/TOGA/*.nc'"
   ]
  },
  {
   "cell_type": "code",
   "execution_count": 334,
   "metadata": {},
   "outputs": [],
   "source": [
    "# read in merge all flights \n",
    "contrast_init = xr.open_mfdataset(mypath, combine='by_coords')"
   ]
  },
  {
   "cell_type": "code",
   "execution_count": 335,
   "metadata": {},
   "outputs": [
    {
     "data": {
      "text/plain": [
       "12"
      ]
     },
     "execution_count": 335,
     "metadata": {},
     "output_type": "execute_result"
    }
   ],
   "source": [
    "### --- desired toga tracers\n",
    "# empyt dataset to fill with toga data (12 total)\n",
    "toga_trc_prelim = xr.merge([contrast_init.Acetaldehyde, contrast_init.n_Butane, \n",
    "                     contrast_init.i_Butane, contrast_init.Benzene, \n",
    "                     contrast_init.C3H8, contrast_init.Methanol,\n",
    "                     contrast_init.Bromoform, contrast_init.Tetrachloroethylene,  \n",
    "                     contrast_init.Dibromomethane,  contrast_init.Dichloromethane, \n",
    "                     contrast_init.Chloroform, contrast_init.Carbon_Tetrachloride])\n",
    "len(toga_trc_prelim)"
   ]
  },
  {
   "cell_type": "code",
   "execution_count": 336,
   "metadata": {},
   "outputs": [
    {
     "name": "stdout",
     "output_type": "stream",
     "text": [
      "2286\n"
     ]
    },
    {
     "name": "stderr",
     "output_type": "stream",
     "text": [
      "/mnt/home/sofia/software/anaconda3/envs/py3/lib/python3.7/site-packages/ipykernel_launcher.py:6: RuntimeWarning: invalid value encountered in greater\n",
      "  \n"
     ]
    },
    {
     "data": {
      "text/plain": [
       "<xarray.Dataset>\n",
       "Dimensions:  (GGALT: 2286, GGLAT: 2286, GGLON: 2286)\n",
       "Coordinates:\n",
       "  * GGALT    (GGALT) float32 1447.7172 3127.166 4212.603 ... 4391.697 3358.9587\n",
       "  * GGLAT    (GGLAT) float32 13.474072 13.379817 ... 12.543944 12.707678\n",
       "  * GGLON    (GGLON) float32 144.88289 144.9935 145.1362 ... 144.76048 144.72903\n",
       "Data variables:\n",
       "    *empty*"
      ]
     },
     "execution_count": 336,
     "metadata": {},
     "output_type": "execute_result"
    }
   ],
   "source": [
    "### --- awas aircraft parameters and location \n",
    "toga_param_init = xr.merge([contrast_init.GGALT, contrast_init.GGLAT, contrast_init.GGLON])\n",
    "                      #contrast_init.WIC, contrast_init.PALT, contrast_init.RHUM])\n",
    "\n",
    "# find NH values, what we want \n",
    "northhem = np.where(toga_param_init.GGLAT.values > 0)\n",
    "print(np.size(northhem))\n",
    "\n",
    "# keep only NH values, rewrite to toga_param \n",
    "toga_param = xr.Dataset()\n",
    "for ii in toga_param_init.data_vars:\n",
    "    param = toga_param_init[ii]\n",
    "    nh_only = param[northhem].values \n",
    "    toga_param[ii] = nh_only\n",
    "toga_param"
   ]
  },
  {
   "cell_type": "code",
   "execution_count": 337,
   "metadata": {},
   "outputs": [
    {
     "data": {
      "text/plain": [
       "<xarray.Dataset>\n",
       "Dimensions:               (Time: 2286)\n",
       "Coordinates:\n",
       "  * Time                  (Time) datetime64[ns] 2014-01-17T00:16:06 ... 2014-02-22T09:20:05\n",
       "Data variables:\n",
       "    Acetaldehyde          (Time) float32 dask.array<chunksize=(194,), meta=np.ndarray>\n",
       "    n_Butane              (Time) float32 dask.array<chunksize=(194,), meta=np.ndarray>\n",
       "    i_Butane              (Time) float32 dask.array<chunksize=(194,), meta=np.ndarray>\n",
       "    Benzene               (Time) float32 dask.array<chunksize=(194,), meta=np.ndarray>\n",
       "    C3H8                  (Time) float32 dask.array<chunksize=(194,), meta=np.ndarray>\n",
       "    Methanol              (Time) float32 dask.array<chunksize=(194,), meta=np.ndarray>\n",
       "    Bromoform             (Time) float32 dask.array<chunksize=(194,), meta=np.ndarray>\n",
       "    Tetrachloroethylene   (Time) float32 dask.array<chunksize=(194,), meta=np.ndarray>\n",
       "    Dibromomethane        (Time) float32 dask.array<chunksize=(194,), meta=np.ndarray>\n",
       "    Dichloromethane       (Time) float32 dask.array<chunksize=(194,), meta=np.ndarray>\n",
       "    Chloroform            (Time) float32 dask.array<chunksize=(194,), meta=np.ndarray>\n",
       "    Carbon_Tetrachloride  (Time) float32 dask.array<chunksize=(194,), meta=np.ndarray>"
      ]
     },
     "execution_count": 337,
     "metadata": {},
     "output_type": "execute_result"
    }
   ],
   "source": [
    "# select NH only for all tracers \n",
    "toga_trc_nh_noreplace = xr.Dataset()\n",
    "for ii in toga_trc_prelim.data_vars:\n",
    "    trc = toga_trc_prelim[ii]\n",
    "    nh_only = trc[northhem]\n",
    "    toga_trc_nh_noreplace[ii] = nh_only\n",
    "toga_trc_nh_noreplace"
   ]
  },
  {
   "cell_type": "code",
   "execution_count": 338,
   "metadata": {},
   "outputs": [],
   "source": [
    "# make attribute for detection level \n",
    "toga_lods = [5, 0.5, 0.5, 1, 10, 20, 0.1, 0.3, 0.03, 1, 1, 1];\n",
    "\n",
    "for ii in enumerate(toga_trc_nh_noreplace.data_vars):\n",
    "    myind = ii[0]\n",
    "    trc = ii[1]\n",
    "    toga_trc_nh_noreplace[trc].attrs['LOD'] = toga_lods[myind]"
   ]
  },
  {
   "cell_type": "code",
   "execution_count": 339,
   "metadata": {
    "scrolled": true
   },
   "outputs": [
    {
     "name": "stdout",
     "output_type": "stream",
     "text": [
      "4121.9\n",
      "1899.86\n",
      "785.37\n",
      "116.38\n",
      "513.0\n",
      "4712.0\n",
      "2.361\n",
      "3.01\n",
      "1.742\n",
      "96.29\n",
      "19.21\n",
      "102.0\n"
     ]
    }
   ],
   "source": [
    "toga_trc_precorr = xr.Dataset()\n",
    "\n",
    "### --- replace all LLOD/ULOD (-888, -777) with 1/2 the LOD for each tracer \n",
    "for ii in toga_trc_nh_noreplace.data_vars:\n",
    "    # get this tracer and its LOD \n",
    "    trc_vals = toga_trc_nh_noreplace[ii].values\n",
    "    trc = toga_trc_nh_noreplace[ii]\n",
    "    \n",
    "    # -------- locations for fills\n",
    "    # llod \n",
    "    llod = trc.attrs['LLOD']\n",
    "    where_llod = np.where(trc_vals == llod)\n",
    "    # ulod \n",
    "    ulod = trc.attrs['ULOD']\n",
    "    where_ulod = np.where(trc_vals == ulod)\n",
    "    \n",
    "    # -------- make those locations equal to LOD/2 \n",
    "    trc_vals[where_llod] = trc.LOD/2\n",
    "    trc_vals[where_ulod] = trc.LOD/2\n",
    "    # replace values in Dataarray with that including substituded values, save to var \n",
    "    trc.values = trc_vals\n",
    "    toga_trc_precorr[ii] = trc\n",
    "    print(np.nanmax(toga_trc_precorr[ii]))"
   ]
  },
  {
   "cell_type": "code",
   "execution_count": null,
   "metadata": {},
   "outputs": [],
   "source": []
  },
  {
   "cell_type": "code",
   "execution_count": 340,
   "metadata": {},
   "outputs": [
    {
     "name": "stdout",
     "output_type": "stream",
     "text": [
      "392.7\n",
      "60.2\n",
      "41.52\n",
      "64.0\n",
      "270.0\n",
      "1015.0\n",
      "1.344\n",
      "2.29\n",
      "1.354\n",
      "79.5\n",
      "14.84\n",
      "97.1\n"
     ]
    }
   ],
   "source": [
    "# --------- remove any sample >99th percentile in the BL \n",
    "toga_trc = xr.Dataset()\n",
    "\n",
    "for ii in toga_trc_precorr.data_vars:\n",
    "    # get this tracer and its 99th percentile cutoff value \n",
    "    trc = toga_trc_nh_noreplace[ii]\n",
    "    prc99 = np.nanpercentile(trc.values, 99)\n",
    "    # mask out outliers, save to var \n",
    "    trc_masked = trc.where(trc < prc99)\n",
    "    toga_trc[ii] = trc_masked \n",
    "    print(np.nanmax(toga_trc[ii]))"
   ]
  },
  {
   "cell_type": "code",
   "execution_count": null,
   "metadata": {},
   "outputs": [],
   "source": []
  },
  {
   "cell_type": "code",
   "execution_count": 341,
   "metadata": {},
   "outputs": [],
   "source": [
    "### --- add attribute to each (BL, tropo, and UT lifetimes)\n",
    "# read in from xls file to make dataframe\n",
    "mypath2 = '/mnt/home/sofia/TTS/paper_2020/contrast_readin/toga_lodhalf/toga_lifetimes_12162019.xlsx'\n",
    "toga_lifetimes = pd.read_excel(mypath2)"
   ]
  },
  {
   "cell_type": "code",
   "execution_count": 342,
   "metadata": {},
   "outputs": [],
   "source": [
    "# fill in lifetime attributes using that dataframe \n",
    "# for version with BL correction \n",
    "for ii in enumerate(toga_trc.data_vars):\n",
    "    myind = ii[0]\n",
    "    trc = ii[1]\n",
    "    toga_trc[trc].attrs['BL_lifetime'] = toga_lifetimes['BL_tau'][myind]\n",
    "    toga_trc[trc].attrs['UT_lifetime'] = toga_lifetimes['UT_tau'][myind]\n",
    "    toga_trc[trc].attrs['TROPO_lifetime'] = toga_lifetimes['TROPO_tau'][myind]\n",
    "    \n",
    "    \n",
    "# for version with full BL sampling \n",
    "for ii in enumerate(toga_trc_precorr.data_vars):\n",
    "    myind = ii[0]\n",
    "    trc = ii[1]\n",
    "    toga_trc_precorr[trc].attrs['BL_lifetime'] = toga_lifetimes['BL_tau'][myind]\n",
    "    toga_trc_precorr[trc].attrs['UT_lifetime'] = toga_lifetimes['UT_tau'][myind]\n",
    "    toga_trc_precorr[trc].attrs['TROPO_lifetime'] = toga_lifetimes['TROPO_tau'][myind]"
   ]
  },
  {
   "cell_type": "code",
   "execution_count": 343,
   "metadata": {},
   "outputs": [],
   "source": [
    "# ---- add parameters as coordinates \n",
    "for ii in toga_param.coords:\n",
    "    my_coord = toga_param[ii]\n",
    "    # for version with BL correction \n",
    "    toga_trc.coords[ii] = my_coord\n",
    "    # for version with full BL sampling \n",
    "    toga_trc_precorr.coords[ii] = my_coord"
   ]
  },
  {
   "cell_type": "code",
   "execution_count": 344,
   "metadata": {},
   "outputs": [
    {
     "name": "stdout",
     "output_type": "stream",
     "text": [
      "finished saving tracers\n"
     ]
    }
   ],
   "source": [
    "### pickle it! \n",
    "toga_trc.to_netcdf(path = '/mnt/home/sofia/TTS/paper_2020/contrast_readin/toga_lodhalf/toga_trace_gases.nc')\n",
    "toga_trc_precorr.to_netcdf(path = '/mnt/home/sofia/TTS/paper_2020/contrast_readin/toga_lodhalf/toga_trace_gases_fullBL.nc')\n",
    "\n",
    "print ('finished saving tracers')"
   ]
  },
  {
   "cell_type": "code",
   "execution_count": null,
   "metadata": {},
   "outputs": [],
   "source": []
  },
  {
   "cell_type": "code",
   "execution_count": null,
   "metadata": {},
   "outputs": [],
   "source": []
  },
  {
   "cell_type": "code",
   "execution_count": null,
   "metadata": {},
   "outputs": [],
   "source": []
  },
  {
   "cell_type": "code",
   "execution_count": null,
   "metadata": {},
   "outputs": [],
   "source": []
  },
  {
   "cell_type": "code",
   "execution_count": 345,
   "metadata": {},
   "outputs": [
    {
     "data": {
      "text/plain": [
       "[<matplotlib.lines.Line2D at 0x7fa6078d02d0>]"
      ]
     },
     "execution_count": 345,
     "metadata": {},
     "output_type": "execute_result"
    },
    {
     "data": {
      "image/png": "[encoded data removed]",
      "text/plain": [
       "<Figure size 432x288 with 1 Axes>"
      ]
     },
     "metadata": {
      "needs_background": "light"
     },
     "output_type": "display_data"
    }
   ],
   "source": [
    "plt.plot(toga_trc.GGLON, toga_trc.GGLAT)"
   ]
  },
  {
   "cell_type": "code",
   "execution_count": 347,
   "metadata": {},
   "outputs": [
    {
     "data": {
      "text/plain": [
       "[<matplotlib.lines.Line2D at 0x7fa61c8edd90>]"
      ]
     },
     "execution_count": 347,
     "metadata": {},
     "output_type": "execute_result"
    },
    {
     "data": {
      "image/png": "[encoded data removed]",
      "text/plain": [
       "<Figure size 432x288 with 1 Axes>"
      ]
     },
     "metadata": {
      "needs_background": "light"
     },
     "output_type": "display_data"
    }
   ],
   "source": [
    "plt.plot(toga_trc.Acetaldehyde)"
   ]
  },
  {
   "cell_type": "code",
   "execution_count": null,
   "metadata": {},
   "outputs": [],
   "source": []
  },
  {
   "cell_type": "code",
   "execution_count": null,
   "metadata": {},
   "outputs": [],
   "source": []
  },
  {
   "cell_type": "code",
   "execution_count": 521,
   "metadata": {},
   "outputs": [],
   "source": []
  },
  {
   "cell_type": "code",
   "execution_count": 531,
   "metadata": {},
   "outputs": [],
   "source": []
  },
  {
   "cell_type": "code",
   "execution_count": null,
   "metadata": {},
   "outputs": [],
   "source": []
  },
  {
   "cell_type": "code",
   "execution_count": null,
   "metadata": {},
   "outputs": [],
   "source": []
  },
  {
   "cell_type": "code",
   "execution_count": null,
   "metadata": {},
   "outputs": [],
   "source": []
  },
  {
   "cell_type": "code",
   "execution_count": null,
   "metadata": {},
   "outputs": [],
   "source": []
  },
  {
   "cell_type": "code",
   "execution_count": null,
   "metadata": {},
   "outputs": [],
   "source": []
  }
 ],
 "metadata": {
  "kernelspec": {
   "display_name": "Python [conda env:py3] *",
   "language": "python",
   "name": "conda-env-py3-py"
  },
  "language_info": {
   "codemirror_mode": {
    "name": "ipython",
    "version": 3
   },
   "file_extension": ".py",
   "mimetype": "text/x-python",
   "name": "python",
   "nbconvert_exporter": "python",
   "pygments_lexer": "ipython3",
   "version": "3.7.5"
  }
 },
 "nbformat": 4,
 "nbformat_minor": 2
}
