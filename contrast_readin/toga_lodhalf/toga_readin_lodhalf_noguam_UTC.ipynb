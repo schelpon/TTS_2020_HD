{
 "cells": [
  {
   "cell_type": "code",
   "execution_count": 39,
   "metadata": {},
   "outputs": [],
   "source": [
    "# script to read in awas data for flights 5 - 14\n",
    "# BL TREATMENT - remove samples that are within ~17 km of guam \n",
    "# date created: 2/14/2020\n",
    "# author: sofia chelpon"
   ]
  },
  {
   "cell_type": "code",
   "execution_count": 1,
   "metadata": {},
   "outputs": [],
   "source": [
    "import xarray as xr\n",
    "import numpy as np \n",
    "from matplotlib import pyplot as plt\n",
    "import pandas as pd"
   ]
  },
  {
   "cell_type": "code",
   "execution_count": null,
   "metadata": {},
   "outputs": [],
   "source": []
  },
  {
   "cell_type": "code",
   "execution_count": 2,
   "metadata": {},
   "outputs": [],
   "source": [
    "### ---------------------- READ IN DATA  ---------------------- ###\n",
    "# path to data\n",
    "mypath = '/Volumes/scdrive2/contrast_merge_data/contrast_toga_merge/*.nc'\n",
    "# read in merge all flights \n",
    "contrast_init = xr.open_mfdataset(mypath, combine='by_coords')"
   ]
  },
  {
   "cell_type": "code",
   "execution_count": null,
   "metadata": {},
   "outputs": [],
   "source": []
  },
  {
   "cell_type": "code",
   "execution_count": 3,
   "metadata": {},
   "outputs": [
    {
     "data": {
      "text/plain": [
       "numpy.datetime64('2014-01-25T00:14:06.000000000')"
      ]
     },
     "execution_count": 3,
     "metadata": {},
     "output_type": "execute_result"
    }
   ],
   "source": [
    "# change coordinate from \"Time\" to \"Time_UTC\"\n",
    "contrast_init.assign_coords({'Time': contrast_init.Time_UTC.values})\n",
    "contrast_init.Time.values[640]"
   ]
  },
  {
   "cell_type": "code",
   "execution_count": 4,
   "metadata": {},
   "outputs": [
    {
     "name": "stdout",
     "output_type": "stream",
     "text": [
      "12\n"
     ]
    }
   ],
   "source": [
    "### --- desired toga tracers\n",
    "# empyt dataset to fill with toga data (12 total)\n",
    "toga_trc_prelim = xr.merge([contrast_init.Acetaldehyde, contrast_init.n_Butane, \n",
    "                     contrast_init.i_Butane, contrast_init.Benzene, \n",
    "                     contrast_init.C3H8, contrast_init.Methanol,\n",
    "                     contrast_init.Bromoform, contrast_init.Tetrachloroethylene,  \n",
    "                     contrast_init.Dibromomethane,  contrast_init.Dichloromethane, \n",
    "                     contrast_init.Chloroform, contrast_init.Carbon_Tetrachloride])\n",
    "print(len(toga_trc_prelim))\n",
    "\n",
    "### --- aircraft parameters and location \n",
    "toga_param_init = xr.merge([contrast_init.GGALT, contrast_init.GGLAT, contrast_init.GGLON, \n",
    "                           contrast_init.Time_UTC, contrast_init.WIC])\n",
    "                      #contrast_init.WIC, contrast_init.PALT, contrast_init.RHUM])"
   ]
  },
  {
   "cell_type": "code",
   "execution_count": 12,
   "metadata": {},
   "outputs": [
    {
     "name": "stderr",
     "output_type": "stream",
     "text": [
      "//anaconda3/envs/py3/lib/python3.7/site-packages/ipykernel_launcher.py:1: RuntimeWarning: invalid value encountered in greater\n",
      "  \"\"\"Entry point for launching an IPython kernel.\n",
      "//anaconda3/envs/py3/lib/python3.7/site-packages/ipykernel_launcher.py:1: RuntimeWarning: invalid value encountered in less\n",
      "  \"\"\"Entry point for launching an IPython kernel.\n"
     ]
    }
   ],
   "source": [
    "studyarea = np.where((toga_param_init.GGLAT.values > 0) & (toga_param_init.GGLAT.values < 25))\n"
   ]
  },
  {
   "cell_type": "code",
   "execution_count": 19,
   "metadata": {},
   "outputs": [
    {
     "name": "stdout",
     "output_type": "stream",
     "text": [
      "2229\n"
     ]
    },
    {
     "name": "stderr",
     "output_type": "stream",
     "text": [
      "//anaconda3/envs/py3/lib/python3.7/site-packages/ipykernel_launcher.py:3: RuntimeWarning: invalid value encountered in greater\n",
      "  This is separate from the ipykernel package so we can avoid doing imports until\n",
      "//anaconda3/envs/py3/lib/python3.7/site-packages/ipykernel_launcher.py:3: RuntimeWarning: invalid value encountered in less\n",
      "  This is separate from the ipykernel package so we can avoid doing imports until\n"
     ]
    }
   ],
   "source": [
    "### ---------------------- CONFINE TO NH  ---------------------- ###\n",
    "# find NH values, what we want \n",
    "studyarea = np.where((toga_param_init.GGLAT.values > 0) & (toga_param_init.GGLAT.values < 25))\n",
    "print(np.size(studyarea))\n",
    "\n",
    "# keep only NH values, rewrite to toga_param - AIRCRAFT PARAMETERS\n",
    "toga_param_noblcorr = xr.Dataset()\n",
    "for ii in toga_param_init.data_vars:\n",
    "    param = toga_param_init[ii]\n",
    "    nh_only = param[studyarea].values \n",
    "    toga_param_noblcorr[ii] = nh_only\n",
    "toga_param_noblcorr\n",
    "\n",
    "# select NH only for all - TRACERS \n",
    "toga_trc_nh_noreplace = xr.Dataset()\n",
    "for ii in toga_trc_prelim.data_vars:\n",
    "    trc = toga_trc_prelim[ii]\n",
    "    nh_only = trc[studyarea]\n",
    "    toga_trc_nh_noreplace[ii] = nh_only\n"
   ]
  },
  {
   "cell_type": "code",
   "execution_count": 20,
   "metadata": {},
   "outputs": [
    {
     "name": "stdout",
     "output_type": "stream",
     "text": [
      "4121.9\n",
      "1899.86\n",
      "785.37\n",
      "116.38\n",
      "513.0\n",
      "4712.0\n",
      "2.361\n",
      "3.01\n",
      "1.742\n",
      "96.29\n",
      "19.21\n",
      "102.0\n"
     ]
    }
   ],
   "source": [
    "### ---------------------- APPLY DETECTION LIMIT SUBSTITUTION TO TRC ---------------------- ###\n",
    "# make attribute for detection level \n",
    "toga_lods = [5, 0.5, 0.5, 1, 10, 20, 0.1, 0.3, 0.03, 1, 1, 1];\n",
    "\n",
    "for ii in enumerate(toga_trc_nh_noreplace.data_vars):\n",
    "    myind = ii[0]\n",
    "    trc = ii[1]\n",
    "    toga_trc_nh_noreplace[trc].attrs['LOD'] = toga_lods[myind]\n",
    "\n",
    "### --- replace all LLOD/ULOD (-888, -777) with 1/2 the LOD for each tracer \n",
    "toga_trc_pre_blcorr = xr.Dataset()    \n",
    "for ii in toga_trc_nh_noreplace.data_vars:\n",
    "    # get this tracer and its LOD \n",
    "    trc_vals = toga_trc_nh_noreplace[ii].values\n",
    "    trc = toga_trc_nh_noreplace[ii]\n",
    "    \n",
    "    # -------- locations for fills\n",
    "    # llod \n",
    "    llod = trc.attrs['LLOD']\n",
    "    where_llod = np.where(trc_vals == llod)\n",
    "    # ulod \n",
    "    ulod = trc.attrs['ULOD']\n",
    "    where_ulod = np.where(trc_vals == ulod)\n",
    "    \n",
    "    # -------- make those locations equal to LOD/2 \n",
    "    trc_vals[where_llod] = trc.LOD/2\n",
    "    trc_vals[where_ulod] = trc.LOD/2\n",
    "    # replace values in Dataarray with that including substituded values, save to var \n",
    "    trc.values = trc_vals\n",
    "    toga_trc_pre_blcorr[ii] = trc\n",
    "    print(np.nanmax(toga_trc_pre_blcorr[ii]))"
   ]
  },
  {
   "cell_type": "code",
   "execution_count": 21,
   "metadata": {},
   "outputs": [],
   "source": [
    "### ---------------------- ADD LIFETIMES AS AN ATTRIBUTE ---------------------- ###\n",
    "# read in from xls file to make dataframe\n",
    "mypath2 = '/Volumes/scdrive2/TTS_2020/contrast_readin/toga_lodhalf/toga_lifetimes_12162019.xlsx'\n",
    "toga_lifetimes = pd.read_excel(mypath2)\n",
    "\n",
    "# add attribute to each tracer \n",
    "for ii in enumerate(toga_trc_pre_blcorr.data_vars):\n",
    "    myind = ii[0]\n",
    "    trc = ii[1]\n",
    "    toga_trc_pre_blcorr[trc].attrs['BL_lifetime'] = toga_lifetimes['BL_tau'][myind]\n",
    "    toga_trc_pre_blcorr[trc].attrs['UT_lifetime'] = toga_lifetimes['UT_tau'][myind]\n",
    "    toga_trc_pre_blcorr[trc].attrs['TROPO_lifetime'] = toga_lifetimes['TROPO_tau'][myind]"
   ]
  },
  {
   "cell_type": "code",
   "execution_count": null,
   "metadata": {},
   "outputs": [],
   "source": []
  },
  {
   "cell_type": "code",
   "execution_count": null,
   "metadata": {},
   "outputs": [],
   "source": []
  },
  {
   "cell_type": "code",
   "execution_count": 22,
   "metadata": {
    "scrolled": true
   },
   "outputs": [
    {
     "name": "stdout",
     "output_type": "stream",
     "text": [
      "17.76 17.28\n"
     ]
    }
   ],
   "source": [
    "### ---------------------- REMOVE BL SAMPLES NEAR GUAM ---------------------- ###\n",
    "# ~111 km/degree lat and ~108 km/degree long\n",
    "# so this is about 11 km around guam \n",
    "# https://www.johndcook.com/how_big_is_a_degree.html\n",
    "guam_coord = [13.4, 144.8]\n",
    "cut = 0.16\n",
    "print((111*0.16), (108*0.16))\n",
    "guam_lat_cuts = [guam_coord[0]-cut, guam_coord[0]+cut]\n",
    "guam_lon_cuts = [guam_coord[1]-cut, guam_coord[1]+cut]\n",
    "\n",
    "# get the regions near guam to mask out and altitudes (not BL)\n",
    "null_lat = np.where((toga_param_noblcorr.GGLAT > guam_lat_cuts[0]) \n",
    "                    & (toga_param_noblcorr.GGLAT < guam_lat_cuts[1]))\n",
    "null_lon = np.where((toga_param_noblcorr.GGLON > guam_lon_cuts[0]) \n",
    "                    & (toga_param_noblcorr.GGLON < guam_lon_cuts[1]))\n",
    "null_alt = np.where((toga_param_noblcorr.GGALT < 4000))\n",
    "\n",
    "# get intersection, index list to mask \n",
    "near_guam = np.intersect1d(null_lat, null_lon, null_alt)\n",
    "\n",
    "# get the opposite of that index, NOT near guam \n",
    "#not_guam = np.arange(0, len(toga_param.GGALT.values), dtype = float)\n",
    "#not_guam[near_guam]=np.nan\n",
    "\n",
    "not_guam = np.arange(0, len(toga_param_noblcorr.GGALT.values))\n",
    "not_guam = np.delete(not_guam, near_guam)"
   ]
  },
  {
   "cell_type": "code",
   "execution_count": 23,
   "metadata": {},
   "outputs": [
    {
     "name": "stdout",
     "output_type": "stream",
     "text": [
      "537.8\n",
      "152.01\n",
      "88.04\n",
      "92.2\n",
      "513.0\n",
      "1233.0\n",
      "1.638\n",
      "3.01\n",
      "1.742\n",
      "93.0\n",
      "16.94\n",
      "102.0\n"
     ]
    }
   ],
   "source": [
    "# keep only non-guam values - AIRCRAFT PARAM \n",
    "toga_param = xr.Dataset()\n",
    "for ii in toga_param_noblcorr.coords:\n",
    "    param = toga_param_noblcorr[ii]\n",
    "    param_noguam = param[not_guam].values \n",
    "    toga_param[ii] = param_noguam\n",
    "\n",
    "# keep only non-guam values - TRACERS \n",
    "toga_trc = xr.Dataset()\n",
    "for ii in toga_trc_pre_blcorr.data_vars:\n",
    "    trc = toga_trc_pre_blcorr[ii]\n",
    "    trc_noguam = trc[not_guam]\n",
    "    toga_trc[ii] = trc_noguam\n",
    "    print(np.nanmax(toga_trc[ii]))"
   ]
  },
  {
   "cell_type": "code",
   "execution_count": 24,
   "metadata": {},
   "outputs": [],
   "source": [
    "### ---------------------- ADD AC PARAMETERS AS COORDINATES ---------------------- ###\n",
    "for ii in toga_param.coords:\n",
    "    my_coord = toga_param[ii]\n",
    "    toga_trc.coords[ii] = my_coord"
   ]
  },
  {
   "cell_type": "code",
   "execution_count": 25,
   "metadata": {},
   "outputs": [
    {
     "name": "stdout",
     "output_type": "stream",
     "text": [
      "<xarray.DataArray 'GGALT' (GGALT: 0)>\n",
      "array([], dtype=float32)\n",
      "Coordinates:\n",
      "  * GGALT    (GGALT) float32  <xarray.DataArray 'GGLAT' (GGLAT: 0)>\n",
      "array([], dtype=float32)\n",
      "Coordinates:\n",
      "  * GGLAT    (GGLAT) float32  <xarray.DataArray 'GGLON' (GGLON: 0)>\n",
      "array([], dtype=float32)\n",
      "Coordinates:\n",
      "  * GGLON    (GGLON) float32 \n"
     ]
    },
    {
     "name": "stderr",
     "output_type": "stream",
     "text": [
      "//anaconda3/envs/py3/lib/python3.7/site-packages/ipykernel_launcher.py:1: RuntimeWarning: invalid value encountered in greater\n",
      "  \"\"\"Entry point for launching an IPython kernel.\n"
     ]
    },
    {
     "data": {
      "text/plain": [
       "<xarray.Dataset>\n",
       "Dimensions:               (GGALT: 2174, GGLAT: 2174, GGLON: 2174, Time: 2174, Time_UTC: 2174, WIC: 2174)\n",
       "Coordinates:\n",
       "  * Time                  (Time) datetime64[ns] 2014-01-17T00:18:06 ... 2014-02-22T09:20:05\n",
       "  * GGALT                 (GGALT) float32 3127.166 4212.603 ... 3358.9587\n",
       "  * GGLAT                 (GGLAT) float32 13.379817 13.258845 ... 12.707678\n",
       "  * GGLON                 (GGLON) float32 144.9935 145.1362 ... 144.72903\n",
       "  * Time_UTC              (Time_UTC) datetime64[ns] 2014-01-17T00:18:24 ... 2014-02-22T09:20:23\n",
       "  * WIC                   (WIC) float32 0.15899388 -0.41373205 ... 0.15925232\n",
       "Data variables:\n",
       "    Acetaldehyde          (Time) float32 191.2 126.8 nan 116.9 ... nan nan nan\n",
       "    n_Butane              (Time) float32 1.51 1.68 1.42 1.14 ... nan nan nan nan\n",
       "    i_Butane              (Time) float32 2.49 2.6 2.17 1.09 ... nan nan nan nan\n",
       "    Benzene               (Time) float32 nan nan 7.28 8.23 ... nan nan nan nan\n",
       "    C3H8                  (Time) float32 41.0 13.0 18.0 5.0 ... nan nan nan nan\n",
       "    Methanol              (Time) float32 611.0 378.0 228.0 327.0 ... nan nan nan\n",
       "    Bromoform             (Time) float32 0.689 0.48 0.05 0.625 ... nan nan nan\n",
       "    Tetrachloroethylene   (Time) float32 0.15 0.15 0.15 0.15 ... nan nan nan nan\n",
       "    Dibromomethane        (Time) float32 nan nan nan 1.043 ... nan nan nan nan\n",
       "    Dichloromethane       (Time) float32 44.49 50.11 42.03 43.69 ... nan nan nan\n",
       "    Chloroform            (Time) float32 9.39 10.29 8.67 9.42 ... nan nan nan\n",
       "    Carbon_Tetrachloride  (Time) float32 97.1 94.3 96.7 94.6 ... nan nan nan nan"
      ]
     },
     "execution_count": 25,
     "metadata": {},
     "output_type": "execute_result"
    },
    {
     "data": {
      "image/png": "[encoded data removed]",
      "text/plain": [
       "<Figure size 432x288 with 1 Axes>"
      ]
     },
     "metadata": {
      "needs_background": "light"
     },
     "output_type": "display_data"
    }
   ],
   "source": [
    "big = np.where(toga_trc.Acetaldehyde.values > 1000)\n",
    "plt.plot(toga_trc.Acetaldehyde)\n",
    "print(toga_trc.GGALT[big], toga_trc.GGLAT[big], toga_trc.GGLON[big])\n",
    "\n",
    "toga_trc"
   ]
  },
  {
   "cell_type": "code",
   "execution_count": 26,
   "metadata": {},
   "outputs": [
    {
     "name": "stdout",
     "output_type": "stream",
     "text": [
      "finished saving tracers\n"
     ]
    }
   ],
   "source": [
    "### pickle it! \n",
    "toga_trc.to_netcdf(path = '/Volumes/scdrive2/TTS_2020/contrast_readin/toga_lodhalf/toga_trace_gases_twp.nc')\n",
    "print ('finished saving tracers')"
   ]
  },
  {
   "cell_type": "code",
   "execution_count": null,
   "metadata": {},
   "outputs": [],
   "source": []
  },
  {
   "cell_type": "code",
   "execution_count": null,
   "metadata": {},
   "outputs": [],
   "source": []
  },
  {
   "cell_type": "code",
   "execution_count": null,
   "metadata": {},
   "outputs": [],
   "source": []
  },
  {
   "cell_type": "code",
   "execution_count": null,
   "metadata": {},
   "outputs": [],
   "source": []
  },
  {
   "cell_type": "code",
   "execution_count": null,
   "metadata": {},
   "outputs": [],
   "source": []
  },
  {
   "cell_type": "code",
   "execution_count": null,
   "metadata": {},
   "outputs": [],
   "source": []
  },
  {
   "cell_type": "code",
   "execution_count": null,
   "metadata": {},
   "outputs": [],
   "source": []
  },
  {
   "cell_type": "code",
   "execution_count": null,
   "metadata": {},
   "outputs": [],
   "source": []
  },
  {
   "cell_type": "code",
   "execution_count": null,
   "metadata": {},
   "outputs": [],
   "source": []
  },
  {
   "cell_type": "code",
   "execution_count": null,
   "metadata": {},
   "outputs": [],
   "source": []
  },
  {
   "cell_type": "code",
   "execution_count": null,
   "metadata": {},
   "outputs": [],
   "source": []
  },
  {
   "cell_type": "code",
   "execution_count": null,
   "metadata": {},
   "outputs": [],
   "source": []
  },
  {
   "cell_type": "code",
   "execution_count": null,
   "metadata": {},
   "outputs": [],
   "source": []
  },
  {
   "cell_type": "code",
   "execution_count": null,
   "metadata": {},
   "outputs": [],
   "source": []
  },
  {
   "cell_type": "code",
   "execution_count": null,
   "metadata": {},
   "outputs": [],
   "source": []
  },
  {
   "cell_type": "code",
   "execution_count": null,
   "metadata": {},
   "outputs": [],
   "source": []
  },
  {
   "cell_type": "code",
   "execution_count": null,
   "metadata": {},
   "outputs": [],
   "source": []
  },
  {
   "cell_type": "code",
   "execution_count": null,
   "metadata": {},
   "outputs": [],
   "source": []
  },
  {
   "cell_type": "code",
   "execution_count": null,
   "metadata": {},
   "outputs": [],
   "source": []
  },
  {
   "cell_type": "code",
   "execution_count": null,
   "metadata": {},
   "outputs": [],
   "source": []
  },
  {
   "cell_type": "code",
   "execution_count": null,
   "metadata": {},
   "outputs": [],
   "source": []
  },
  {
   "cell_type": "code",
   "execution_count": null,
   "metadata": {},
   "outputs": [],
   "source": []
  },
  {
   "cell_type": "code",
   "execution_count": null,
   "metadata": {},
   "outputs": [],
   "source": []
  },
  {
   "cell_type": "code",
   "execution_count": null,
   "metadata": {},
   "outputs": [],
   "source": []
  },
  {
   "cell_type": "code",
   "execution_count": null,
   "metadata": {},
   "outputs": [],
   "source": []
  },
  {
   "cell_type": "code",
   "execution_count": null,
   "metadata": {},
   "outputs": [],
   "source": []
  },
  {
   "cell_type": "code",
   "execution_count": null,
   "metadata": {},
   "outputs": [],
   "source": []
  },
  {
   "cell_type": "code",
   "execution_count": null,
   "metadata": {},
   "outputs": [],
   "source": []
  }
 ],
 "metadata": {
  "kernelspec": {
   "display_name": "Python [conda env:py3] *",
   "language": "python",
   "name": "conda-env-py3-py"
  },
  "language_info": {
   "codemirror_mode": {
    "name": "ipython",
    "version": 3
   },
   "file_extension": ".py",
   "mimetype": "text/x-python",
   "name": "python",
   "nbconvert_exporter": "python",
   "pygments_lexer": "ipython3",
   "version": "3.7.4"
  }
 },
 "nbformat": 4,
 "nbformat_minor": 2
}
