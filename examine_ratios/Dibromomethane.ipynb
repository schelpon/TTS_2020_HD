{
 "cells": [
  {
   "cell_type": "code",
   "execution_count": 3,
   "metadata": {},
   "outputs": [],
   "source": [
    "import numpy as np \n",
    "import xarray as xr\n",
    "import pandas as pd \n",
    "import datetime \n",
    "import seaborn as sns\n",
    "import datetime as dt\n",
    "from scipy.optimize import least_squares\n",
    "import scipy\n",
    "\n",
    "import matplotlib\n",
    "from matplotlib import pyplot as plt\n",
    "import matplotlib.ticker as mticker\n",
    "from mpl_toolkits import mplot3d\n",
    "\n",
    "%matplotlib inline\n",
    "%config inlinebackend.figure_format='retina'"
   ]
  },
  {
   "cell_type": "code",
   "execution_count": 4,
   "metadata": {},
   "outputs": [],
   "source": [
    "# load in both toga and awas data pickles \n",
    "utbl_allseg = pd.read_pickle(\"/Volumes/scdrive2/TTS_2020/get_tts/tts_vary_ut/MD2_outputs/campavgbl/utbl_allseg_campavgbl.pkl\")\n",
    "tau_allseg = pd.read_pickle(\"/Volumes/scdrive2/TTS_2020/get_tts/tts_vary_ut/MD2_outputs/campavgbl/tau_allseg_campavgbl.pkl\")\n",
    "seginfo_allseg = pd.read_pickle(\"/Volumes/scdrive2/TTS_2020/get_tts/tts_vary_ut/MD2_outputs/campavgbl/segment_info_campavgbl.pkl\")\n",
    "trcnames_allseg = pd.read_pickle(\"/Volumes/scdrive2/TTS_2020/get_tts/tts_vary_ut/data_prep/trcnames_allseg.pkl\")\n",
    "\n",
    "toga_seg = pd.read_pickle(\"/Volumes/scdrive2/TTS_2020/get_tts/tts_vary_ut/data_prep/toga_segments.pkl\")\n",
    "awas_seg = pd.read_pickle(\"/Volumes/scdrive2/TTS_2020/get_tts/tts_vary_ut/data_prep/awas_segments.pkl\")\n",
    "\n",
    "awas_df = pd.read_pickle(\"/Volumes/scdrive2/TTS_2020/get_ratios/awas_data_df.pkl\")\n",
    "toga_df = pd.read_pickle(\"/Volumes/scdrive2/TTS_2020/get_ratios/toga_data_df.pkl\")"
   ]
  },
  {
   "cell_type": "code",
   "execution_count": 60,
   "metadata": {},
   "outputs": [],
   "source": [
    "# dibromomethane \n",
    "dibro_utbl = []\n",
    "\n",
    "# \n",
    "col = list(trcnames_allseg)\n",
    "for i in col:\n",
    "    idx = np.where(trcnames_allseg[i] == 'Dibromomethane')\n",
    "    utbl = utbl_allseg[i].loc[idx]\n",
    "    if (len(utbl) > 0):\n",
    "        dibro_utbl.append(np.float(utbl.values))\n",
    "\n",
    "dibro_utbl = np.asarray(dibro_utbl)\n",
    "dibro_utbl_gt = dibro_utbl[np.where(dibro_utbl > 1)]\n"
   ]
  },
  {
   "cell_type": "code",
   "execution_count": 72,
   "metadata": {},
   "outputs": [
    {
     "data": {
      "text/plain": [
       "Text(0, 0.5, 'Count')"
      ]
     },
     "execution_count": 72,
     "metadata": {},
     "output_type": "execute_result"
    },
    {
     "data": {
      "image/png": "[encoded data removed]",
      "text/plain": [
       "<Figure size 432x288 with 1 Axes>"
      ]
     },
     "metadata": {
      "needs_background": "light"
     },
     "output_type": "display_data"
    }
   ],
   "source": [
    "# all ratios \n",
    "bins = np.arange(0.5, 1.3, 0.1)\n",
    "\n",
    "plt.hist(dibro_utbl, bins = bins, edgecolor = 'k')\n",
    "plt.grid(which = 'major')\n",
    "plt.title('Dibromomethane UT/BL for UT Segments')\n",
    "plt.xlabel('Ratio Value')\n",
    "plt.ylabel('Count')"
   ]
  },
  {
   "cell_type": "code",
   "execution_count": 75,
   "metadata": {},
   "outputs": [
    {
     "data": {
      "text/plain": [
       "Text(0, 0.5, 'Count')"
      ]
     },
     "execution_count": 75,
     "metadata": {},
     "output_type": "execute_result"
    },
    {
     "data": {
      "image/png": "[encoded data removed]",
      "text/plain": [
       "<Figure size 432x288 with 1 Axes>"
      ]
     },
     "metadata": {
      "needs_background": "light"
     },
     "output_type": "display_data"
    }
   ],
   "source": [
    "# >1 only \n",
    "bins = np.arange(1, 1.3, 0.05)\n",
    "\n",
    "plt.hist(dibro_utbl_gt, facecolor = [0.52, 0.11, 0.18], edgecolor = 'k', bins = bins)\n",
    "plt.grid(which = 'major')\n",
    "plt.title('Dibromomethane UT/BL >1 for UT Segments')\n",
    "plt.xlabel('Ratio Value')\n",
    "plt.ylabel('Count')"
   ]
  },
  {
   "cell_type": "code",
   "execution_count": null,
   "metadata": {},
   "outputs": [],
   "source": []
  },
  {
   "cell_type": "code",
   "execution_count": null,
   "metadata": {},
   "outputs": [],
   "source": []
  }
 ],
 "metadata": {
  "kernelspec": {
   "display_name": "Python [conda env:py3] *",
   "language": "python",
   "name": "conda-env-py3-py"
  },
  "language_info": {
   "codemirror_mode": {
    "name": "ipython",
    "version": 3
   },
   "file_extension": ".py",
   "mimetype": "text/x-python",
   "name": "python",
   "nbconvert_exporter": "python",
   "pygments_lexer": "ipython3",
   "version": "3.7.4"
  }
 },
 "nbformat": 4,
 "nbformat_minor": 2
}
