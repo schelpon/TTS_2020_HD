{
 "cells": [
  {
   "cell_type": "code",
   "execution_count": 2,
   "metadata": {},
   "outputs": [],
   "source": [
    "# want to look at segments with ratios >1\n",
    "# find out what tracers, look at UT and BL distributions \n",
    "# date created: 3/26/2020\n",
    "# author: sofia chelpon"
   ]
  },
  {
   "cell_type": "code",
   "execution_count": 3,
   "metadata": {},
   "outputs": [],
   "source": [
    "import numpy as np \n",
    "import xarray as xr\n",
    "import pandas as pd \n",
    "import datetime \n",
    "import seaborn as sns\n",
    "import datetime as dt\n",
    "from scipy.optimize import least_squares\n",
    "\n",
    "import matplotlib\n",
    "from matplotlib import pyplot as plt\n",
    "import matplotlib.ticker as mticker\n",
    "from mpl_toolkits import mplot3d\n",
    "\n",
    "%matplotlib inline\n",
    "%config inlinebackend.figure_format='retina'"
   ]
  },
  {
   "cell_type": "code",
   "execution_count": 4,
   "metadata": {},
   "outputs": [],
   "source": [
    "# load in both toga and awas data pickles \n",
    "awas_df = pd.read_pickle(\"/Volumes/scdrive2/TTS_2020/get_ratios/awas_data_df.pkl\")\n",
    "toga_df = pd.read_pickle(\"/Volumes/scdrive2/TTS_2020/get_ratios/toga_data_df.pkl\")"
   ]
  },
  {
   "cell_type": "code",
   "execution_count": null,
   "metadata": {},
   "outputs": [],
   "source": []
  }
 ],
 "metadata": {
  "kernelspec": {
   "display_name": "Python [conda env:py3] *",
   "language": "python",
   "name": "conda-env-py3-py"
  },
  "language_info": {
   "codemirror_mode": {
    "name": "ipython",
    "version": 3
   },
   "file_extension": ".py",
   "mimetype": "text/x-python",
   "name": "python",
   "nbconvert_exporter": "python",
   "pygments_lexer": "ipython3",
   "version": "3.7.4"
  }
 },
 "nbformat": 4,
 "nbformat_minor": 2
}
