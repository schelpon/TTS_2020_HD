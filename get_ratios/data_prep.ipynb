{
 "cells": [
  {
   "cell_type": "code",
   "execution_count": 20,
   "metadata": {},
   "outputs": [],
   "source": [
    "# script to create pandas data frame full of attributes (flight, instrument used, etc) \n",
    "# author: sofia chelpon\n",
    "# date created: 2-12-2020"
   ]
  },
  {
   "cell_type": "code",
   "execution_count": 23,
   "metadata": {},
   "outputs": [],
   "source": [
    "import numpy as np \n",
    "import xarray as xr\n",
    "import pandas as pd \n",
    "import datetime \n",
    "import seaborn as sns\n",
    "\n",
    "import datetime as dt \n",
    "\n",
    "import matplotlib\n",
    "from matplotlib import pyplot as plt\n",
    "import matplotlib.ticker as mticker\n",
    "from mpl_toolkits import mplot3d\n",
    "\n",
    "%matplotlib inline\n",
    "%config inlinebackend.figure_format='retina'"
   ]
  },
  {
   "cell_type": "code",
   "execution_count": 24,
   "metadata": {},
   "outputs": [],
   "source": [
    "# load in both toga and awas data\n",
    "mypath1 = '/Volumes/scdrive2/TTS_2020/contrast_readin/awas/awas_trace_gases_twp.nc'\n",
    "awas_trc = xr.open_dataset(mypath1)\n",
    "\n",
    "mypath2 = '/Volumes/scdrive2/TTS_2020/contrast_readin/toga_lodhalf/toga_trace_gases_twp.nc'\n",
    "toga_trc = xr.open_dataset(mypath2)"
   ]
  },
  {
   "cell_type": "code",
   "execution_count": 25,
   "metadata": {},
   "outputs": [],
   "source": [
    "## flight date info (UTC)\n",
    "#RF 03 ---> 2014-01-17 00:16:06\n",
    "#RF 04 ---> 2014-01-19 00:29:14\n",
    "#RF 05 ---> 2014-01-22 00:18:06\n",
    "#RF 08 ---> 2014-02-01 04:04:05\n",
    "#RF 09 ---> 2014-02-04 00:00:06\n",
    "#RF 10 ---> 2014-02-08 00:18:05\n",
    "#RF 12 ---> 2014-02-17 00:04:05\n",
    "#RF 14 ---> 2014-02-22 00:08:05      \n",
    "        \n",
    "#NOT ALL FLIGHT DAYS START/END SAME DAY \n",
    "#RF06 starts on 2014-01-24 23:54:06 and ends on 2014-01-25 07:04:06\n",
    "#RF07 starts on 2014-01-28 23:53:06 and ends on 2014-01-29 06:13:06\n",
    "#RF11 starts on 2014-02-12 23:59:25 and ends on 2014-02-13 06:29:25\n",
    "#RF13 starts on 2014-02-19 17:02:05 and ends on 2014-02-20 00:20:03"
   ]
  },
  {
   "cell_type": "code",
   "execution_count": null,
   "metadata": {},
   "outputs": [],
   "source": []
  },
  {
   "cell_type": "code",
   "execution_count": 26,
   "metadata": {},
   "outputs": [],
   "source": [
    "################# -------------------- TOGA  -------------------- #################"
   ]
  },
  {
   "cell_type": "code",
   "execution_count": 27,
   "metadata": {},
   "outputs": [],
   "source": [
    "# TOGA - sort flights dates into flight names and notes (from Pan, BAMS 2017) for adding to dataframe \n",
    "myflights = []\n",
    "flightnotes = []\n",
    "\n",
    "for ii in toga_trc.Time_UTC.values:\n",
    "    t = np.datetime64(ii)\n",
    "#RF 03 ---> 2014-01-17 00:16:06\n",
    "    if (pd.to_datetime(t).month == 1) and (pd.to_datetime(t).day == 17):\n",
    "        myflights.append('RF03')\n",
    "        flightnotes.append('Domain survey, 1 - Guam to SE (Chuuk)')\n",
    "#RF 04 ---> 2014-01-19 00:29:14\n",
    "    elif (pd.to_datetime(t).month == 1) and (pd.to_datetime(t).day == 19):\n",
    "        myflights.append('RF04')\n",
    "        flightnotes.append('Domain survey, 1 - Guam to SW (Palau)')\n",
    "#RF 05 ---> 2014-01-22 00:18:06\n",
    "    elif (pd.to_datetime(t).month == 1) and (pd.to_datetime(t).day == 22):\n",
    "        myflights.append('RF05')\n",
    "        flightnotes.append('Convective outflow, 2 - North of Guam')\n",
    "#RF06 starts on 2014-01-24 23:54:06 and ends on 2014-01-25 07:04:06\n",
    "    elif (pd.to_datetime(t).month == 1) and (pd.to_datetime(t).day == 24):\n",
    "        myflights.append('RF06')\n",
    "        flightnotes.append('Jet crossing/pre–postfrontal contrast, 4, 5 - N/NW of Guam, entering Fukuoka FIR (JPN)')\n",
    "    elif (pd.to_datetime(t).month == 1) and (pd.to_datetime(t).day == 25):\n",
    "        myflights.append('RF06')\n",
    "        flightnotes.append('Jet crossing/pre–postfrontal contrast, 4, 5 - N/NW of Guam, entering Fukuoka FIR (JPN)')\n",
    "#RF07 starts on 2014-01-28 23:53:06 and ends on 2014-01-29 06:13:06\n",
    "    elif (pd.to_datetime(t).month == 1) and (pd.to_datetime(t).day == 28):\n",
    "        myflights.append('RF07')\n",
    "        flightnotes.append('SH convective outflow survey, 1, 4 - Guam to equatorial region')\n",
    "    elif (pd.to_datetime(t).month == 1) and (pd.to_datetime(t).day == 29):\n",
    "        myflights.append('RF07')\n",
    "        flightnotes.append('SH convective outflow survey, 1, 4 - Guam to equatorial region')\n",
    "#RF 08 ---> 2014-02-01 04:04:05\n",
    "    elif (pd.to_datetime(t).month == 2) and (pd.to_datetime(t).day == 1):\n",
    "        myflights.append('RF08')\n",
    "        flightnotes.append('Photochemical evolution– sunset, 3, 7 - Guam to E (stagnation point of A.C.)')\n",
    "#RF 09 ---> 2014-02-04 00:00:06\n",
    "    elif (pd.to_datetime(t).month == 2) and (pd.to_datetime(t).day == 4):\n",
    "        myflights.append('RF09')\n",
    "        flightnotes.append('Equatorial crossing and Manus ozonesonde, 2, 6 - Guam to Port Moresby FIR (PNG)')\n",
    "    elif (pd.to_datetime(t).month == 2) and (pd.to_datetime(t).day == 5):\n",
    "        myflights.append('RF09')\n",
    "        flightnotes.append('Equatorial crossing and Manus ozonesonde, 2, 6 - Guam to Port Moresby FIR (PNG)')\n",
    "#RF 10 ---> 2014-02-08 00:18:05 \n",
    "    elif (pd.to_datetime(t).month == 2) and (pd.to_datetime(t).day == 8):\n",
    "        myflights.append('RF10')\n",
    "        flightnotes.append('Subtropical jet pollution and ITCZ survey, 2, 5 - Guam to near equator crossing ITCZ near 6°N')\n",
    "#RF11 starts on 2014-02-12 23:59:25 and ends on 2014-02-13 06:29:25\n",
    "    elif (pd.to_datetime(t).month == 2) and (pd.to_datetime(t).day == 12):\n",
    "        myflights.append('RF11')\n",
    "        flightnotes.append('Convective outflow and coordinate flight, 2, 6, 7 - Guam to S/SW')\n",
    "    elif (pd.to_datetime(t).month == 2) and (pd.to_datetime(t).day == 13):\n",
    "        myflights.append('RF11')\n",
    "        flightnotes.append('Convective outflow and coordinate flight, 2, 6, 7 - Guam to S/SW')\n",
    "#RF 12 ---> 2014-02-17 00:04:05\n",
    "    elif (pd.to_datetime(t).month == 2) and (pd.to_datetime(t).day == 17):\n",
    "        myflights.append('RF12')\n",
    "        flightnotes.append('Convective outflow and coordinate flight, 2, 6, 7 - Guam to S/SE')\n",
    "#RF13 starts on 2014-02-19 17:02:05 and ends on 2014-02-20 00:20:03\n",
    "    elif (pd.to_datetime(t).month == 2) and (pd.to_datetime(t).day == 19):\n",
    "        myflights.append('RF13')\n",
    "        flightnotes.append('Photochemical evolution– sunrise, 3 - Guam to E (stagnation point of A.C.)')\n",
    "    elif (pd.to_datetime(t).month == 2) and (pd.to_datetime(t).day == 20):\n",
    "        myflights.append('RF13')\n",
    "        flightnotes.append('Photochemical evolution– sunrise, 3 - Guam to E (stagnation point of A.C.)')\n",
    "#RF 14 ---> 2014-02-22 00:08:05 \n",
    "    else: \n",
    "        myflights.append('RF14')\n",
    "        flightnotes.append('Equator crossing, SH TTL survey, and Manus ozon- esonde, 1, 2, 6 - Guam to Port Moresby FIR (PNG) and Brisbane FIR (AUS)')"
   ]
  },
  {
   "cell_type": "code",
   "execution_count": 28,
   "metadata": {},
   "outputs": [],
   "source": [
    "# put toga into one dataframe, start building with time \n",
    "toga_df = pd.DataFrame({\"Time_UTC\": toga_trc.Time})\n",
    "toga_df.insert(1, 'Intrument', 'TOGA')\n",
    "\n",
    "# add flight name and notes \n",
    "toga_df.insert(1, 'Flight', myflights)\n",
    "toga_df.insert(2, 'Notes', flightnotes)\n",
    "\n",
    "# add attributes \n",
    "toga_df['GGALT'] = toga_trc.GGALT\n",
    "toga_df['GGLAT'] = toga_trc.GGLAT\n",
    "toga_df['GGLON'] = toga_trc.GGLON\n",
    "toga_df['WIC'] = toga_trc.WIC\n",
    "\n",
    "\n",
    "# add all tracers back in \n",
    "for ii in toga_trc.data_vars:\n",
    "    toga_df[str(ii)] = toga_trc[ii]\n",
    "\n",
    "# pickle it! \n",
    "toga_df.to_pickle(\"./toga_data_df_twp.pkl\")"
   ]
  },
  {
   "cell_type": "code",
   "execution_count": null,
   "metadata": {},
   "outputs": [],
   "source": []
  },
  {
   "cell_type": "code",
   "execution_count": 29,
   "metadata": {},
   "outputs": [
    {
     "data": {
      "image/png": "[encoded data removed]",
      "text/plain": [
       "<Figure size 432x288 with 2 Axes>"
      ]
     },
     "metadata": {
      "needs_background": "light"
     },
     "output_type": "display_data"
    }
   ],
   "source": [
    "# do rf05 vertical velocities coincide with a VSL enhancement?\n",
    "rf05 = toga_df[toga_df['Flight'] == 'RF05']\n",
    "\n",
    "fig, ax1 = plt.subplots()\n",
    "\n",
    "# wic \n",
    "color = 'tab:blue'\n",
    "ax1.set_xlabel('UTC Time')\n",
    "ax1.set_ylabel('WIC [m/s]', color=color)\n",
    "ax1.plot(rf05.Time_UTC, rf05.WIC, label = 'WIC', color=color)\n",
    "ax1.tick_params(axis='y', labelcolor=color)\n",
    "ax1.grid(which = 'major')\n",
    "ax1.set_title('RF05 Vertical Velocities')\n",
    "# dms \n",
    "ax2 = ax1.twinx()  # instantiate a second axes that shares the same x-axis\n",
    "color = 'tab:red'\n",
    "ax2.set_ylabel('DMS [pptv]', color=color)  # we already handled the x-label with ax1\n",
    "ax2.plot(rf05.Time_UTC, rf05.Acetaldehyde, label = 'DMS', color=color, alpha = 0.5)\n",
    "ax2.tick_params(axis='y', labelcolor=color)"
   ]
  },
  {
   "cell_type": "code",
   "execution_count": null,
   "metadata": {},
   "outputs": [],
   "source": []
  },
  {
   "cell_type": "code",
   "execution_count": 30,
   "metadata": {},
   "outputs": [],
   "source": [
    "################# -------------------- AWAS  -------------------- #################"
   ]
  },
  {
   "cell_type": "code",
   "execution_count": 31,
   "metadata": {},
   "outputs": [],
   "source": [
    "# AWAS - sort flights dates into flight names and notes (from Pan, BAMS 2017) for adding to dataframe \n",
    "myflights = []\n",
    "flightnotes = []\n",
    "\n",
    "for ii in awas_trc.Time_UTC.values:\n",
    "    t = np.datetime64(ii)\n",
    "#RF 03 ---> 2014-01-17 00:16:06\n",
    "    if (pd.to_datetime(t).month == 1) and (pd.to_datetime(t).day == 17):\n",
    "        myflights.append('RF03')\n",
    "        flightnotes.append('Domain survey, 1 - Guam to SE (Chuuk)')\n",
    "#RF 04 ---> 2014-01-19 00:29:14\n",
    "    elif (pd.to_datetime(t).month == 1) and (pd.to_datetime(t).day == 19):\n",
    "        myflights.append('RF04')\n",
    "        flightnotes.append('Domain survey, 1 - Guam to SW (Palau)')\n",
    "#RF 05 ---> 2014-01-22 00:18:06\n",
    "    elif (pd.to_datetime(t).month == 1) and (pd.to_datetime(t).day == 22):\n",
    "        myflights.append('RF05')\n",
    "        flightnotes.append('Convective outflow, 2 - North of Guam')\n",
    "#RF06 starts on 2014-01-24 23:54:06 and ends on 2014-01-25 07:04:06\n",
    "    elif (pd.to_datetime(t).month == 1) and (pd.to_datetime(t).day == 24):\n",
    "        myflights.append('RF06')\n",
    "        flightnotes.append('Jet crossing/pre–postfrontal contrast, 4, 5 - N/NW of Guam, entering Fukuoka FIR (JPN)')\n",
    "    elif (pd.to_datetime(t).month == 1) and (pd.to_datetime(t).day == 25):\n",
    "        myflights.append('RF06')\n",
    "        flightnotes.append('Jet crossing/pre–postfrontal contrast, 4, 5 - N/NW of Guam, entering Fukuoka FIR (JPN)')\n",
    "#RF07 starts on 2014-01-28 23:53:06 and ends on 2014-01-29 06:13:06\n",
    "    elif (pd.to_datetime(t).month == 1) and (pd.to_datetime(t).day == 28):\n",
    "        myflights.append('RF07')\n",
    "        flightnotes.append('SH convective outflow survey, 1, 4 - Guam to equatorial region')\n",
    "    elif (pd.to_datetime(t).month == 1) and (pd.to_datetime(t).day == 29):\n",
    "        myflights.append('RF07')\n",
    "        flightnotes.append('SH convective outflow survey, 1, 4 - Guam to equatorial region')\n",
    "#RF 08 ---> 2014-02-01 04:04:05\n",
    "    elif (pd.to_datetime(t).month == 2) and (pd.to_datetime(t).day == 1):\n",
    "        myflights.append('RF08')\n",
    "        flightnotes.append('Photochemical evolution– sunset, 3, 7 - Guam to E (stagnation point of A.C.)')\n",
    "#RF 09 ---> 2014-02-04 00:00:06\n",
    "    elif (pd.to_datetime(t).month == 2) and (pd.to_datetime(t).day == 4):\n",
    "        myflights.append('RF09')\n",
    "        flightnotes.append('Equatorial crossing and Manus ozonesonde, 2, 6 - Guam to Port Moresby FIR (PNG)')\n",
    "    elif (pd.to_datetime(t).month == 2) and (pd.to_datetime(t).day == 5):\n",
    "        myflights.append('RF09')\n",
    "        flightnotes.append('Equatorial crossing and Manus ozonesonde, 2, 6 - Guam to Port Moresby FIR (PNG)')\n",
    "#RF 10 ---> 2014-02-08 00:18:05 \n",
    "    elif (pd.to_datetime(t).month == 2) and (pd.to_datetime(t).day == 8):\n",
    "        myflights.append('RF10')\n",
    "        flightnotes.append('Subtropical jet pollution and ITCZ survey, 2, 5 - Guam to near equator crossing ITCZ near 6°N')\n",
    "#RF11 starts on 2014-02-12 23:59:25 and ends on 2014-02-13 06:29:25\n",
    "    elif (pd.to_datetime(t).month == 2) and (pd.to_datetime(t).day == 12):\n",
    "        myflights.append('RF11')\n",
    "        flightnotes.append('Convective outflow and coordinate flight, 2, 6, 7 - Guam to S/SW')\n",
    "    elif (pd.to_datetime(t).month == 2) and (pd.to_datetime(t).day == 13):\n",
    "        myflights.append('RF11')\n",
    "        flightnotes.append('Convective outflow and coordinate flight, 2, 6, 7 - Guam to S/SW')\n",
    "#RF 12 ---> 2014-02-17 00:04:05\n",
    "    elif (pd.to_datetime(t).month == 2) and (pd.to_datetime(t).day == 17):\n",
    "        myflights.append('RF12')\n",
    "        flightnotes.append('Convective outflow and coordinate flight, 2, 6, 7 - Guam to S/SE')\n",
    "#RF13 starts on 2014-02-19 17:02:05 and ends on 2014-02-20 00:20:03\n",
    "    elif (pd.to_datetime(t).month == 2) and (pd.to_datetime(t).day == 19):\n",
    "        myflights.append('RF13')\n",
    "        flightnotes.append('Photochemical evolution– sunrise, 3 - Guam to E (stagnation point of A.C.)')\n",
    "    elif (pd.to_datetime(t).month == 2) and (pd.to_datetime(t).day == 20):\n",
    "        myflights.append('RF13')\n",
    "        flightnotes.append('Photochemical evolution– sunrise, 3 - Guam to E (stagnation point of A.C.)')\n",
    "#RF 14 ---> 2014-02-22 00:08:05 \n",
    "    else: \n",
    "        myflights.append('RF14')\n",
    "        flightnotes.append('Equator crossing, SH TTL survey, and Manus ozon- esonde, 1, 2, 6 - Guam to Port Moresby FIR (PNG) and Brisbane FIR (AUS)')"
   ]
  },
  {
   "cell_type": "code",
   "execution_count": 32,
   "metadata": {},
   "outputs": [],
   "source": [
    "# put awas into one dataframe, start building with time \n",
    "awas_df = pd.DataFrame({\"Time_UTC\": awas_trc.Time_UTC})\n",
    "awas_df.insert(1, 'Intrument', 'AWAS')\n",
    "\n",
    "# add flight name and notes \n",
    "awas_df.insert(1, 'Flight', myflights)\n",
    "awas_df.insert(2, 'Notes', flightnotes)\n",
    "\n",
    "# add attributes \n",
    "awas_df['GGALT'] = awas_trc.GGALT\n",
    "awas_df['GGLAT'] = awas_trc.GGLAT\n",
    "awas_df['GGLON'] = awas_trc.GGLON\n",
    "\n",
    "# fix RF09 - change awas date 2-5 to 2-4 \n",
    "awas_rf09 = awas_df[awas_df['Flight'] == 'RF09']\n",
    "for idx in awas_rf09.iterrows():\n",
    "        t = idx[1].Time_UTC\n",
    "        thr = t.hour\n",
    "        tmin = t.minute\n",
    "        tsec = t.second\n",
    "        newt = dt.datetime(2014, 2, 4, thr, tmin, tsec)\n",
    "        awas_df.loc[idx[0], 'Time_UTC'] = newt\n",
    "\n",
    "# add all tracers back in \n",
    "for ii in awas_trc.data_vars:\n",
    "    awas_df[str(ii)] = awas_trc[ii]\n",
    "\n",
    "# pickle it! \n",
    "awas_df.to_pickle(\"./awas_data_df_twp.pkl\")"
   ]
  },
  {
   "cell_type": "code",
   "execution_count": null,
   "metadata": {
    "scrolled": true
   },
   "outputs": [],
   "source": []
  },
  {
   "cell_type": "code",
   "execution_count": null,
   "metadata": {},
   "outputs": [],
   "source": []
  },
  {
   "cell_type": "code",
   "execution_count": null,
   "metadata": {},
   "outputs": [],
   "source": []
  },
  {
   "cell_type": "code",
   "execution_count": null,
   "metadata": {},
   "outputs": [],
   "source": []
  },
  {
   "cell_type": "code",
   "execution_count": null,
   "metadata": {},
   "outputs": [],
   "source": []
  },
  {
   "cell_type": "code",
   "execution_count": null,
   "metadata": {},
   "outputs": [],
   "source": []
  },
  {
   "cell_type": "code",
   "execution_count": null,
   "metadata": {},
   "outputs": [],
   "source": []
  },
  {
   "cell_type": "code",
   "execution_count": null,
   "metadata": {},
   "outputs": [],
   "source": []
  }
 ],
 "metadata": {
  "kernelspec": {
   "display_name": "Python 3",
   "language": "python",
   "name": "python3"
  },
  "language_info": {
   "codemirror_mode": {
    "name": "ipython",
    "version": 3
   },
   "file_extension": ".py",
   "mimetype": "text/x-python",
   "name": "python",
   "nbconvert_exporter": "python",
   "pygments_lexer": "ipython3",
   "version": "3.7.4"
  }
 },
 "nbformat": 4,
 "nbformat_minor": 2
}
