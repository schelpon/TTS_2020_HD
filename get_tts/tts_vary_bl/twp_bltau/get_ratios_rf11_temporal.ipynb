{
 "cells": [
  {
   "cell_type": "code",
   "execution_count": 44,
   "metadata": {},
   "outputs": [
    {
     "name": "stdout",
     "output_type": "stream",
     "text": [
      "Once deleted, variables cannot be recovered. Proceed (y/[n])? y\n"
     ]
    }
   ],
   "source": [
    "# script to calculate ratios for use in TTS method \n",
    "# match rf 11 to varying BL for ratios \n",
    "# 1) RF11 UT to RF11 BL \n",
    "# 2) RF11 UT to campaign average BL \n",
    "# 3) RF11 UT to RF11, 10, 09 BL \n",
    "# author: sofia chelpon\n",
    "# date created: 3-28-2020\n",
    "%reset"
   ]
  },
  {
   "cell_type": "code",
   "execution_count": 45,
   "metadata": {},
   "outputs": [],
   "source": [
    "import numpy as np \n",
    "import xarray as xr\n",
    "import pandas as pd \n",
    "import datetime \n",
    "import seaborn as sns\n",
    "import datetime as dt\n",
    "from scipy.optimize import least_squares\n",
    "\n",
    "import matplotlib\n",
    "from matplotlib import pyplot as plt\n",
    "import matplotlib.ticker as mticker\n",
    "from mpl_toolkits import mplot3d\n",
    "\n",
    "%matplotlib inline\n",
    "%config inlinebackend.figure_format='retina'"
   ]
  },
  {
   "cell_type": "code",
   "execution_count": 46,
   "metadata": {},
   "outputs": [],
   "source": [
    "# load in both toga and awas data pickles \n",
    "awas_df = pd.read_pickle(\"/Volumes/scdrive2/TTS_2020/get_ratios/awas_data_df_twp.pkl\")\n",
    "toga_df = pd.read_pickle(\"/Volumes/scdrive2/TTS_2020/get_ratios/toga_data_df_twp.pkl\")"
   ]
  },
  {
   "cell_type": "code",
   "execution_count": 47,
   "metadata": {},
   "outputs": [],
   "source": [
    "################# -------------------- TOGA  -------------------- #################"
   ]
  },
  {
   "cell_type": "code",
   "execution_count": 48,
   "metadata": {},
   "outputs": [],
   "source": [
    "# get mean in UT and BL for 1) flights in total and 2) individual flights \n",
    "toga_means = pd.DataFrame()\n",
    "\n",
    "# rf11\n",
    "toga_means['UT - RF11'] = toga_df.loc[(toga_df['GGALT'] > 12000) & (toga_df['GGALT'] < 14000)\n",
    "                                                          & (toga_df['Flight'] == 'RF11')].mean()\n",
    "toga_means['BL - RF11'] = toga_df.loc[(toga_df['GGALT'] < 2000) \n",
    "                                      #& (toga_df['GGLAT'] < 12) \n",
    "                                      & (toga_df['Flight'] == 'RF11')].mean()\n",
    "\n",
    "# all rf \n",
    "toga_means['BL - All RF'] = toga_df.loc[(toga_df['GGALT'] < 2000)].mean()\n",
    "\n",
    "#nine days prior (RF 06, 07, 08)\n",
    "nineday_flts = toga_df[toga_df['Flight'].isin(['RF11', 'RF10', 'RF09', 'RF08'])]\n",
    "nineday_flts = nineday_flts[nineday_flts['GGALT'] < 2000]\n",
    "toga_means['BL - 9days'] = nineday_flts.mean()\n",
    "\n",
    "toga_means = toga_means.drop('GGALT').drop('GGLAT').drop('GGLON')\n",
    "#toga_means.index.name = \"Trace_Gas\"\n",
    "toga_means = toga_means.reset_index()\n",
    "toga_means = toga_means.rename(columns={'index': 'Trace_Gas'})"
   ]
  },
  {
   "cell_type": "code",
   "execution_count": 49,
   "metadata": {},
   "outputs": [],
   "source": [
    "# ratios for 1) flights in total and 2) individual flights \n",
    "toga_ratios = pd.DataFrame()\n",
    "\n",
    "toga_ratios['Trace_Gas'] = toga_means['Trace_Gas']\n",
    "toga_ratios['RF11_CampAvg'] = toga_means['UT - RF11']/toga_means['BL - All RF']\n",
    "toga_ratios['RF11_RF11'] = toga_means['UT - RF11']/toga_means['BL - RF11']\n",
    "toga_ratios['RF11_9days'] = toga_means['UT - RF11']/toga_means['BL - 9days']\n",
    "toga_ratios\n",
    "\n",
    "# drop species names so doesnt duplicate column when merged \n",
    "toga_ratios = toga_ratios.drop('Trace_Gas', axis = 1)"
   ]
  },
  {
   "cell_type": "code",
   "execution_count": null,
   "metadata": {},
   "outputs": [],
   "source": []
  },
  {
   "cell_type": "code",
   "execution_count": 50,
   "metadata": {},
   "outputs": [],
   "source": [
    "### add attribute to each species (BL, tropo, and UT lifetimes)\n",
    "# read in from xls file to make dataframe\n",
    "mypath2 = '/Volumes/scdrive2/TTS_2020/contrast_readin/toga_lodhalf/toga_lifetimes_12162019.xlsx'\n",
    "toga_lifetimes = pd.read_excel(mypath2)\n",
    "\n",
    "# merge lifetimes to ratios\n",
    "toga_ratios_full = toga_lifetimes.merge(toga_ratios, left_index=True, right_index=True)\n",
    "toga_ratios_full.insert(0, 'Instrument', 'TOGA')"
   ]
  },
  {
   "cell_type": "code",
   "execution_count": 51,
   "metadata": {},
   "outputs": [
    {
     "data": {
      "text/html": [
       "<div>\n",
       "<style scoped>\n",
       "    .dataframe tbody tr th:only-of-type {\n",
       "        vertical-align: middle;\n",
       "    }\n",
       "\n",
       "    .dataframe tbody tr th {\n",
       "        vertical-align: top;\n",
       "    }\n",
       "\n",
       "    .dataframe thead th {\n",
       "        text-align: right;\n",
       "    }\n",
       "</style>\n",
       "<table border=\"1\" class=\"dataframe\">\n",
       "  <thead>\n",
       "    <tr style=\"text-align: right;\">\n",
       "      <th></th>\n",
       "      <th>Instrument</th>\n",
       "      <th>Trace_Gas</th>\n",
       "      <th>BL_tau</th>\n",
       "      <th>TROPO_tau</th>\n",
       "      <th>UT_tau</th>\n",
       "      <th>RF11_CampAvg</th>\n",
       "      <th>RF11_RF11</th>\n",
       "      <th>RF11_9days</th>\n",
       "    </tr>\n",
       "  </thead>\n",
       "  <tbody>\n",
       "    <tr>\n",
       "      <td>0</td>\n",
       "      <td>TOGA</td>\n",
       "      <td>Acetaldehyde</td>\n",
       "      <td>0.289063</td>\n",
       "      <td>0.365920</td>\n",
       "      <td>0.376967</td>\n",
       "      <td>0.330500</td>\n",
       "      <td>0.254290</td>\n",
       "      <td>0.361579</td>\n",
       "    </tr>\n",
       "    <tr>\n",
       "      <td>1</td>\n",
       "      <td>TOGA</td>\n",
       "      <td>n_Butane</td>\n",
       "      <td>1.959376</td>\n",
       "      <td>3.813463</td>\n",
       "      <td>8.057685</td>\n",
       "      <td>0.121756</td>\n",
       "      <td>0.444384</td>\n",
       "      <td>0.226705</td>\n",
       "    </tr>\n",
       "    <tr>\n",
       "      <td>2</td>\n",
       "      <td>TOGA</td>\n",
       "      <td>i_Butane</td>\n",
       "      <td>2.175570</td>\n",
       "      <td>4.031311</td>\n",
       "      <td>7.903592</td>\n",
       "      <td>0.193812</td>\n",
       "      <td>0.605284</td>\n",
       "      <td>0.344903</td>\n",
       "    </tr>\n",
       "    <tr>\n",
       "      <td>3</td>\n",
       "      <td>TOGA</td>\n",
       "      <td>Benzene</td>\n",
       "      <td>3.755136</td>\n",
       "      <td>6.447323</td>\n",
       "      <td>11.947207</td>\n",
       "      <td>0.510844</td>\n",
       "      <td>0.776687</td>\n",
       "      <td>0.732588</td>\n",
       "    </tr>\n",
       "    <tr>\n",
       "      <td>4</td>\n",
       "      <td>TOGA</td>\n",
       "      <td>C3H8</td>\n",
       "      <td>4.214557</td>\n",
       "      <td>9.062693</td>\n",
       "      <td>22.450000</td>\n",
       "      <td>0.369928</td>\n",
       "      <td>1.295028</td>\n",
       "      <td>0.621924</td>\n",
       "    </tr>\n",
       "    <tr>\n",
       "      <td>5</td>\n",
       "      <td>TOGA</td>\n",
       "      <td>Methanol</td>\n",
       "      <td>5.160001</td>\n",
       "      <td>9.567463</td>\n",
       "      <td>20.040000</td>\n",
       "      <td>0.523531</td>\n",
       "      <td>0.535780</td>\n",
       "      <td>0.551562</td>\n",
       "    </tr>\n",
       "    <tr>\n",
       "      <td>6</td>\n",
       "      <td>TOGA</td>\n",
       "      <td>Bromoform</td>\n",
       "      <td>15.069605</td>\n",
       "      <td>23.166062</td>\n",
       "      <td>33.432173</td>\n",
       "      <td>0.643168</td>\n",
       "      <td>1.046715</td>\n",
       "      <td>0.746794</td>\n",
       "    </tr>\n",
       "    <tr>\n",
       "      <td>7</td>\n",
       "      <td>TOGA</td>\n",
       "      <td>Tetrachloroethylene</td>\n",
       "      <td>27.471720</td>\n",
       "      <td>77.860538</td>\n",
       "      <td>317.837040</td>\n",
       "      <td>0.704960</td>\n",
       "      <td>1.085581</td>\n",
       "      <td>0.794124</td>\n",
       "    </tr>\n",
       "    <tr>\n",
       "      <td>8</td>\n",
       "      <td>TOGA</td>\n",
       "      <td>Dibromomethane</td>\n",
       "      <td>39.129546</td>\n",
       "      <td>95.533111</td>\n",
       "      <td>306.353687</td>\n",
       "      <td>0.941895</td>\n",
       "      <td>1.024895</td>\n",
       "      <td>0.940752</td>\n",
       "    </tr>\n",
       "    <tr>\n",
       "      <td>9</td>\n",
       "      <td>TOGA</td>\n",
       "      <td>Dichloromethane</td>\n",
       "      <td>45.867749</td>\n",
       "      <td>109.800998</td>\n",
       "      <td>343.676023</td>\n",
       "      <td>0.870483</td>\n",
       "      <td>0.904175</td>\n",
       "      <td>0.959111</td>\n",
       "    </tr>\n",
       "    <tr>\n",
       "      <td>10</td>\n",
       "      <td>TOGA</td>\n",
       "      <td>Chloroform</td>\n",
       "      <td>52.944984</td>\n",
       "      <td>131.597555</td>\n",
       "      <td>433.937592</td>\n",
       "      <td>0.827249</td>\n",
       "      <td>0.964243</td>\n",
       "      <td>0.892654</td>\n",
       "    </tr>\n",
       "    <tr>\n",
       "      <td>11</td>\n",
       "      <td>TOGA</td>\n",
       "      <td>Carbon_Tetrachloride</td>\n",
       "      <td>12000.000000</td>\n",
       "      <td>12000.000000</td>\n",
       "      <td>12000.000000</td>\n",
       "      <td>0.992441</td>\n",
       "      <td>1.241072</td>\n",
       "      <td>1.006874</td>\n",
       "    </tr>\n",
       "  </tbody>\n",
       "</table>\n",
       "</div>"
      ],
      "text/plain": [
       "   Instrument             Trace_Gas        BL_tau     TROPO_tau        UT_tau  \\\n",
       "0        TOGA          Acetaldehyde      0.289063      0.365920      0.376967   \n",
       "1        TOGA              n_Butane      1.959376      3.813463      8.057685   \n",
       "2        TOGA              i_Butane      2.175570      4.031311      7.903592   \n",
       "3        TOGA               Benzene      3.755136      6.447323     11.947207   \n",
       "4        TOGA                  C3H8      4.214557      9.062693     22.450000   \n",
       "5        TOGA              Methanol      5.160001      9.567463     20.040000   \n",
       "6        TOGA            Bromoform      15.069605     23.166062     33.432173   \n",
       "7        TOGA   Tetrachloroethylene     27.471720     77.860538    317.837040   \n",
       "8        TOGA        Dibromomethane     39.129546     95.533111    306.353687   \n",
       "9        TOGA       Dichloromethane     45.867749    109.800998    343.676023   \n",
       "10       TOGA            Chloroform     52.944984    131.597555    433.937592   \n",
       "11       TOGA  Carbon_Tetrachloride  12000.000000  12000.000000  12000.000000   \n",
       "\n",
       "    RF11_CampAvg  RF11_RF11  RF11_9days  \n",
       "0       0.330500   0.254290    0.361579  \n",
       "1       0.121756   0.444384    0.226705  \n",
       "2       0.193812   0.605284    0.344903  \n",
       "3       0.510844   0.776687    0.732588  \n",
       "4       0.369928   1.295028    0.621924  \n",
       "5       0.523531   0.535780    0.551562  \n",
       "6       0.643168   1.046715    0.746794  \n",
       "7       0.704960   1.085581    0.794124  \n",
       "8       0.941895   1.024895    0.940752  \n",
       "9       0.870483   0.904175    0.959111  \n",
       "10      0.827249   0.964243    0.892654  \n",
       "11      0.992441   1.241072    1.006874  "
      ]
     },
     "execution_count": 51,
     "metadata": {},
     "output_type": "execute_result"
    }
   ],
   "source": [
    "toga_ratios_full"
   ]
  },
  {
   "cell_type": "code",
   "execution_count": 52,
   "metadata": {},
   "outputs": [],
   "source": [
    "################# -------------------- AWAS  -------------------- #################"
   ]
  },
  {
   "cell_type": "code",
   "execution_count": 53,
   "metadata": {},
   "outputs": [],
   "source": [
    "# get mean in UT and BL for 1) flights in total and 2) individual flights \n",
    "awas_means = pd.DataFrame()\n",
    "\n",
    "# rf08\n",
    "awas_means['UT - RF11'] = awas_df.loc[(awas_df['GGALT'] > 12000) & (awas_df['GGALT'] < 14000)\n",
    "                                                          & (awas_df['Flight'] == 'RF11')].mean()\n",
    "awas_means['BL - RF11'] = awas_df.loc[(awas_df['GGALT'] < 2000) \n",
    "                                      #& (awas_df['GGLAT'] < 12)\n",
    "                                      & (awas_df['Flight'] == 'RF11')].mean()\n",
    "\n",
    "# all rf \n",
    "awas_means['BL - All RF'] = awas_df.loc[(awas_df['GGALT'] < 2000)].mean()\n",
    "\n",
    "# nine days prior (RF 06, 07, 08)\n",
    "del nineday_flts\n",
    "nineday_flts = awas_df[awas_df['Flight'].isin(['RF11', 'RF10', 'RF09', 'RF08'])]\n",
    "nineday_flts = nineday_flts[nineday_flts['GGALT'] < 2000]\n",
    "awas_means['BL - 9days'] = nineday_flts.mean()\n",
    "\n",
    "awas_means = awas_means.drop('GGALT').drop('GGLAT').drop('GGLON')\n",
    "#toga_means.index.name = \"Trace_Gas\"\n",
    "awas_means = awas_means.reset_index()\n",
    "awas_means = awas_means.rename(columns={'index': 'Trace_Gas'})"
   ]
  },
  {
   "cell_type": "code",
   "execution_count": 54,
   "metadata": {},
   "outputs": [],
   "source": [
    "# ratios for 1) flights in total and 2) individual flights \n",
    "awas_ratios = pd.DataFrame()\n",
    "\n",
    "awas_ratios['Trace_Gas'] = awas_means['Trace_Gas']\n",
    "awas_ratios['RF11_CampAvg'] = awas_means['UT - RF11']/awas_means['BL - All RF']\n",
    "awas_ratios['RF11_RF11'] = awas_means['UT - RF11']/awas_means['BL - RF11']\n",
    "awas_ratios['RF11_9days'] = awas_means['UT - RF11']/awas_means['BL - 9days']\n",
    "\n",
    "# drop species names so doesnt duplicate column when merged \n",
    "awas_ratios = awas_ratios.drop('Trace_Gas', axis = 1)"
   ]
  },
  {
   "cell_type": "code",
   "execution_count": 55,
   "metadata": {},
   "outputs": [],
   "source": [
    "### add attribute to each species (BL, tropo, and UT lifetimes)\n",
    "# read in from xls file to make dataframe\n",
    "mypath2 = '/Volumes/scdrive2/TTS_2020/contrast_readin/awas/awas_lifetimes_12162019.xlsx'\n",
    "awas_lifetimes = pd.read_excel(mypath2)\n",
    "len(awas_lifetimes)\n",
    "\n",
    "# merge lifetimes to ratios \n",
    "awas_ratios_full = awas_lifetimes.merge(awas_ratios, left_index=True, right_index=True)\n",
    "awas_ratios_full.insert(0, 'Instrument', 'AWAS')"
   ]
  },
  {
   "cell_type": "code",
   "execution_count": null,
   "metadata": {},
   "outputs": [],
   "source": []
  },
  {
   "cell_type": "code",
   "execution_count": null,
   "metadata": {},
   "outputs": [],
   "source": []
  },
  {
   "cell_type": "code",
   "execution_count": 56,
   "metadata": {},
   "outputs": [],
   "source": [
    "################# -------------------- MERGE THE TWO  -------------------- #################"
   ]
  },
  {
   "cell_type": "code",
   "execution_count": 57,
   "metadata": {},
   "outputs": [],
   "source": [
    "master_list = awas_ratios_full\n",
    "master_list = master_list.append(toga_ratios_full, ignore_index = True, sort = False)\n",
    "\n",
    "# pickle this!! \n",
    "master_list.to_pickle(\"./contrast_ratios_rf11_temporal.pkl\")\n",
    "\n",
    "# look at output \n",
    "#master_list[master_list['Trace_Gas'] == 'Dichloromethane'].drop('BL_tau', axis = 1).drop('UT_tau', axis = 1)"
   ]
  },
  {
   "cell_type": "code",
   "execution_count": null,
   "metadata": {},
   "outputs": [],
   "source": []
  },
  {
   "cell_type": "code",
   "execution_count": null,
   "metadata": {},
   "outputs": [],
   "source": []
  },
  {
   "cell_type": "code",
   "execution_count": null,
   "metadata": {},
   "outputs": [],
   "source": []
  },
  {
   "cell_type": "code",
   "execution_count": null,
   "metadata": {},
   "outputs": [],
   "source": []
  },
  {
   "cell_type": "code",
   "execution_count": null,
   "metadata": {},
   "outputs": [],
   "source": []
  },
  {
   "cell_type": "code",
   "execution_count": null,
   "metadata": {},
   "outputs": [],
   "source": []
  },
  {
   "cell_type": "code",
   "execution_count": null,
   "metadata": {},
   "outputs": [],
   "source": []
  },
  {
   "cell_type": "code",
   "execution_count": 260,
   "metadata": {},
   "outputs": [],
   "source": []
  },
  {
   "cell_type": "code",
   "execution_count": 283,
   "metadata": {},
   "outputs": [],
   "source": []
  },
  {
   "cell_type": "code",
   "execution_count": null,
   "metadata": {},
   "outputs": [],
   "source": []
  },
  {
   "cell_type": "code",
   "execution_count": 313,
   "metadata": {},
   "outputs": [],
   "source": []
  },
  {
   "cell_type": "code",
   "execution_count": null,
   "metadata": {},
   "outputs": [],
   "source": []
  },
  {
   "cell_type": "code",
   "execution_count": 366,
   "metadata": {},
   "outputs": [],
   "source": []
  },
  {
   "cell_type": "code",
   "execution_count": null,
   "metadata": {},
   "outputs": [],
   "source": []
  },
  {
   "cell_type": "code",
   "execution_count": null,
   "metadata": {},
   "outputs": [],
   "source": []
  },
  {
   "cell_type": "code",
   "execution_count": 363,
   "metadata": {},
   "outputs": [],
   "source": []
  },
  {
   "cell_type": "code",
   "execution_count": null,
   "metadata": {},
   "outputs": [],
   "source": []
  },
  {
   "cell_type": "code",
   "execution_count": null,
   "metadata": {},
   "outputs": [],
   "source": []
  },
  {
   "cell_type": "code",
   "execution_count": null,
   "metadata": {},
   "outputs": [],
   "source": []
  },
  {
   "cell_type": "code",
   "execution_count": null,
   "metadata": {},
   "outputs": [],
   "source": []
  },
  {
   "cell_type": "code",
   "execution_count": 408,
   "metadata": {},
   "outputs": [],
   "source": []
  },
  {
   "cell_type": "code",
   "execution_count": null,
   "metadata": {},
   "outputs": [],
   "source": []
  },
  {
   "cell_type": "code",
   "execution_count": null,
   "metadata": {},
   "outputs": [],
   "source": []
  },
  {
   "cell_type": "code",
   "execution_count": null,
   "metadata": {},
   "outputs": [],
   "source": []
  }
 ],
 "metadata": {
  "kernelspec": {
   "display_name": "Python [conda env:py3] *",
   "language": "python",
   "name": "conda-env-py3-py"
  },
  "language_info": {
   "codemirror_mode": {
    "name": "ipython",
    "version": 3
   },
   "file_extension": ".py",
   "mimetype": "text/x-python",
   "name": "python",
   "nbconvert_exporter": "python",
   "pygments_lexer": "ipython3",
   "version": "3.7.4"
  }
 },
 "nbformat": 4,
 "nbformat_minor": 2
}
