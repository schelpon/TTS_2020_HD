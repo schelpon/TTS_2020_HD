{
 "cells": [
  {
   "cell_type": "code",
   "execution_count": 196,
   "metadata": {},
   "outputs": [
    {
     "name": "stdout",
     "output_type": "stream",
     "text": [
      "Once deleted, variables cannot be recovered. Proceed (y/[n])? y\n"
     ]
    }
   ],
   "source": [
    "# script to plot TTS for all UT segments \n",
    "# date created: 3/3/2020\n",
    "# author: sofia chelpon\n",
    "%reset"
   ]
  },
  {
   "cell_type": "code",
   "execution_count": 1,
   "metadata": {},
   "outputs": [],
   "source": [
    "############ --------------- PREP WORKSPACE --------------- ###########\n",
    "import numpy as np \n",
    "import pandas as pd\n",
    "\n",
    "import matplotlib\n",
    "from matplotlib import pyplot as plt\n",
    "import seaborn as sns\n",
    "\n",
    "%matplotlib inline\n",
    "%config inlinebackend.figure_format='retina'\n",
    "\n",
    "# import my TTS module, need to add path to folder\n",
    "import sys\n",
    "sys.path.insert(1, '/Volumes/scdrive2/TTS_2020/base_tts_code/')\n",
    "import tts_mod"
   ]
  },
  {
   "cell_type": "code",
   "execution_count": 2,
   "metadata": {},
   "outputs": [],
   "source": [
    "############ --------------- LOAD SEGMENT DATA --------------- ###########\n",
    "utbl_allseg = pd.read_pickle('/Volumes/scdrive2/TTS_2020/get_tts/tts_vary_ut/MD2_outputs/campavgbl_twp_tropotau/utbl_allseg_campavgbl_tropotau_twp.pkl')\n",
    "mustar_allseg = pd.read_pickle('/Volumes/scdrive2/TTS_2020/get_tts/tts_vary_ut/MD2_outputs/campavgbl_twp_tropotau/mustar_allseg_campavgbl_tropotau_twp.pkl')\n",
    "tau_allseg = pd.read_pickle('/Volumes/scdrive2/TTS_2020/get_tts/tts_vary_ut/MD2_outputs/campavgbl_twp_tropotau/tau_allseg_campavgbl_tropotau_twp.pkl')\n",
    "t_allseg = pd.read_pickle('/Volumes/scdrive2/TTS_2020/get_tts/tts_vary_ut/MD2_outputs/campavgbl_twp_tropotau/t_allseg_campavgbl_tropotau_twp.pkl')\n",
    "gf_allseg = pd.read_pickle('/Volumes/scdrive2/TTS_2020/get_tts/tts_vary_ut/MD2_outputs/campavgbl_twp_tropotau/gf_allseg_campavgbl_tropotau_twp.pkl')\n",
    "seg_info = pd.read_pickle('/Volumes/scdrive2/TTS_2020/get_tts/tts_vary_ut/MD2_outputs/campavgbl_twp_tropotau/segment_info_campavgbl_tropotau_twp.pkl')\n",
    "trcnames_allseg = pd.read_pickle(\"/Volumes/scdrive2/TTS_2020/get_tts/tts_vary_ut/MD2_outputs/campavgbl_twp_tropotau/trcnames_allseg_twp_tropotau.pkl\")"
   ]
  },
  {
   "cell_type": "code",
   "execution_count": null,
   "metadata": {},
   "outputs": [],
   "source": []
  },
  {
   "cell_type": "code",
   "execution_count": 3,
   "metadata": {},
   "outputs": [],
   "source": [
    "############ --------------- FILTER BY R^2 VALUES --------------- ###########\n",
    "high_r2_idx = np.ndarray.flatten(np.argwhere(seg_info['r squared'].values >= 0.65))\n",
    "\n",
    "seg_info_screened = seg_info.iloc[high_r2_idx]\n",
    "\n",
    "# screen vars \n",
    "mustar_allseg_screened = mustar_allseg[high_r2_idx]\n",
    "utbl_allseg_screened = utbl_allseg[high_r2_idx]\n",
    "tau_allseg_screened = tau_allseg[high_r2_idx]\n",
    "trcnames_allseg_screened = trcnames_allseg[high_r2_idx]\n",
    "\n",
    "gf_allseg_screened = gf_allseg[high_r2_idx]\n",
    "t_allseg_screened = t_allseg[high_r2_idx]"
   ]
  },
  {
   "cell_type": "code",
   "execution_count": null,
   "metadata": {},
   "outputs": [],
   "source": []
  },
  {
   "cell_type": "code",
   "execution_count": 4,
   "metadata": {
    "scrolled": true
   },
   "outputs": [],
   "source": [
    "############ --------------- GET SEGMENT AVERAGE --------------- ###########"
   ]
  },
  {
   "cell_type": "code",
   "execution_count": 5,
   "metadata": {},
   "outputs": [],
   "source": [
    "### GET INDEX FOR EACH TRACER IN COLUMN (NOT SAME FOR EVERY COLUMN)\n",
    "# tracer names, full list \n",
    "names = trcnames_allseg[8].values\n",
    "\n",
    "fill = np.empty(len(seg_info_screened))\n",
    "fill[:] = np.nan\n",
    "\n",
    "# thing to fill with index of each tracer in every column \n",
    "trc_idx = pd.DataFrame()\n",
    "for nn in names:\n",
    "    trc_idx[nn] = pd.Series(fill)\n",
    "    \n",
    "# loop through, get index location for every tracer \n",
    "col = list(trcnames_allseg_screened)\n",
    "for nn in names:\n",
    "    nnidx = []\n",
    "    for i in col:\n",
    "        idx = np.argwhere(trcnames_allseg_screened[i].values == nn)\n",
    "        if (len(idx) > 0):\n",
    "            nnidx.append(np.ndarray.item(idx))\n",
    "        else: \n",
    "            nnidx.append(np.nan)\n",
    "    trc_idx[nn] = nnidx "
   ]
  },
  {
   "cell_type": "code",
   "execution_count": 6,
   "metadata": {},
   "outputs": [],
   "source": [
    "### SIMPLE ONES \n",
    "# tau, use full list \n",
    "avg_tau = np.empty(52)\n",
    "avg_tau[:] = np.nan\n",
    "avg_tau = tau_allseg[8]\n",
    "\n",
    "# get r2, tau \n",
    "avg_r2 = seg_info_screened['r squared'].mean()"
   ]
  },
  {
   "cell_type": "code",
   "execution_count": 7,
   "metadata": {},
   "outputs": [],
   "source": [
    "### FIT, FIG A \n",
    "avg_utbl = np.empty(52)\n",
    "avg_utbl[:] = np.nan\n",
    "\n",
    "avg_mustar = np.empty(52)\n",
    "avg_mustar[:] = np.nan\n",
    "\n",
    "col = list(utbl_allseg_screened)\n",
    "\n",
    "# loop through every tracer, get average \n",
    "for ii, nn in enumerate(names):\n",
    "    indnan = trc_idx[nn].values \n",
    "    trc_utbl = []\n",
    "    trc_mustar = []\n",
    "    for i, idx in enumerate(col):\n",
    "        tt = indnan[i]\n",
    "        if (np.isfinite(tt) == True):\n",
    "            trc_utbl.append(utbl_allseg_screened[idx].loc[int(tt)])\n",
    "            trc_mustar.append(mustar_allseg_screened[idx].loc[int(tt)])\n",
    "    avg_utbl[ii] = np.mean(trc_utbl)\n",
    "    avg_mustar[ii] = np.mean(trc_mustar)"
   ]
  },
  {
   "cell_type": "code",
   "execution_count": 8,
   "metadata": {},
   "outputs": [],
   "source": [
    "### GREENS FUNC, FIG B \n",
    "avg_gf = gf_allseg_screened.mean(axis = 1)\n",
    "avg_t = t_allseg_screened.mean(axis = 1)"
   ]
  },
  {
   "cell_type": "code",
   "execution_count": 9,
   "metadata": {},
   "outputs": [],
   "source": [
    "avg_mode_age = seg_info_screened['mode age'].mean()\n",
    "avg_mean_age = seg_info_screened['mean age'].mean()"
   ]
  },
  {
   "cell_type": "code",
   "execution_count": 10,
   "metadata": {},
   "outputs": [],
   "source": [
    "####################################################################################\n",
    "####################################################################################"
   ]
  },
  {
   "cell_type": "code",
   "execution_count": null,
   "metadata": {},
   "outputs": [],
   "source": []
  },
  {
   "cell_type": "code",
   "execution_count": 12,
   "metadata": {},
   "outputs": [
    {
     "data": {
      "text/html": [
       "<div>\n",
       "<style scoped>\n",
       "    .dataframe tbody tr th:only-of-type {\n",
       "        vertical-align: middle;\n",
       "    }\n",
       "\n",
       "    .dataframe tbody tr th {\n",
       "        vertical-align: top;\n",
       "    }\n",
       "\n",
       "    .dataframe thead th {\n",
       "        text-align: right;\n",
       "    }\n",
       "</style>\n",
       "<table border=\"1\" class=\"dataframe\">\n",
       "  <thead>\n",
       "    <tr style=\"text-align: right;\">\n",
       "      <th></th>\n",
       "      <th>Time_UTC</th>\n",
       "      <th>Flight</th>\n",
       "      <th>r squared</th>\n",
       "      <th>mean age</th>\n",
       "      <th>mode age</th>\n",
       "    </tr>\n",
       "  </thead>\n",
       "  <tbody>\n",
       "    <tr>\n",
       "      <th>0</th>\n",
       "      <td>2014-01-22 01:44:00</td>\n",
       "      <td>RF05</td>\n",
       "      <td>0.726722</td>\n",
       "      <td>16.190662</td>\n",
       "      <td>4.365920</td>\n",
       "    </tr>\n",
       "    <tr>\n",
       "      <th>1</th>\n",
       "      <td>2014-01-22 01:55:15</td>\n",
       "      <td>RF05</td>\n",
       "      <td>0.786988</td>\n",
       "      <td>16.904956</td>\n",
       "      <td>4.365920</td>\n",
       "    </tr>\n",
       "    <tr>\n",
       "      <th>2</th>\n",
       "      <td>2014-01-22 02:06:30</td>\n",
       "      <td>RF05</td>\n",
       "      <td>0.819200</td>\n",
       "      <td>21.287723</td>\n",
       "      <td>5.615920</td>\n",
       "    </tr>\n",
       "    <tr>\n",
       "      <th>3</th>\n",
       "      <td>2014-01-22 02:17:45</td>\n",
       "      <td>RF05</td>\n",
       "      <td>0.720842</td>\n",
       "      <td>17.417228</td>\n",
       "      <td>4.615920</td>\n",
       "    </tr>\n",
       "    <tr>\n",
       "      <th>6</th>\n",
       "      <td>2014-01-22 02:42:44</td>\n",
       "      <td>RF05</td>\n",
       "      <td>0.664064</td>\n",
       "      <td>10.582256</td>\n",
       "      <td>2.689426</td>\n",
       "    </tr>\n",
       "    <tr>\n",
       "      <th>...</th>\n",
       "      <td>...</td>\n",
       "      <td>...</td>\n",
       "      <td>...</td>\n",
       "      <td>...</td>\n",
       "      <td>...</td>\n",
       "    </tr>\n",
       "    <tr>\n",
       "      <th>157</th>\n",
       "      <td>2014-02-22 01:15:43</td>\n",
       "      <td>RF14</td>\n",
       "      <td>0.905553</td>\n",
       "      <td>18.844869</td>\n",
       "      <td>4.865920</td>\n",
       "    </tr>\n",
       "    <tr>\n",
       "      <th>158</th>\n",
       "      <td>2014-02-22 01:24:44</td>\n",
       "      <td>RF14</td>\n",
       "      <td>0.927163</td>\n",
       "      <td>31.931584</td>\n",
       "      <td>8.365920</td>\n",
       "    </tr>\n",
       "    <tr>\n",
       "      <th>159</th>\n",
       "      <td>2014-02-22 01:33:43</td>\n",
       "      <td>RF14</td>\n",
       "      <td>0.908733</td>\n",
       "      <td>20.527447</td>\n",
       "      <td>5.365920</td>\n",
       "    </tr>\n",
       "    <tr>\n",
       "      <th>160</th>\n",
       "      <td>2014-02-22 01:42:44</td>\n",
       "      <td>RF14</td>\n",
       "      <td>0.931864</td>\n",
       "      <td>27.369929</td>\n",
       "      <td>7.115920</td>\n",
       "    </tr>\n",
       "    <tr>\n",
       "      <th>161</th>\n",
       "      <td>2014-02-22 01:51:44</td>\n",
       "      <td>RF14</td>\n",
       "      <td>0.917249</td>\n",
       "      <td>24.989936</td>\n",
       "      <td>6.615920</td>\n",
       "    </tr>\n",
       "  </tbody>\n",
       "</table>\n",
       "<p>145 rows × 5 columns</p>\n",
       "</div>"
      ],
      "text/plain": [
       "               Time_UTC Flight  r squared   mean age  mode age\n",
       "0   2014-01-22 01:44:00   RF05   0.726722  16.190662  4.365920\n",
       "1   2014-01-22 01:55:15   RF05   0.786988  16.904956  4.365920\n",
       "2   2014-01-22 02:06:30   RF05   0.819200  21.287723  5.615920\n",
       "3   2014-01-22 02:17:45   RF05   0.720842  17.417228  4.615920\n",
       "6   2014-01-22 02:42:44   RF05   0.664064  10.582256  2.689426\n",
       "..                  ...    ...        ...        ...       ...\n",
       "157 2014-02-22 01:15:43   RF14   0.905553  18.844869  4.865920\n",
       "158 2014-02-22 01:24:44   RF14   0.927163  31.931584  8.365920\n",
       "159 2014-02-22 01:33:43   RF14   0.908733  20.527447  5.365920\n",
       "160 2014-02-22 01:42:44   RF14   0.931864  27.369929  7.115920\n",
       "161 2014-02-22 01:51:44   RF14   0.917249  24.989936  6.615920\n",
       "\n",
       "[145 rows x 5 columns]"
      ]
     },
     "execution_count": 12,
     "metadata": {},
     "output_type": "execute_result"
    }
   ],
   "source": [
    "seg_info_screened"
   ]
  },
  {
   "cell_type": "code",
   "execution_count": 13,
   "metadata": {},
   "outputs": [],
   "source": [
    "############ --------------- FIND MAX CURVES --------------- ###########\n",
    "imax = np.argmax(seg_info_screened['mode age']) \n",
    "max_mode_loc = seg_info_screened.iloc[imax].name\n",
    "max_mean_age = seg_info_screened.iloc[imax]['mean age']\n",
    "max_mode_age = seg_info_screened.iloc[imax]['mode age']\n",
    "\n",
    "max_utbl = utbl_allseg_screened[max_mode_loc].values\n",
    "max_r2 = seg_info_screened['r squared'].iloc[max_mode_loc]\n",
    "max_mustar = mustar_allseg_screened[max_mode_loc].values\n",
    "max_tau = tau_allseg_screened[max_mode_loc].values\n",
    "max_gf = gf_allseg_screened[max_mode_loc].values\n",
    "max_t = t_allseg_screened[max_mode_loc].values\n"
   ]
  },
  {
   "cell_type": "code",
   "execution_count": 127,
   "metadata": {},
   "outputs": [],
   "source": [
    "############ --------------- FIND MIN CURVES --------------- ###########\n",
    "# want SECOND smallest TTS \n",
    "small = seg_info_screened.nsmallest(3, 'mode age')\n",
    "imin = np.where(seg_info_screened['Time_UTC'] == small.iloc[1].Time_UTC)\n",
    "imin = imin[0]\n",
    "imin\n",
    "min_mode_loc = small.iloc[1].name "
   ]
  },
  {
   "cell_type": "code",
   "execution_count": 128,
   "metadata": {},
   "outputs": [
    {
     "name": "stdout",
     "output_type": "stream",
     "text": [
      "2.8859597271574606 42.57544581618625\n",
      "0.8659196166970368 11.115919616697036\n"
     ]
    }
   ],
   "source": [
    "min_mean_age = seg_info_screened.iloc[imin]['mean age'].values[0]\n",
    "min_mode_age = seg_info_screened.iloc[imin]['mode age'].values[0]\n",
    "\n",
    "print(min_mean_age, max_mean_age)\n",
    "print(min_mode_age, max_mode_age)\n",
    "\n",
    "# utbl  \n",
    "min_utbl = utbl_allseg_screened[min_mode_loc].values\n",
    "min_r2 = seg_info_screened['r squared'].loc[min_mode_loc]\n",
    "min_mustar = mustar_allseg_screened[min_mode_loc].values\n",
    "min_tau = tau_allseg_screened[min_mode_loc].values\n",
    "min_gf = gf_allseg_screened[min_mode_loc].values\n",
    "min_t = t_allseg_screened[min_mode_loc].values\n"
   ]
  },
  {
   "cell_type": "code",
   "execution_count": null,
   "metadata": {},
   "outputs": [],
   "source": []
  },
  {
   "cell_type": "code",
   "execution_count": 129,
   "metadata": {},
   "outputs": [],
   "source": [
    "############ --------------- OLD --------------- ###########\n",
    "############ --------------- FIND MIN CURVES --------------- ###########\n",
    "#imin = np.argmin(seg_info_screened['mode age']) \n",
    "#min_mode_loc = seg_info_screened.iloc[imin].name\n",
    "#min_mean_age = seg_info_screened.iloc[imin]['mean age']\n",
    "#min_mode_age = seg_info_screened.iloc[imin]['mode age']\n",
    "\n",
    "#print(min_mean_age, max_mean_age)\n",
    "#print(min_mode_age, max_mode_age)\n",
    "\n",
    "# utbl  \n",
    "#min_utbl = utbl_allseg_screened[min_mode_loc].values\n",
    "#min_r2 = seg_info_screened['r squared'].loc[min_mode_loc]\n",
    "#min_mustar = mustar_allseg_screened[min_mode_loc].values\n",
    "#min_tau = tau_allseg_screened[min_mode_loc].values\n",
    "#min_gf = gf_allseg_screened[min_mode_loc].values\n",
    "#min_t = t_allseg_screened[min_mode_loc].values"
   ]
  },
  {
   "cell_type": "code",
   "execution_count": null,
   "metadata": {},
   "outputs": [],
   "source": []
  },
  {
   "cell_type": "code",
   "execution_count": 130,
   "metadata": {},
   "outputs": [],
   "source": [
    "###########################################################################################\n",
    "###########################################################################################\n",
    "###########################################################################################\n",
    "# import my TTS module, need to add path to folder\n",
    "import sys\n",
    "sys.path.insert(1, '/Volumes/scdrive2/TTS_2020/base_tts_code/')\n",
    "import tts_mod"
   ]
  },
  {
   "cell_type": "code",
   "execution_count": 132,
   "metadata": {},
   "outputs": [
    {
     "data": {
      "image/png": "[encoded data removed]",
      "text/plain": [
       "<Figure size 1008x288 with 2 Axes>"
      ]
     },
     "metadata": {
      "needs_background": "light"
     },
     "output_type": "display_data"
    }
   ],
   "source": [
    "############ --------------- PLOT IT! --------------- ###########\n",
    "add_meanmode = 0\n",
    "add_scatter = 0\n",
    "add_r2 = 0\n",
    "\n",
    "for idx in np.arange(0, (len(gf_allseg_screened.columns))):\n",
    "    # pull that column \n",
    "    my_r2 = seg_info_screened['r squared'].iloc[idx]\n",
    "    mean_age = seg_info_screened['mean age'].iloc[idx]\n",
    "    mode_age = seg_info_screened['mode age'].iloc[idx]\n",
    "    #\n",
    "    my_tau = tau_allseg_screened.iloc[:,idx].values\n",
    "    my_mustar = mustar_allseg_screened.iloc[:,idx].values\n",
    "    my_utbl = utbl_allseg_screened.iloc[:,idx].values\n",
    "    #\n",
    "    my_gf = gf_allseg_screened.iloc[:,idx].values\n",
    "    my_t = t_allseg_screened.iloc[:,idx].values\n",
    "                                         \n",
    "    # plotting factors \n",
    "    title_str = ' '\n",
    "    my_color = [0.70, 0.75, 0.71] #ash gray    add_scatter = 0\n",
    "    add_r2 = 0\n",
    "    add_meanmode = 0\n",
    "    #plot \n",
    "    if (idx == 0):\n",
    "        overplot = 0\n",
    "        width = 0\n",
    "        height = 0\n",
    "        my_ax = 0\n",
    "        \n",
    "        fig, my_ax, width, height = tts_mod.plot_tts(my_tau, my_mustar, my_utbl, my_r2, \n",
    "                                             my_gf, my_t, mean_age, mode_age, \n",
    "                                             my_color, overplot, add_scatter, add_r2, add_meanmode, \n",
    "                                             my_ax, width, height, title_str)\n",
    "    else: \n",
    "        overplot = 1\n",
    "        tts_mod.plot_tts(my_tau, my_mustar, my_utbl, my_r2, \n",
    "                                             my_gf, my_t, mean_age, mode_age, \n",
    "                                             my_color, overplot, add_scatter, add_r2, add_meanmode, \n",
    "                                             my_ax, width, height, title_str)\n",
    "# add extremes with scatter and r^2 \n",
    "add_meanmode = 1 \n",
    "add_scatter = 1\n",
    "add_r2 = 1 \n",
    "\n",
    "# colors\n",
    "myred = [0.83, 0.13, 0.18] \n",
    "myblue = [0, 0.09, 0.66]\n",
    "\n",
    "# minimum \n",
    "overplot = 1\n",
    "add_meanmode = 1 \n",
    "add_scatter = 1\n",
    "add_r2 = 1 \n",
    "title_str = 'Minimum Mode: '\n",
    "my_color = myred\n",
    "tts_mod.plot_tts(min_tau, min_mustar, min_utbl, min_r2, \n",
    "                        min_gf, min_t, min_mean_age, min_mode_age, \n",
    "                        my_color, overplot, add_scatter, add_r2, add_meanmode, \n",
    "                        my_ax, width, height, title_str)\n",
    "\n",
    "# SEGMENT average, not campaign average\n",
    "overplot = 2\n",
    "add_meanmode = 1 \n",
    "add_scatter = 0\n",
    "add_r2 = 1 \n",
    "title_str = 'Segment Average: '\n",
    "my_color = 'k'\n",
    "tts_mod.plot_tts(avg_tau, avg_mustar, avg_utbl, avg_r2, \n",
    "                        avg_gf, avg_t, avg_mean_age, avg_mode_age, \n",
    "                        my_color, overplot, add_scatter, add_r2, add_meanmode, \n",
    "                        my_ax, width, height, title_str)\n",
    "# maximum \n",
    "overplot = 3\n",
    "add_meanmode = 1 \n",
    "add_scatter = 1\n",
    "add_r2 = 1 \n",
    "title_str = 'Maximum Mode: '\n",
    "my_color = myblue\n",
    "tts_mod.plot_tts(max_tau, max_mustar, max_utbl, max_r2, \n",
    "                        max_gf, min_t, max_mean_age, max_mode_age, \n",
    "                        my_color, overplot, add_scatter, add_r2, add_meanmode, \n",
    "                        my_ax, width, height, title_str)\n",
    "\n",
    "# add grid\n",
    "ax0, ax1 = my_ax\n",
    "ax0.grid(which = 'major')\n",
    "ax1.grid(which = 'major')\n",
    "ax0.set_ylim([0, 1.2])\n",
    "\n",
    "# --------------- save figure \n",
    "svpath = '/Volumes/scdrive2/TTS_2020/get_tts/figures/'\n",
    "fig.savefig(svpath + 'tts_vary_ut_tropotau_campavgbl_twp.pdf')  \n"
   ]
  },
  {
   "cell_type": "code",
   "execution_count": null,
   "metadata": {},
   "outputs": [],
   "source": [
    "###########################################################################################\n",
    "###########################################################################################\n",
    "###########################################################################################"
   ]
  },
  {
   "cell_type": "code",
   "execution_count": null,
   "metadata": {},
   "outputs": [],
   "source": []
  },
  {
   "cell_type": "code",
   "execution_count": null,
   "metadata": {},
   "outputs": [],
   "source": [
    "############ --------------- MEAN, MODE BOXPLOTS --------------- ###########\n",
    "# isolate mean and mode \n",
    "seg_info_clip = pd.DataFrame()\n",
    "seg_info_clip['Mean Age'] = seg_info_screened['mean age'].values\n",
    "seg_info_clip['Mode Age'] = seg_info_screened['mode age'].values\n",
    "\n",
    "# plot \n",
    "mygray = [0.70, 0.75, 0.71]\n",
    "\n",
    "fig, ax = plt.subplots(figsize=(8, 4), ncols=1)\n",
    "sns.set(font_scale=1)\n",
    "sns.set_style(\"whitegrid\")\n",
    "ax = sns.boxplot(data = seg_info_clip, linewidth = 2, orient = 'h', color = mygray, \n",
    "                notch = False, showmeans=True, meanprops={\"marker\":\"x\",\"markeredgecolor\":\"k\",\n",
    "                                           \"markerfacecolor\":\"k\", \"markersize\":11})\n",
    "\n",
    "#ax.grid(which = 'major')\n",
    "sns.set_style(\"whitegrid\")\n",
    "ax.set_title('c) Distribution of Mean and Modal Transit Times', fontsize = 20)\n",
    "ax.set_xlabel(\"Transit Time [days]\" ,fontsize=15)\n",
    "ax.tick_params(labelsize=15)\n",
    "\n",
    "# --------------- save figure \n",
    "svpath = '/Volumes/scdrive2/TTS_2020/get_tts/figures/'\n",
    "fig.savefig(svpath + 'boxplot_vary_ut_tropotau_campavgbl_twp.pdf')  "
   ]
  },
  {
   "cell_type": "code",
   "execution_count": null,
   "metadata": {},
   "outputs": [],
   "source": []
  },
  {
   "cell_type": "code",
   "execution_count": null,
   "metadata": {},
   "outputs": [],
   "source": []
  },
  {
   "cell_type": "code",
   "execution_count": null,
   "metadata": {},
   "outputs": [],
   "source": []
  },
  {
   "cell_type": "code",
   "execution_count": null,
   "metadata": {},
   "outputs": [],
   "source": []
  },
  {
   "cell_type": "code",
   "execution_count": null,
   "metadata": {},
   "outputs": [],
   "source": []
  },
  {
   "cell_type": "code",
   "execution_count": null,
   "metadata": {},
   "outputs": [],
   "source": []
  },
  {
   "cell_type": "code",
   "execution_count": null,
   "metadata": {},
   "outputs": [],
   "source": []
  },
  {
   "cell_type": "code",
   "execution_count": null,
   "metadata": {},
   "outputs": [],
   "source": []
  },
  {
   "cell_type": "code",
   "execution_count": null,
   "metadata": {},
   "outputs": [],
   "source": []
  }
 ],
 "metadata": {
  "kernelspec": {
   "display_name": "Python 3",
   "language": "python",
   "name": "python3"
  },
  "language_info": {
   "codemirror_mode": {
    "name": "ipython",
    "version": 3
   },
   "file_extension": ".py",
   "mimetype": "text/x-python",
   "name": "python",
   "nbconvert_exporter": "python",
   "pygments_lexer": "ipython3",
   "version": "3.7.7"
  }
 },
 "nbformat": 4,
 "nbformat_minor": 2
}
