{
 "cells": [
  {
   "cell_type": "code",
   "execution_count": 29,
   "metadata": {},
   "outputs": [
    {
     "name": "stdout",
     "output_type": "stream",
     "text": [
      "Once deleted, variables cannot be recovered. Proceed (y/[n])? y\n"
     ]
    }
   ],
   "source": [
    "# script to plot TTS for all UT segments \n",
    "# date created: 3/3/2020\n",
    "# author: sofia chelpon\n",
    "%reset"
   ]
  },
  {
   "cell_type": "code",
   "execution_count": 30,
   "metadata": {},
   "outputs": [],
   "source": [
    "############ --------------- PREP WORKSPACE --------------- ###########\n",
    "import numpy as np \n",
    "import pandas as pd\n",
    "\n",
    "import matplotlib\n",
    "from matplotlib import pyplot as plt\n",
    "import seaborn as sns\n",
    "\n",
    "%matplotlib inline\n",
    "%config inlinebackend.figure_format='retina'\n",
    "\n",
    "# import my TTS module, need to add path to folder\n",
    "import sys\n",
    "sys.path.insert(1, '/Volumes/scdrive2/TTS_2020/base_tts_code/')\n",
    "import tts_mod"
   ]
  },
  {
   "cell_type": "code",
   "execution_count": 31,
   "metadata": {},
   "outputs": [],
   "source": [
    "############ --------------- LOAD SEGMENT DATA --------------- ###########\n",
    "utbl_allseg = pd.read_pickle('/Volumes/scdrive2/TTS_2020/get_tts/tts_vary_ut/MD2_outputs/twp_awas_replace_noRF06_082020_020N/utbl_allseg_campavgbl_tropotau_twp_awas_replace_noRF06.pkl')\n",
    "mustar_allseg = pd.read_pickle('/Volumes/scdrive2/TTS_2020/get_tts/tts_vary_ut/MD2_outputs/twp_awas_replace_noRF06_082020_020N/mustar_allseg_campavgbl_tropotau_twp_awas_replace_noRF06.pkl')\n",
    "tau_allseg = pd.read_pickle('/Volumes/scdrive2/TTS_2020/get_tts/tts_vary_ut/MD2_outputs/twp_awas_replace_noRF06_082020_020N/tau_allseg_campavgbl_tropotau_twp_awas_replace_noRF06.pkl')\n",
    "t_allseg = pd.read_pickle('/Volumes/scdrive2/TTS_2020/get_tts/tts_vary_ut/MD2_outputs/twp_awas_replace_noRF06_082020_020N/t_allseg_campavgbl_tropotau_twp_awas_replace_noRF06.pkl')\n",
    "gf_allseg = pd.read_pickle('/Volumes/scdrive2/TTS_2020/get_tts/tts_vary_ut/MD2_outputs/twp_awas_replace_noRF06_082020_020N/gf_allseg_campavgbl_tropotau_twp_awas_replace_noRF06.pkl')\n",
    "seg_info = pd.read_pickle('/Volumes/scdrive2/TTS_2020/get_tts/tts_vary_ut/MD2_outputs/twp_awas_replace_noRF06_082020_020N/segment_info_campavgbl_tropotau_twp_awas_replace_noRF06.pkl')\n",
    "trcnames_allseg = pd.read_pickle(\"/Volumes/scdrive2/TTS_2020/get_tts/tts_vary_ut/MD2_outputs/twp_awas_replace_noRF06_082020_020N/trcnames_allseg_trtau_noRF06.pkl\")"
   ]
  },
  {
   "cell_type": "code",
   "execution_count": null,
   "metadata": {},
   "outputs": [],
   "source": []
  },
  {
   "cell_type": "code",
   "execution_count": 32,
   "metadata": {},
   "outputs": [],
   "source": [
    "############ --------------- FILTER BY R^2 VALUES --------------- ###########\n",
    "high_r2_idx = np.ndarray.flatten(np.argwhere(seg_info['r squared'].values >= 0.5))\n",
    "\n",
    "seg_info_screened = seg_info.iloc[high_r2_idx]\n",
    "\n",
    "# screen vars \n",
    "mustar_allseg_screened = mustar_allseg[high_r2_idx]\n",
    "utbl_allseg_screened = utbl_allseg[high_r2_idx]\n",
    "tau_allseg_screened = tau_allseg[high_r2_idx]\n",
    "trcnames_allseg_screened = trcnames_allseg[high_r2_idx]\n",
    "\n",
    "gf_allseg_screened = gf_allseg[high_r2_idx]\n",
    "t_allseg_screened = t_allseg[high_r2_idx]"
   ]
  },
  {
   "cell_type": "code",
   "execution_count": 33,
   "metadata": {},
   "outputs": [
    {
     "name": "stdout",
     "output_type": "stream",
     "text": [
      "154 144 0.935064935064935\n"
     ]
    }
   ],
   "source": [
    "full_len = len(seg_info)\n",
    "screen_len = len(seg_info_screened)\n",
    "print(full_len, screen_len, screen_len/full_len)"
   ]
  },
  {
   "cell_type": "code",
   "execution_count": 34,
   "metadata": {
    "scrolled": true
   },
   "outputs": [],
   "source": [
    "############ --------------- GET SEGMENT AVERAGE --------------- ###########"
   ]
  },
  {
   "cell_type": "code",
   "execution_count": 35,
   "metadata": {},
   "outputs": [],
   "source": [
    "### GET INDEX FOR EACH TRACER IN COLUMN (NOT SAME FOR EVERY COLUMN)\n",
    "# tracer names, full list \n",
    "names = trcnames_allseg[8].values\n",
    "\n",
    "fill = np.empty(len(seg_info_screened))\n",
    "fill[:] = np.nan\n",
    "\n",
    "# thing to fill with index of each tracer in every column \n",
    "trc_idx = pd.DataFrame()\n",
    "for nn in names:\n",
    "    trc_idx[nn] = pd.Series(fill)\n",
    "    \n",
    "# loop through, get index location for every tracer \n",
    "col = list(trcnames_allseg_screened)\n",
    "for nn in names:\n",
    "    nnidx = []\n",
    "    for i in col:\n",
    "        idx = np.argwhere(trcnames_allseg_screened[i].values == nn)\n",
    "        if (len(idx) > 0):\n",
    "            nnidx.append(np.ndarray.item(idx))\n",
    "        else: \n",
    "            nnidx.append(np.nan)\n",
    "    trc_idx[nn] = nnidx "
   ]
  },
  {
   "cell_type": "code",
   "execution_count": 36,
   "metadata": {},
   "outputs": [],
   "source": [
    "### SIMPLE ONES \n",
    "# tau, use full list \n",
    "avg_tau = np.empty(52)\n",
    "avg_tau[:] = np.nan\n",
    "avg_tau = tau_allseg[8]\n",
    "\n",
    "# get r2, tau \n",
    "avg_r2 = seg_info_screened['r squared'].mean()"
   ]
  },
  {
   "cell_type": "code",
   "execution_count": 37,
   "metadata": {},
   "outputs": [],
   "source": [
    "### FIT, FIG A \n",
    "avg_utbl = np.empty(52)\n",
    "avg_utbl[:] = np.nan\n",
    "\n",
    "avg_mustar = np.empty(52)\n",
    "avg_mustar[:] = np.nan\n",
    "\n",
    "col = list(utbl_allseg_screened)\n",
    "\n",
    "# loop through every tracer, get average \n",
    "for ii, nn in enumerate(names):\n",
    "    indnan = trc_idx[nn].values \n",
    "    trc_utbl = []\n",
    "    trc_mustar = []\n",
    "    for i, idx in enumerate(col):\n",
    "        tt = indnan[i]\n",
    "        if (np.isfinite(tt) == True):\n",
    "            trc_utbl.append(utbl_allseg_screened[idx].loc[int(tt)])\n",
    "            trc_mustar.append(mustar_allseg_screened[idx].loc[int(tt)])\n",
    "    avg_utbl[ii] = np.mean(trc_utbl)\n",
    "    avg_mustar[ii] = np.mean(trc_mustar)"
   ]
  },
  {
   "cell_type": "code",
   "execution_count": 38,
   "metadata": {},
   "outputs": [],
   "source": [
    "### GREENS FUNC, FIG B \n",
    "avg_gf = gf_allseg_screened.mean(axis = 1)\n",
    "avg_t = t_allseg_screened.mean(axis = 1)"
   ]
  },
  {
   "cell_type": "code",
   "execution_count": 39,
   "metadata": {},
   "outputs": [],
   "source": [
    "avg_mode_age = seg_info_screened['mode age'].mean()\n",
    "avg_mean_age = seg_info_screened['mean age'].mean()"
   ]
  },
  {
   "cell_type": "code",
   "execution_count": 40,
   "metadata": {},
   "outputs": [],
   "source": [
    "####################################################################################\n",
    "####################################################################################"
   ]
  },
  {
   "cell_type": "code",
   "execution_count": null,
   "metadata": {},
   "outputs": [],
   "source": []
  },
  {
   "cell_type": "code",
   "execution_count": 41,
   "metadata": {},
   "outputs": [
    {
     "data": {
      "text/html": [
       "<div>\n",
       "<style scoped>\n",
       "    .dataframe tbody tr th:only-of-type {\n",
       "        vertical-align: middle;\n",
       "    }\n",
       "\n",
       "    .dataframe tbody tr th {\n",
       "        vertical-align: top;\n",
       "    }\n",
       "\n",
       "    .dataframe thead th {\n",
       "        text-align: right;\n",
       "    }\n",
       "</style>\n",
       "<table border=\"1\" class=\"dataframe\">\n",
       "  <thead>\n",
       "    <tr style=\"text-align: right;\">\n",
       "      <th></th>\n",
       "      <th>Time_UTC</th>\n",
       "      <th>Flight</th>\n",
       "      <th>r squared</th>\n",
       "      <th>mean age</th>\n",
       "      <th>mode age</th>\n",
       "    </tr>\n",
       "  </thead>\n",
       "  <tbody>\n",
       "    <tr>\n",
       "      <th>0</th>\n",
       "      <td>2014-01-22 01:44:00</td>\n",
       "      <td>RF05</td>\n",
       "      <td>0.703066</td>\n",
       "      <td>13.684965</td>\n",
       "      <td>3.571694</td>\n",
       "    </tr>\n",
       "    <tr>\n",
       "      <th>1</th>\n",
       "      <td>2014-01-22 01:55:15</td>\n",
       "      <td>RF05</td>\n",
       "      <td>0.752697</td>\n",
       "      <td>13.849844</td>\n",
       "      <td>3.571694</td>\n",
       "    </tr>\n",
       "    <tr>\n",
       "      <th>2</th>\n",
       "      <td>2014-01-22 02:06:30</td>\n",
       "      <td>RF05</td>\n",
       "      <td>0.785576</td>\n",
       "      <td>17.685185</td>\n",
       "      <td>4.571694</td>\n",
       "    </tr>\n",
       "    <tr>\n",
       "      <th>3</th>\n",
       "      <td>2014-01-22 02:17:45</td>\n",
       "      <td>RF05</td>\n",
       "      <td>0.675780</td>\n",
       "      <td>14.369213</td>\n",
       "      <td>3.821694</td>\n",
       "    </tr>\n",
       "    <tr>\n",
       "      <th>5</th>\n",
       "      <td>2014-01-22 02:37:56</td>\n",
       "      <td>RF05</td>\n",
       "      <td>0.599524</td>\n",
       "      <td>9.051471</td>\n",
       "      <td>2.321694</td>\n",
       "    </tr>\n",
       "    <tr>\n",
       "      <th>...</th>\n",
       "      <td>...</td>\n",
       "      <td>...</td>\n",
       "      <td>...</td>\n",
       "      <td>...</td>\n",
       "      <td>...</td>\n",
       "    </tr>\n",
       "    <tr>\n",
       "      <th>149</th>\n",
       "      <td>2014-02-22 01:42:44</td>\n",
       "      <td>RF14</td>\n",
       "      <td>0.924512</td>\n",
       "      <td>22.990741</td>\n",
       "      <td>6.071694</td>\n",
       "    </tr>\n",
       "    <tr>\n",
       "      <th>150</th>\n",
       "      <td>2014-02-22 01:51:44</td>\n",
       "      <td>RF14</td>\n",
       "      <td>0.907868</td>\n",
       "      <td>20.527447</td>\n",
       "      <td>5.321694</td>\n",
       "    </tr>\n",
       "    <tr>\n",
       "      <th>151</th>\n",
       "      <td>2014-02-24 23:36:58</td>\n",
       "      <td>RF15</td>\n",
       "      <td>0.838694</td>\n",
       "      <td>18.540920</td>\n",
       "      <td>4.821694</td>\n",
       "    </tr>\n",
       "    <tr>\n",
       "      <th>152</th>\n",
       "      <td>2014-02-24 23:51:51</td>\n",
       "      <td>RF15</td>\n",
       "      <td>0.946636</td>\n",
       "      <td>15.674802</td>\n",
       "      <td>4.110346</td>\n",
       "    </tr>\n",
       "    <tr>\n",
       "      <th>153</th>\n",
       "      <td>2014-02-25 05:19:51</td>\n",
       "      <td>RF15</td>\n",
       "      <td>0.830474</td>\n",
       "      <td>12.916146</td>\n",
       "      <td>3.321694</td>\n",
       "    </tr>\n",
       "  </tbody>\n",
       "</table>\n",
       "<p>144 rows × 5 columns</p>\n",
       "</div>"
      ],
      "text/plain": [
       "               Time_UTC Flight  r squared   mean age  mode age\n",
       "0   2014-01-22 01:44:00   RF05   0.703066  13.684965  3.571694\n",
       "1   2014-01-22 01:55:15   RF05   0.752697  13.849844  3.571694\n",
       "2   2014-01-22 02:06:30   RF05   0.785576  17.685185  4.571694\n",
       "3   2014-01-22 02:17:45   RF05   0.675780  14.369213  3.821694\n",
       "5   2014-01-22 02:37:56   RF05   0.599524   9.051471  2.321694\n",
       "..                  ...    ...        ...        ...       ...\n",
       "149 2014-02-22 01:42:44   RF14   0.924512  22.990741  6.071694\n",
       "150 2014-02-22 01:51:44   RF14   0.907868  20.527447  5.321694\n",
       "151 2014-02-24 23:36:58   RF15   0.838694  18.540920  4.821694\n",
       "152 2014-02-24 23:51:51   RF15   0.946636  15.674802  4.110346\n",
       "153 2014-02-25 05:19:51   RF15   0.830474  12.916146  3.321694\n",
       "\n",
       "[144 rows x 5 columns]"
      ]
     },
     "execution_count": 41,
     "metadata": {},
     "output_type": "execute_result"
    }
   ],
   "source": [
    "seg_info_screened"
   ]
  },
  {
   "cell_type": "code",
   "execution_count": 42,
   "metadata": {},
   "outputs": [],
   "source": [
    "############ --------------- FIND MAX CURVES --------------- ###########\n",
    "imax = np.argmax(seg_info_screened['mode age']) \n",
    "max_mode_loc = seg_info_screened.iloc[imax].name\n",
    "max_mean_age = seg_info_screened.iloc[imax]['mean age']\n",
    "max_mode_age = seg_info_screened.iloc[imax]['mode age']\n",
    "\n",
    "max_utbl = utbl_allseg_screened[max_mode_loc].values\n",
    "max_r2 = seg_info_screened['r squared'].iloc[max_mode_loc]\n",
    "max_mustar = mustar_allseg_screened[max_mode_loc].values\n",
    "max_tau = tau_allseg_screened[max_mode_loc].values\n",
    "max_gf = gf_allseg_screened[max_mode_loc].values\n",
    "max_t = t_allseg_screened[max_mode_loc].values\n"
   ]
  },
  {
   "cell_type": "code",
   "execution_count": 43,
   "metadata": {},
   "outputs": [],
   "source": [
    "############ --------------- FIND MIN CURVES --------------- ###########\n",
    "# want SECOND smallest TTS \n",
    "small = seg_info_screened.nsmallest(3, 'mode age')\n",
    "imin = np.where(seg_info_screened['Time_UTC'] == small.iloc[1].Time_UTC)\n",
    "imin = imin[0]\n",
    "imin\n",
    "min_mode_loc = small.iloc[1].name "
   ]
  },
  {
   "cell_type": "code",
   "execution_count": 44,
   "metadata": {},
   "outputs": [
    {
     "name": "stdout",
     "output_type": "stream",
     "text": [
      "2.0981903110358133 33.80991285403601\n",
      "0.5716937903703413 8.821693790370341\n"
     ]
    }
   ],
   "source": [
    "min_mean_age = seg_info_screened.iloc[imin]['mean age'].values[0]\n",
    "min_mode_age = seg_info_screened.iloc[imin]['mode age'].values[0]\n",
    "\n",
    "print(min_mean_age, max_mean_age)\n",
    "print(min_mode_age, max_mode_age)\n",
    "\n",
    "# utbl  \n",
    "min_utbl = utbl_allseg_screened[min_mode_loc].values\n",
    "min_r2 = seg_info_screened['r squared'].loc[min_mode_loc]\n",
    "min_mustar = mustar_allseg_screened[min_mode_loc].values\n",
    "min_tau = tau_allseg_screened[min_mode_loc].values\n",
    "min_gf = gf_allseg_screened[min_mode_loc].values\n",
    "min_t = t_allseg_screened[min_mode_loc].values\n",
    "min_names = trcnames_allseg_screened[min_mode_loc].values"
   ]
  },
  {
   "cell_type": "code",
   "execution_count": 45,
   "metadata": {},
   "outputs": [
    {
     "data": {
      "text/html": [
       "<div>\n",
       "<style scoped>\n",
       "    .dataframe tbody tr th:only-of-type {\n",
       "        vertical-align: middle;\n",
       "    }\n",
       "\n",
       "    .dataframe tbody tr th {\n",
       "        vertical-align: top;\n",
       "    }\n",
       "\n",
       "    .dataframe thead th {\n",
       "        text-align: right;\n",
       "    }\n",
       "</style>\n",
       "<table border=\"1\" class=\"dataframe\">\n",
       "  <thead>\n",
       "    <tr style=\"text-align: right;\">\n",
       "      <th></th>\n",
       "      <th>names</th>\n",
       "      <th>utbl</th>\n",
       "    </tr>\n",
       "  </thead>\n",
       "  <tbody>\n",
       "    <tr>\n",
       "      <th>9</th>\n",
       "      <td>C6H6_Benzene</td>\n",
       "      <td>1.054438</td>\n",
       "    </tr>\n",
       "    <tr>\n",
       "      <th>13</th>\n",
       "      <td>C3H8</td>\n",
       "      <td>1.182068</td>\n",
       "    </tr>\n",
       "    <tr>\n",
       "      <th>15</th>\n",
       "      <td>C2H2_Ethyne</td>\n",
       "      <td>1.090843</td>\n",
       "    </tr>\n",
       "    <tr>\n",
       "      <th>19</th>\n",
       "      <td>CHBr3_Bromoform</td>\n",
       "      <td>1.020867</td>\n",
       "    </tr>\n",
       "    <tr>\n",
       "      <th>21</th>\n",
       "      <td>C2H4Cl2_1_2_Dichloroethane</td>\n",
       "      <td>1.170449</td>\n",
       "    </tr>\n",
       "    <tr>\n",
       "      <th>26</th>\n",
       "      <td>Dibromomethane</td>\n",
       "      <td>1.048611</td>\n",
       "    </tr>\n",
       "    <tr>\n",
       "      <th>29</th>\n",
       "      <td>CH2Cl2_Methylene_chloride</td>\n",
       "      <td>1.059444</td>\n",
       "    </tr>\n",
       "    <tr>\n",
       "      <th>33</th>\n",
       "      <td>CH3Cl_Methyl_chloride</td>\n",
       "      <td>1.029964</td>\n",
       "    </tr>\n",
       "    <tr>\n",
       "      <th>34</th>\n",
       "      <td>CH3Br_Methyl_bromide</td>\n",
       "      <td>1.105865</td>\n",
       "    </tr>\n",
       "    <tr>\n",
       "      <th>35</th>\n",
       "      <td>OCS_Carbonyl_sulfide</td>\n",
       "      <td>1.005773</td>\n",
       "    </tr>\n",
       "    <tr>\n",
       "      <th>44</th>\n",
       "      <td>Carbon_Tetrachloride</td>\n",
       "      <td>1.059740</td>\n",
       "    </tr>\n",
       "  </tbody>\n",
       "</table>\n",
       "</div>"
      ],
      "text/plain": [
       "                         names      utbl\n",
       "9                 C6H6_Benzene  1.054438\n",
       "13                        C3H8  1.182068\n",
       "15                 C2H2_Ethyne  1.090843\n",
       "19             CHBr3_Bromoform  1.020867\n",
       "21  C2H4Cl2_1_2_Dichloroethane  1.170449\n",
       "26              Dibromomethane  1.048611\n",
       "29   CH2Cl2_Methylene_chloride  1.059444\n",
       "33       CH3Cl_Methyl_chloride  1.029964\n",
       "34        CH3Br_Methyl_bromide  1.105865\n",
       "35        OCS_Carbonyl_sulfide  1.005773\n",
       "44        Carbon_Tetrachloride  1.059740"
      ]
     },
     "execution_count": 45,
     "metadata": {},
     "output_type": "execute_result"
    }
   ],
   "source": [
    "test = pd.DataFrame()\n",
    "test['names'] = min_names\n",
    "test['utbl'] = min_utbl\n",
    "test[test['utbl']>1]"
   ]
  },
  {
   "cell_type": "code",
   "execution_count": 46,
   "metadata": {},
   "outputs": [],
   "source": [
    "############ --------------- OLD --------------- ###########\n",
    "############ --------------- FIND MIN CURVES --------------- ###########\n",
    "#imin = np.argmin(seg_info_screened['mode age']) \n",
    "#min_mode_loc = seg_info_screened.iloc[imin].name\n",
    "#min_mean_age = seg_info_screened.iloc[imin]['mean age']\n",
    "#min_mode_age = seg_info_screened.iloc[imin]['mode age']\n",
    "\n",
    "#print(min_mean_age, max_mean_age)\n",
    "#print(min_mode_age, max_mode_age)\n",
    "\n",
    "# utbl  \n",
    "#min_utbl = utbl_allseg_screened[min_mode_loc].values\n",
    "#min_r2 = seg_info_screened['r squared'].loc[min_mode_loc]\n",
    "#min_mustar = mustar_allseg_screened[min_mode_loc].values\n",
    "#min_tau = tau_allseg_screened[min_mode_loc].values\n",
    "#min_gf = gf_allseg_screened[min_mode_loc].values\n",
    "#min_t = t_allseg_screened[min_mode_loc].values"
   ]
  },
  {
   "cell_type": "code",
   "execution_count": null,
   "metadata": {},
   "outputs": [],
   "source": []
  },
  {
   "cell_type": "code",
   "execution_count": 54,
   "metadata": {},
   "outputs": [],
   "source": [
    "###########################################################################################\n",
    "###########################################################################################\n",
    "###########################################################################################\n",
    "# import my TTS module, need to add path to folder\n",
    "import sys\n",
    "sys.path.insert(1, '/Volumes/scdrive2/TTS_2020/base_tts_code/')\n",
    "import tts_mod"
   ]
  },
  {
   "cell_type": "code",
   "execution_count": 55,
   "metadata": {},
   "outputs": [
    {
     "data": {
      "image/png": "[encoded data removed]",
      "text/plain": [
       "<Figure size 1008x288 with 2 Axes>"
      ]
     },
     "metadata": {
      "needs_background": "light"
     },
     "output_type": "display_data"
    }
   ],
   "source": [
    "############ --------------- PLOT IT! --------------- ###########\n",
    "add_meanmode = 0\n",
    "add_scatter = 0\n",
    "add_r2 = 0\n",
    "factor = 86400 \n",
    "\n",
    "for idx in np.arange(0, (len(gf_allseg_screened.columns))):\n",
    "    # pull that column \n",
    "    my_r2 = seg_info_screened['r squared'].iloc[idx]\n",
    "    mean_age = seg_info_screened['mean age'].iloc[idx]\n",
    "    mode_age = seg_info_screened['mode age'].iloc[idx]\n",
    "    #\n",
    "    my_tau = tau_allseg_screened.iloc[:,idx].values\n",
    "    my_mustar = mustar_allseg_screened.iloc[:,idx].values\n",
    "    my_utbl = utbl_allseg_screened.iloc[:,idx].values\n",
    "    #\n",
    "    my_gf = gf_allseg_screened.iloc[:,idx].values\n",
    "    my_t = t_allseg_screened.iloc[:,idx].values\n",
    "                                         \n",
    "    # plotting factors \n",
    "    title_str = ' '\n",
    "    my_color = [0.70, 0.75, 0.71] #ash gray    add_scatter = 0\n",
    "    add_r2 = 0\n",
    "    add_meanmode = 0\n",
    "    #plot \n",
    "    if (idx == 0):\n",
    "        overplot = 0\n",
    "        width = 0\n",
    "        height = 0\n",
    "        my_ax = 0\n",
    "        \n",
    "        fig, my_ax, width, height = tts_mod.plot_tts(my_tau, my_mustar, my_utbl, my_r2, \n",
    "                                             my_gf*factor, my_t, mean_age, mode_age, \n",
    "                                             my_color, overplot, add_scatter, add_r2, add_meanmode, \n",
    "                                             my_ax, width, height, title_str)\n",
    "    else: \n",
    "        overplot = 1\n",
    "        tts_mod.plot_tts(my_tau, my_mustar, my_utbl, my_r2, \n",
    "                                             my_gf*factor, my_t, mean_age, mode_age, \n",
    "                                             my_color, overplot, add_scatter, add_r2, add_meanmode, \n",
    "                                             my_ax, width, height, title_str)\n",
    "# add extremes with scatter and r^2 \n",
    "add_meanmode = 1 \n",
    "add_scatter = 1\n",
    "add_r2 = 1 \n",
    "\n",
    "# colors\n",
    "myred = [0.83, 0.13, 0.18] \n",
    "myblue = [0, 0.09, 0.66]\n",
    "\n",
    "# minimum \n",
    "overplot = 1\n",
    "add_meanmode = 1 \n",
    "add_scatter = 1\n",
    "add_r2 = 1 \n",
    "title_str = 'Minimum Mode: '\n",
    "my_color = myred\n",
    "tts_mod.plot_tts(min_tau, min_mustar, min_utbl, min_r2, \n",
    "                        min_gf*factor, min_t, min_mean_age, min_mode_age, \n",
    "                        my_color, overplot, add_scatter, add_r2, add_meanmode, \n",
    "                        my_ax, width, height, title_str)\n",
    "\n",
    "# SEGMENT average, not campaign average\n",
    "overplot = 2\n",
    "add_meanmode = 1 \n",
    "add_scatter = 0\n",
    "add_r2 = 1 \n",
    "title_str = 'Segment Average: '\n",
    "my_color = 'k'\n",
    "tts_mod.plot_tts(avg_tau, avg_mustar, avg_utbl, avg_r2, \n",
    "                        avg_gf*factor, avg_t, avg_mean_age, avg_mode_age, \n",
    "                        my_color, overplot, add_scatter, add_r2, add_meanmode, \n",
    "                        my_ax, width, height, title_str)\n",
    "# maximum \n",
    "overplot = 3\n",
    "add_meanmode = 1 \n",
    "add_scatter = 1\n",
    "add_r2 = 1 \n",
    "title_str = 'Maximum Mode: '\n",
    "my_color = myblue\n",
    "tts_mod.plot_tts(max_tau, max_mustar, max_utbl, max_r2, \n",
    "                        max_gf*factor, min_t, max_mean_age, max_mode_age, \n",
    "                        my_color, overplot, add_scatter, add_r2, add_meanmode, \n",
    "                        my_ax, width, height, title_str)\n",
    "\n",
    "# add grid\n",
    "ax0, ax1 = my_ax\n",
    "ax0.grid(which = 'major')\n",
    "ax1.grid(which = 'major')\n",
    "ax0.set_ylim([0, 1.35])\n",
    "\n",
    "# --------------- save figure \n",
    "svpath = '/Volumes/scdrive2/TTS_2020/get_tts/figures/'\n",
    "fig.savefig(svpath + 'tts_vary_ut_tropotau_campavgbl_twp_awas_replace_noRF06_020N.pdf')  \n"
   ]
  },
  {
   "cell_type": "code",
   "execution_count": 51,
   "metadata": {},
   "outputs": [],
   "source": [
    "###########################################################################################\n",
    "###########################################################################################\n",
    "###########################################################################################"
   ]
  },
  {
   "cell_type": "code",
   "execution_count": null,
   "metadata": {},
   "outputs": [],
   "source": []
  },
  {
   "cell_type": "code",
   "execution_count": 65,
   "metadata": {},
   "outputs": [
    {
     "data": {
      "image/png": "[encoded data removed]",
      "text/plain": [
       "<Figure size 576x288 with 1 Axes>"
      ]
     },
     "metadata": {},
     "output_type": "display_data"
    }
   ],
   "source": [
    "############ --------------- MEAN, MODE BOXPLOTS --------------- ###########\n",
    "# isolate mean and mode \n",
    "seg_info_clip = pd.DataFrame()\n",
    "seg_info_clip['Mean Age'] = seg_info_screened['mean age'].values\n",
    "seg_info_clip['Mode Age'] = seg_info_screened['mode age'].values\n",
    "\n",
    "# plot \n",
    "mygray = [0.70, 0.75, 0.71]\n",
    "\n",
    "fig, ax = plt.subplots(figsize=(8, 4), ncols=1)\n",
    "sns.set(font_scale=1)\n",
    "sns.set_style(\"whitegrid\")\n",
    "ax = sns.boxplot(data = seg_info_clip, linewidth = 2, orient = 'h', color = mygray, \n",
    "                notch = False, showmeans=True, meanprops={\"marker\":\"x\",\"markeredgecolor\":\"k\",\n",
    "                                           \"markerfacecolor\":\"k\", \"markersize\":15, \n",
    "                                                         \"markeredgewidth\": 3})\n",
    "#ax.grid(which = 'major')\n",
    "sns.set_style(\"whitegrid\")\n",
    "ax.set_title('Distribution of Mean and Modal Transit Times', fontsize = 20)\n",
    "ax.set_xlabel(\"Transit Time [days]\" ,fontsize=15)\n",
    "ax.tick_params(labelsize=15)\n",
    "\n",
    "# add case studies \n",
    "cs_short_mean = 2.1\n",
    "cs_short_mode = 0.6\n",
    "cs_long_mean = 23.5\n",
    "cs_long_mode = 6.1\n",
    "\n",
    "ax.plot(cs_short_mean, 0, '^', markeredgecolor = 'k', color = 'r', markersize = 15)\n",
    "ax.plot(cs_long_mean, 0, '^', markeredgecolor = 'k', color = 'b', markersize = 15)\n",
    "\n",
    "ax.plot(cs_short_mode, 1, '^', markeredgecolor = 'k', color = 'r', markersize = 15)\n",
    "ax.plot(cs_long_mode, 1, '^', markeredgecolor = 'k', color = 'b', markersize = 15)\n",
    "\n",
    "# --------------- save figure \n",
    "svpath = '/Volumes/scdrive2/TTS_2020/get_tts/figures/'\n",
    "fig.savefig(svpath + 'boxplot_vary_ut_tropotau_campavgbl_twp_awas_replace_noRF06.pdf')  "
   ]
  },
  {
   "cell_type": "code",
   "execution_count": 37,
   "metadata": {},
   "outputs": [
    {
     "name": "stdout",
     "output_type": "stream",
     "text": [
      "2.063225282367313\n",
      "33.80991285403601\n"
     ]
    }
   ],
   "source": [
    "########## mean info ##########\n",
    "print(seg_info_screened['mean age'].min())\n",
    "print(seg_info_screened['mean age'].max())"
   ]
  },
  {
   "cell_type": "code",
   "execution_count": 53,
   "metadata": {},
   "outputs": [
    {
     "name": "stdout",
     "output_type": "stream",
     "text": [
      "0    17.157269\n",
      "dtype: float64\n",
      "12.968250189858278\n",
      "12.427706839300058\n"
     ]
    }
   ],
   "source": [
    "print(seg_info_screened['mean age'].mode())\n",
    "print(seg_info_screened['mean age'].mean())\n",
    "print(seg_info_screened['mean age'].median())"
   ]
  },
  {
   "cell_type": "code",
   "execution_count": 51,
   "metadata": {},
   "outputs": [
    {
     "name": "stdout",
     "output_type": "stream",
     "text": [
      "8.758469242020348\n",
      "16.421957679146455\n"
     ]
    }
   ],
   "source": [
    "print(np.percentile(seg_info_screened['mean age'], 25))\n",
    "print(np.percentile(seg_info_screened['mean age'], 75))"
   ]
  },
  {
   "cell_type": "code",
   "execution_count": null,
   "metadata": {},
   "outputs": [],
   "source": []
  },
  {
   "cell_type": "code",
   "execution_count": 40,
   "metadata": {},
   "outputs": [
    {
     "name": "stdout",
     "output_type": "stream",
     "text": [
      "0.5716937903703413\n",
      "8.821693790370341\n"
     ]
    }
   ],
   "source": [
    "########## mode info ##########\n",
    "print(seg_info_screened['mode age'].min())\n",
    "print(seg_info_screened['mode age'].max())"
   ]
  },
  {
   "cell_type": "code",
   "execution_count": 54,
   "metadata": {},
   "outputs": [
    {
     "name": "stdout",
     "output_type": "stream",
     "text": [
      "0    2.071694\n",
      "dtype: float64\n",
      "3.431911615170117\n",
      "3.3216937903703414\n"
     ]
    }
   ],
   "source": [
    "print(seg_info_screened['mode age'].mode())\n",
    "print(seg_info_screened['mode age'].mean())\n",
    "print(seg_info_screened['mode age'].median())"
   ]
  },
  {
   "cell_type": "code",
   "execution_count": 52,
   "metadata": {},
   "outputs": [
    {
     "name": "stdout",
     "output_type": "stream",
     "text": [
      "2.3216937903703414\n",
      "4.321693790370341\n"
     ]
    }
   ],
   "source": [
    "print(np.percentile(seg_info_screened['mode age'], 25))\n",
    "print(np.percentile(seg_info_screened['mode age'], 75))"
   ]
  },
  {
   "cell_type": "code",
   "execution_count": null,
   "metadata": {},
   "outputs": [],
   "source": []
  },
  {
   "cell_type": "code",
   "execution_count": null,
   "metadata": {},
   "outputs": [],
   "source": []
  },
  {
   "cell_type": "code",
   "execution_count": null,
   "metadata": {},
   "outputs": [],
   "source": []
  }
 ],
 "metadata": {
  "kernelspec": {
   "display_name": "Python 3",
   "language": "python",
   "name": "python3"
  },
  "language_info": {
   "codemirror_mode": {
    "name": "ipython",
    "version": 3
   },
   "file_extension": ".py",
   "mimetype": "text/x-python",
   "name": "python",
   "nbconvert_exporter": "python",
   "pygments_lexer": "ipython3",
   "version": "3.7.7"
  }
 },
 "nbformat": 4,
 "nbformat_minor": 2
}
